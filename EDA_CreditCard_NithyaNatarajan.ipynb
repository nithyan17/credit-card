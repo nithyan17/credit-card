{
 "cells": [
  {
   "cell_type": "code",
   "execution_count": 1,
   "metadata": {},
   "outputs": [],
   "source": [
    "# Defining the environment variables \n",
    "\n",
    "import os\n",
    "import sys\n",
    "os.environ[\"PYSPARK_PYTHON\"] = \"/usr/bin/python3\"\n",
    "os.environ[\"JAVA_HOME\"] = \"/usr/java/jdk1.8.0_161/jre\"\n",
    "os.environ[\"SPARK_HOME\"] = \"/home/ec2-user/spark-2.4.4-bin-hadoop2.7\"\n",
    "os.environ[\"PYLIB\"] = os.environ[\"SPARK_HOME\"] + \"/python/lib\"\n",
    "sys.path.insert(0, os.environ[\"PYLIB\"] +\"/py4j-0.10.7-src.zip\")\n",
    "sys.path.insert(0, os.environ[\"PYLIB\"] +\"/pyspark.zip\")"
   ]
  },
  {
   "cell_type": "code",
   "execution_count": 2,
   "metadata": {},
   "outputs": [],
   "source": [
    "# Importing the SparkSession library\n",
    "\n",
    "from pyspark.sql import SparkSession\n",
    "\n",
    "\n",
    "# Creating the SparkSession object\n",
    "\n",
    "spark = SparkSession.builder \\\n",
    "                    .appName('credit_card')\\\n",
    "                    .getOrCreate()"
   ]
  },
  {
   "cell_type": "code",
   "execution_count": 3,
   "metadata": {},
   "outputs": [
    {
     "data": {
      "text/html": [
       "\n",
       "            <div>\n",
       "                <p><b>SparkSession - in-memory</b></p>\n",
       "                \n",
       "        <div>\n",
       "            <p><b>SparkContext</b></p>\n",
       "\n",
       "            <p><a href=\"http://ip-172-31-61-111.ec2.internal:4041\">Spark UI</a></p>\n",
       "\n",
       "            <dl>\n",
       "              <dt>Version</dt>\n",
       "                <dd><code>v2.4.4</code></dd>\n",
       "              <dt>Master</dt>\n",
       "                <dd><code>local[*]</code></dd>\n",
       "              <dt>AppName</dt>\n",
       "                <dd><code>credit_card</code></dd>\n",
       "            </dl>\n",
       "        </div>\n",
       "        \n",
       "            </div>\n",
       "        "
      ],
      "text/plain": [
       "<pyspark.sql.session.SparkSession at 0x7f791b083990>"
      ]
     },
     "execution_count": 3,
     "metadata": {},
     "output_type": "execute_result"
    }
   ],
   "source": [
    "spark"
   ]
  },
  {
   "cell_type": "code",
   "execution_count": 191,
   "metadata": {},
   "outputs": [],
   "source": [
    "#reading the credit details file\n",
    "\n",
    "\n",
    "url1 = \"https://s3.amazonaws.com/sqoop.oozie.ml/credit_record.csv\"\n",
    "from pyspark import SparkFiles\n",
    "spark.sparkContext.addFile(url1)\n",
    "df_credit = spark.read.csv(SparkFiles.get(\"credit_record.csv\"), header=True, inferSchema= True)"
   ]
  },
  {
   "cell_type": "code",
   "execution_count": 192,
   "metadata": {},
   "outputs": [
    {
     "name": "stdout",
     "output_type": "stream",
     "text": [
      "root\n",
      " |-- ID: integer (nullable = true)\n",
      " |-- MONTHS_BALANCE: integer (nullable = true)\n",
      " |-- STATUS: string (nullable = true)\n",
      "\n"
     ]
    }
   ],
   "source": [
    "df_credit.printSchema()"
   ]
  },
  {
   "cell_type": "markdown",
   "metadata": {},
   "source": [
    "# Credit record EDA"
   ]
  },
  {
   "cell_type": "code",
   "execution_count": 6,
   "metadata": {},
   "outputs": [
    {
     "name": "stdout",
     "output_type": "stream",
     "text": [
      "+-------+--------------+------+\n",
      "|     ID|MONTHS_BALANCE|STATUS|\n",
      "+-------+--------------+------+\n",
      "|5001711|             0|     X|\n",
      "|5001711|            -1|     0|\n",
      "|5001711|            -2|     0|\n",
      "|5001711|            -3|     0|\n",
      "|5001712|             0|     C|\n",
      "+-------+--------------+------+\n",
      "only showing top 5 rows\n",
      "\n"
     ]
    }
   ],
   "source": [
    "df_credit.show(5)"
   ]
  },
  {
   "cell_type": "code",
   "execution_count": 7,
   "metadata": {},
   "outputs": [
    {
     "data": {
      "text/plain": [
       "1048575"
      ]
     },
     "execution_count": 7,
     "metadata": {},
     "output_type": "execute_result"
    }
   ],
   "source": [
    "df_credit.count()"
   ]
  },
  {
   "cell_type": "code",
   "execution_count": 25,
   "metadata": {},
   "outputs": [],
   "source": [
    "import seaborn as sns\n",
    "import pandas as pd\n",
    "import matplotlib.pyplot as plt\n"
   ]
  },
  {
   "cell_type": "code",
   "execution_count": 9,
   "metadata": {},
   "outputs": [
    {
     "data": {
      "text/html": [
       "<div>\n",
       "<style scoped>\n",
       "    .dataframe tbody tr th:only-of-type {\n",
       "        vertical-align: middle;\n",
       "    }\n",
       "\n",
       "    .dataframe tbody tr th {\n",
       "        vertical-align: top;\n",
       "    }\n",
       "\n",
       "    .dataframe thead th {\n",
       "        text-align: right;\n",
       "    }\n",
       "</style>\n",
       "<table border=\"1\" class=\"dataframe\">\n",
       "  <thead>\n",
       "    <tr style=\"text-align: right;\">\n",
       "      <th></th>\n",
       "      <th>STATUS</th>\n",
       "      <th>count</th>\n",
       "    </tr>\n",
       "  </thead>\n",
       "  <tbody>\n",
       "    <tr>\n",
       "      <th>0</th>\n",
       "      <td>3</td>\n",
       "      <td>320</td>\n",
       "    </tr>\n",
       "    <tr>\n",
       "      <th>1</th>\n",
       "      <td>0</td>\n",
       "      <td>383120</td>\n",
       "    </tr>\n",
       "    <tr>\n",
       "      <th>2</th>\n",
       "      <td>5</td>\n",
       "      <td>1693</td>\n",
       "    </tr>\n",
       "    <tr>\n",
       "      <th>3</th>\n",
       "      <td>C</td>\n",
       "      <td>442031</td>\n",
       "    </tr>\n",
       "    <tr>\n",
       "      <th>4</th>\n",
       "      <td>X</td>\n",
       "      <td>209230</td>\n",
       "    </tr>\n",
       "    <tr>\n",
       "      <th>5</th>\n",
       "      <td>1</td>\n",
       "      <td>11090</td>\n",
       "    </tr>\n",
       "    <tr>\n",
       "      <th>6</th>\n",
       "      <td>4</td>\n",
       "      <td>223</td>\n",
       "    </tr>\n",
       "    <tr>\n",
       "      <th>7</th>\n",
       "      <td>2</td>\n",
       "      <td>868</td>\n",
       "    </tr>\n",
       "  </tbody>\n",
       "</table>\n",
       "</div>"
      ],
      "text/plain": [
       "  STATUS   count\n",
       "0      3     320\n",
       "1      0  383120\n",
       "2      5    1693\n",
       "3      C  442031\n",
       "4      X  209230\n",
       "5      1   11090\n",
       "6      4     223\n",
       "7      2     868"
      ]
     },
     "execution_count": 9,
     "metadata": {},
     "output_type": "execute_result"
    }
   ],
   "source": [
    "df_status = df_credit.groupBy('STATUS').count().toPandas()\n",
    "df_status"
   ]
  },
  {
   "cell_type": "code",
   "execution_count": 10,
   "metadata": {},
   "outputs": [
    {
     "data": {
      "image/png": "[encoded data removed]",
      "text/plain": [
       "<Figure size 432x288 with 1 Axes>"
      ]
     },
     "metadata": {
      "needs_background": "light"
     },
     "output_type": "display_data"
    }
   ],
   "source": [
    "ax = df_status.plot.bar()\n",
    "ax.set_xlabel('STATUS')\n",
    "ax.set_xticklabels(df_status.STATUS)\n",
    "plt.show()"
   ]
  },
  {
   "cell_type": "code",
   "execution_count": 193,
   "metadata": {},
   "outputs": [
    {
     "name": "stdout",
     "output_type": "stream",
     "text": [
      "+-------+--------------+------+----------+------------+\n",
      "|     ID|MONTHS_BALANCE|STATUS|NEW_STATUS|Months_delay|\n",
      "+-------+--------------+------+----------+------------+\n",
      "|5001711|             0|     X|        -1|           0|\n",
      "|5001711|            -1|     0|         0|           1|\n",
      "|5001711|            -2|     0|         0|           2|\n",
      "|5001711|            -3|     0|         0|           3|\n",
      "|5001712|             0|     C|        -1|           0|\n",
      "+-------+--------------+------+----------+------------+\n",
      "only showing top 5 rows\n",
      "\n"
     ]
    }
   ],
   "source": [
    "#converting the C X satus to -1\n",
    "\n",
    "df_credit = df_credit.withColumn(\"NEW_STATUS\", when(df_credit['STATUS'].isin (\"C\", \"X\"), -1) .otherwise(df_credit['STATUS']))\n",
    "\n",
    "df_credit = df_credit.withColumn(\"Months_delay\" ,col(\"MONTHS_BALANCE\") * (-1))\n",
    "df_credit.show(5)"
   ]
  },
  {
   "cell_type": "code",
   "execution_count": 194,
   "metadata": {},
   "outputs": [],
   "source": [
    "df_credit =df_credit.drop('STATUS',\"MONTHS_BALANCE\")"
   ]
  },
  {
   "cell_type": "code",
   "execution_count": 195,
   "metadata": {},
   "outputs": [
    {
     "name": "stdout",
     "output_type": "stream",
     "text": [
      "+-------+----------+------------+\n",
      "|     ID|NEW_STATUS|Months_delay|\n",
      "+-------+----------+------------+\n",
      "|5001711|        -1|           0|\n",
      "|5001711|         0|           1|\n",
      "|5001711|         0|           2|\n",
      "|5001711|         0|           3|\n",
      "|5001712|        -1|           0|\n",
      "+-------+----------+------------+\n",
      "only showing top 5 rows\n",
      "\n"
     ]
    }
   ],
   "source": [
    "df_credit.show(5)"
   ]
  },
  {
   "cell_type": "code",
   "execution_count": 196,
   "metadata": {},
   "outputs": [
    {
     "name": "stdout",
     "output_type": "stream",
     "text": [
      "root\n",
      " |-- ID: integer (nullable = true)\n",
      " |-- NEW_STATUS: string (nullable = true)\n",
      " |-- Months_delay: integer (nullable = true)\n",
      " |-- STATUS: integer (nullable = true)\n",
      "\n"
     ]
    }
   ],
   "source": [
    "#converting the status to integer type\n",
    "\n",
    "from pyspark.sql.types import IntegerType\n",
    "df_credit = df_credit.withColumn(\"STATUS\", df_credit['NEW_STATUS'].cast(IntegerType()))\n",
    "df_credit.printSchema()"
   ]
  },
  {
   "cell_type": "code",
   "execution_count": 210,
   "metadata": {},
   "outputs": [
    {
     "name": "stdout",
     "output_type": "stream",
     "text": [
      "+-------+------------+------+\n",
      "|     ID|Months_delay|STATUS|\n",
      "+-------+------------+------+\n",
      "|5001711|           0|    -1|\n",
      "|5001711|           1|     0|\n",
      "|5001711|           2|     0|\n",
      "|5001711|           3|     0|\n",
      "|5001712|           0|    -1|\n",
      "+-------+------------+------+\n",
      "only showing top 5 rows\n",
      "\n"
     ]
    }
   ],
   "source": [
    "df_credit.show(5)"
   ]
  },
  {
   "cell_type": "code",
   "execution_count": 197,
   "metadata": {},
   "outputs": [],
   "source": [
    "df_credit = df_credit.drop('NEW_STATUS')"
   ]
  },
  {
   "cell_type": "code",
   "execution_count": 198,
   "metadata": {},
   "outputs": [
    {
     "data": {
      "text/plain": [
       "['ID', 'Months_delay', 'STATUS']"
      ]
     },
     "execution_count": 198,
     "metadata": {},
     "output_type": "execute_result"
    }
   ],
   "source": [
    "df_credit.columns"
   ]
  },
  {
   "cell_type": "code",
   "execution_count": 199,
   "metadata": {},
   "outputs": [
    {
     "name": "stdout",
     "output_type": "stream",
     "text": [
      "+-------+------------+------+\n",
      "|     ID|Months_delay|STATUS|\n",
      "+-------+------------+------+\n",
      "|5001711|           0|    -1|\n",
      "|5001711|           1|     0|\n",
      "|5001711|           2|     0|\n",
      "|5001711|           3|     0|\n",
      "|5001712|           0|    -1|\n",
      "|5001712|           1|    -1|\n",
      "|5001712|           2|    -1|\n",
      "|5001712|           3|    -1|\n",
      "|5001712|           4|    -1|\n",
      "|5001712|           5|    -1|\n",
      "|5001712|           6|    -1|\n",
      "|5001712|           7|    -1|\n",
      "|5001712|           8|    -1|\n",
      "|5001712|           9|     0|\n",
      "|5001712|          10|     0|\n",
      "|5001712|          11|     0|\n",
      "|5001712|          12|     0|\n",
      "|5001712|          13|     0|\n",
      "|5001712|          14|     0|\n",
      "|5001712|          15|     0|\n",
      "+-------+------------+------+\n",
      "only showing top 20 rows\n",
      "\n"
     ]
    }
   ],
   "source": [
    "df_credit.show()"
   ]
  },
  {
   "cell_type": "code",
   "execution_count": 200,
   "metadata": {},
   "outputs": [
    {
     "name": "stdout",
     "output_type": "stream",
     "text": [
      "+-------+------------+------+\n",
      "|     ID|Months_delay|STATUS|\n",
      "+-------+------------+------+\n",
      "|5092087|          18|     5|\n",
      "|5093286|           0|     5|\n",
      "|5092087|          19|     5|\n",
      "|5092087|          11|     5|\n",
      "|5092087|          20|     5|\n",
      "|5092087|          13|     5|\n",
      "|5092479|          27|     5|\n",
      "|5092479|          34|     5|\n",
      "|5092479|          28|     5|\n",
      "|5092087|          17|     5|\n",
      "|5092479|          29|     5|\n",
      "|5092087|          14|     5|\n",
      "|5092479|          30|     5|\n",
      "|5092136|           1|     5|\n",
      "|5092479|          31|     5|\n",
      "|5092479|          26|     5|\n",
      "|5092479|          32|     5|\n",
      "|5092087|          12|     5|\n",
      "|5092479|          33|     5|\n",
      "|5092245|           1|     5|\n",
      "+-------+------------+------+\n",
      "only showing top 20 rows\n",
      "\n"
     ]
    }
   ],
   "source": [
    "df_credit.orderBy(df_credit['STATUS'].desc()).show()"
   ]
  },
  {
   "cell_type": "code",
   "execution_count": 28,
   "metadata": {},
   "outputs": [],
   "source": [
    "#df_sort = df_credit.orderBy(df_credit['STATUS'].desc())\n",
    "from pyspark.sql.functions import *\n"
   ]
  },
  {
   "cell_type": "markdown",
   "metadata": {},
   "source": [
    "Assuming that a person is consider a defaulter to bank if he has a payment withstanding for more than 60 days. So all the customers having STATUS >= 2 will be considered as defaulters or bad customers"
   ]
  },
  {
   "cell_type": "code",
   "execution_count": 212,
   "metadata": {},
   "outputs": [],
   "source": [
    "from pyspark.sql.functions import *\n",
    "#The user ID will be classified as delinquent if the customer has ever delayed by more than 60 days.\n",
    "#1= bad customer 0 =good\n",
    "#df_cred = df_sort.withColumn(\"y\", when(df_credit[\"STATUS\"].isin(\"2\", \"3\" , \"4\" , \"5\"), 1 ) .otherwise(0))\n",
    "df_cred = df_credit.withColumn(\"y\", when(df_credit[\"STATUS\"] >= 2, 1 ) .otherwise(0))\n"
   ]
  },
  {
   "cell_type": "code",
   "execution_count": 213,
   "metadata": {},
   "outputs": [
    {
     "name": "stdout",
     "output_type": "stream",
     "text": [
      "+---+-------+\n",
      "|  y|  count|\n",
      "+---+-------+\n",
      "|  1|   3104|\n",
      "|  0|1045471|\n",
      "+---+-------+\n",
      "\n"
     ]
    }
   ],
   "source": [
    "df_cred.groupBy('y').count().show()\n"
   ]
  },
  {
   "cell_type": "code",
   "execution_count": 222,
   "metadata": {},
   "outputs": [],
   "source": [
    "# sorting the id based months delay so retrieving first row in each id \n",
    "\n",
    "from pyspark.sql import Window\n",
    "from pyspark.sql.functions import rank\n",
    "window = Window.partitionBy(\"ID\").orderBy(\"Months_delay\")\n",
    "df = df_cred.withColumn('rank', rank().over(window)).filter(col('rank') == 1).drop('rank')"
   ]
  },
  {
   "cell_type": "code",
   "execution_count": 225,
   "metadata": {},
   "outputs": [
    {
     "name": "stdout",
     "output_type": "stream",
     "text": [
      "+-------+------------+------+---+\n",
      "|     ID|Months_delay|STATUS|  y|\n",
      "+-------+------------+------+---+\n",
      "|5001812|           0|     0|  0|\n",
      "|5001849|           0|    -1|  0|\n",
      "|5001921|           0|    -1|  0|\n",
      "|5003338|           0|     0|  0|\n",
      "|5003386|           0|     0|  0|\n",
      "|5003485|           0|    -1|  0|\n",
      "|5003623|           0|    -1|  0|\n",
      "|5004426|           0|    -1|  0|\n",
      "|5004485|           1|    -1|  0|\n",
      "|5004511|           0|     0|  0|\n",
      "|5004620|           0|    -1|  0|\n",
      "|5004650|           0|    -1|  0|\n",
      "|5004774|           0|    -1|  0|\n",
      "|5005000|           0|    -1|  0|\n",
      "|5005607|           0|    -1|  0|\n",
      "|5005681|           0|    -1|  0|\n",
      "|5009033|           0|    -1|  0|\n",
      "|5009304|           0|    -1|  0|\n",
      "|5009355|           0|     0|  0|\n",
      "|5009429|           0|     0|  0|\n",
      "+-------+------------+------+---+\n",
      "only showing top 20 rows\n",
      "\n"
     ]
    }
   ],
   "source": [
    "df.show()"
   ]
  },
  {
   "cell_type": "code",
   "execution_count": 229,
   "metadata": {},
   "outputs": [],
   "source": [
    "df.coalesce(1).write.options(header = True).csv(\"deliq_cust.csv\")"
   ]
  },
  {
   "cell_type": "code",
   "execution_count": 5,
   "metadata": {},
   "outputs": [],
   "source": [
    "df = spark.read.csv(\"deliq_cust.csv\", header = True, inferSchema = True)"
   ]
  },
  {
   "cell_type": "code",
   "execution_count": 6,
   "metadata": {},
   "outputs": [
    {
     "data": {
      "text/plain": [
       "45985"
      ]
     },
     "execution_count": 6,
     "metadata": {},
     "output_type": "execute_result"
    }
   ],
   "source": [
    "df.count()"
   ]
  },
  {
   "cell_type": "code",
   "execution_count": 7,
   "metadata": {},
   "outputs": [],
   "source": [
    "import pandas as pd\n",
    "import matplotlib.pyplot as plt\n"
   ]
  },
  {
   "cell_type": "code",
   "execution_count": 8,
   "metadata": {},
   "outputs": [],
   "source": [
    "#readin the application data of the customer\n",
    "\n",
    "url2 = \"https://s3.amazonaws.com/sqoop.oozie.ml/application_record.csv\"\n",
    "from pyspark import SparkFiles\n",
    "spark.sparkContext.addFile(url2)\n",
    "df_appln = spark.read.csv(SparkFiles.get(\"application_record.csv\"), header=True, inferSchema= True)"
   ]
  },
  {
   "cell_type": "code",
   "execution_count": 7,
   "metadata": {},
   "outputs": [
    {
     "name": "stdout",
     "output_type": "stream",
     "text": [
      "+------+-----------+------------+---------------+------------+----------------+----------------+-------------------+------------------+-----------------+----------+-------------+----------+---------------+----------+----------+---------------+---------------+\n",
      "|    ID|CODE_GENDER|FLAG_OWN_CAR|FLAG_OWN_REALTY|CNT_CHILDREN|AMT_INCOME_TOTAL|NAME_INCOME_TYPE|NAME_EDUCATION_TYPE|NAME_FAMILY_STATUS|NAME_HOUSING_TYPE|DAYS_BIRTH|DAYS_EMPLOYED|FLAG_MOBIL|FLAG_WORK_PHONE|FLAG_PHONE|FLAG_EMAIL|OCCUPATION_TYPE|CNT_FAM_MEMBERS|\n",
      "+------+-----------+------------+---------------+------------+----------------+----------------+-------------------+------------------+-----------------+----------+-------------+----------+---------------+----------+----------+---------------+---------------+\n",
      "|438510|          2|           2|              2|          12|             866|               5|                  5|                 5|                6|     16379|         9406|         1|              2|         2|         2|             18|             13|\n",
      "+------+-----------+------------+---------------+------------+----------------+----------------+-------------------+------------------+-----------------+----------+-------------+----------+---------------+----------+----------+---------------+---------------+\n",
      "\n"
     ]
    }
   ],
   "source": [
    "from pyspark.sql.functions import col, countDistinct\n",
    "\n",
    "df_appln.agg(*(countDistinct(col(c)).alias(c) for c in df_appln.columns)).show()"
   ]
  },
  {
   "cell_type": "code",
   "execution_count": 176,
   "metadata": {},
   "outputs": [
    {
     "name": "stdout",
     "output_type": "stream",
     "text": [
      "+-----------+------+\n",
      "|CODE_GENDER| count|\n",
      "+-----------+------+\n",
      "|          F|294440|\n",
      "|          M|144117|\n",
      "+-----------+------+\n",
      "\n"
     ]
    }
   ],
   "source": [
    "df_appln.select(\"CODE_GENDER\").groupBy(\"CODE_GENDER\").count().show()"
   ]
  },
  {
   "cell_type": "code",
   "execution_count": 177,
   "metadata": {},
   "outputs": [
    {
     "data": {
      "image/png": "[encoded data removed]",
      "text/plain": [
       "<Figure size 432x288 with 1 Axes>"
      ]
     },
     "metadata": {
      "needs_background": "light"
     },
     "output_type": "display_data"
    }
   ],
   "source": [
    "#What is the proportion of females in the applicant customer base?\n",
    "\n",
    "df_cnt = df_appln.select(\"CODE_GENDER\").groupBy(\"CODE_GENDER\").count().toPandas()\n",
    "df_cnt.plot.bar(x=\"CODE_GENDER\", y=\"count\", title=\"proportion of females and males\")\n",
    "plt.show(block=True)"
   ]
  },
  {
   "cell_type": "code",
   "execution_count": 22,
   "metadata": {},
   "outputs": [
    {
     "name": "stdout",
     "output_type": "stream",
     "text": [
      "+---------------+-----------+------+\n",
      "|FLAG_OWN_REALTY|CODE_GENDER| count|\n",
      "+---------------+-----------+------+\n",
      "|              N|          F| 86302|\n",
      "|              Y|          F|208138|\n",
      "|              N|          M| 48181|\n",
      "|              Y|          M| 95936|\n",
      "+---------------+-----------+------+\n",
      "\n"
     ]
    }
   ],
   "source": [
    "df_appln.select(\"FLAG_OWN_REALTY\",\"CODE_GENDER\").groupBy(\"FLAG_OWN_REALTY\", \"CODE_GENDER\").count().show()\n"
   ]
  },
  {
   "cell_type": "code",
   "execution_count": 20,
   "metadata": {},
   "outputs": [
    {
     "data": {
      "image/png": "[encoded data removed]",
      "text/plain": [
       "<Figure size 432x288 with 1 Axes>"
      ]
     },
     "metadata": {
      "needs_background": "light"
     },
     "output_type": "display_data"
    }
   ],
   "source": [
    "#Is house ownership higher among male applicants or female applicants?\n",
    "df = df_appln.select(\"FLAG_OWN_REALTY\",\"CODE_GENDER\").groupBy(\"FLAG_OWN_REALTY\", \"CODE_GENDER\").count().toPandas()\n",
    "ax = df.plot.bar()\n",
    "ax.set_xlabel([\"FLAG_OWN_REALTY\",\"CODE_GENDER\"])\n",
    "ax.set_xticklabels(df.CODE_GENDER)\n",
    "plt.show()\n",
    "\n"
   ]
  },
  {
   "cell_type": "code",
   "execution_count": null,
   "metadata": {},
   "outputs": [],
   "source": []
  },
  {
   "cell_type": "code",
   "execution_count": 179,
   "metadata": {},
   "outputs": [
    {
     "name": "stdout",
     "output_type": "stream",
     "text": [
      "+---------------------+\n",
      "|avg(AMT_INCOME_TOTAL)|\n",
      "+---------------------+\n",
      "|    187524.2860095039|\n",
      "+---------------------+\n",
      "\n"
     ]
    }
   ],
   "source": [
    "#What is the average and median salary of the applicant base?\n",
    "\n",
    "\n",
    "df_appln.groupBy().mean(\"AMT_INCOME_TOTAL\").show()"
   ]
  },
  {
   "cell_type": "code",
   "execution_count": 180,
   "metadata": {},
   "outputs": [
    {
     "name": "stdout",
     "output_type": "stream",
     "text": [
      "+-------+------------------+\n",
      "|summary|  AMT_INCOME_TOTAL|\n",
      "+-------+------------------+\n",
      "|  count|            438557|\n",
      "|   mean| 187524.2860095039|\n",
      "| stddev|110086.85306622987|\n",
      "|    min|           26100.0|\n",
      "|    25%|          121500.0|\n",
      "|    50%|          160650.0|\n",
      "|    75%|          225000.0|\n",
      "|    max|         6750000.0|\n",
      "+-------+------------------+\n",
      "\n"
     ]
    }
   ],
   "source": [
    "df_appln.select(\"AMT_INCOME_TOTAL\").summary().show()"
   ]
  },
  {
   "cell_type": "code",
   "execution_count": 181,
   "metadata": {},
   "outputs": [
    {
     "data": {
      "text/plain": [
       "438510"
      ]
     },
     "execution_count": 181,
     "metadata": {},
     "output_type": "execute_result"
    }
   ],
   "source": [
    "df_appln.select(\"ID\").distinct().count()"
   ]
  },
  {
   "cell_type": "code",
   "execution_count": null,
   "metadata": {},
   "outputs": [],
   "source": [
    "#joining the application data and credit data"
   ]
  },
  {
   "cell_type": "code",
   "execution_count": 9,
   "metadata": {},
   "outputs": [],
   "source": [
    "df_cdq = df_appln.join(df, df_appln.ID == df.ID, how = \"inner\").drop(df.ID)"
   ]
  },
  {
   "cell_type": "code",
   "execution_count": 10,
   "metadata": {},
   "outputs": [
    {
     "data": {
      "text/plain": [
       "36457"
      ]
     },
     "execution_count": 10,
     "metadata": {},
     "output_type": "execute_result"
    }
   ],
   "source": [
    "df_cdq.count()"
   ]
  },
  {
   "cell_type": "code",
   "execution_count": 10,
   "metadata": {},
   "outputs": [
    {
     "name": "stdout",
     "output_type": "stream",
     "text": [
      "+-------+-----------+------------+---------------+------------+----------------+--------------------+--------------------+--------------------+-----------------+----------+-------------+----------+---------------+----------+----------+--------------------+---------------+------------+------+---+\n",
      "|     ID|CODE_GENDER|FLAG_OWN_CAR|FLAG_OWN_REALTY|CNT_CHILDREN|AMT_INCOME_TOTAL|    NAME_INCOME_TYPE| NAME_EDUCATION_TYPE|  NAME_FAMILY_STATUS|NAME_HOUSING_TYPE|DAYS_BIRTH|DAYS_EMPLOYED|FLAG_MOBIL|FLAG_WORK_PHONE|FLAG_PHONE|FLAG_EMAIL|     OCCUPATION_TYPE|CNT_FAM_MEMBERS|Months_delay|STATUS|  y|\n",
      "+-------+-----------+------------+---------------+------------+----------------+--------------------+--------------------+--------------------+-----------------+----------+-------------+----------+---------------+----------+----------+--------------------+---------------+------------+------+---+\n",
      "|5021430|          F|           N|              Y|           0|        126000.0|Commercial associate|    Higher education|Single / not married|House / apartment|    -18907|        -2470|         1|              0|         0|         0|         Sales staff|            1.0|           1|     5|  1|\n",
      "|5021431|          F|           N|              Y|           0|        126000.0|Commercial associate|    Higher education|Single / not married|House / apartment|    -18907|        -2470|         1|              0|         0|         0|         Sales staff|            1.0|           9|     5|  1|\n",
      "|5024213|          F|           Y|              Y|           0|        540000.0|Commercial associate|    Higher education|             Married|House / apartment|    -15702|         -185|         1|              0|         1|         0|                null|            2.0|          35|     5|  1|\n",
      "|5033514|          F|           Y|              N|           1|        135000.0|             Working|Secondary / secon...|             Married|House / apartment|    -15952|         -384|         1|              1|         0|         0|         Sales staff|            3.0|           0|     5|  1|\n",
      "|5038807|          M|           Y|              Y|           0|        202500.0|Commercial associate|    Higher education|             Married|House / apartment|    -12658|        -5374|         1|              0|         0|         1|            Laborers|            2.0|           0|     5|  1|\n",
      "|5041522|          M|           Y|              Y|           0|        450000.0|Commercial associate|    Higher education|           Separated|House / apartment|    -16169|         -855|         1|              1|         1|         0|                null|            1.0|           0|     5|  1|\n",
      "|5042064|          F|           Y|              N|           2|        270000.0|       State servant|    Higher education|             Married|House / apartment|    -16053|        -7369|         1|              1|         1|         0|                null|            4.0|          35|     5|  1|\n",
      "|5056016|          F|           N|              Y|           0|        157500.0|           Pensioner|Secondary / secon...|      Civil marriage|House / apartment|    -21751|       365243|         1|              0|         0|         0|                null|            2.0|           0|     3|  1|\n",
      "|5065518|          F|           Y|              N|           1|        202500.0|             Working|    Higher education|             Married| Rented apartment|     -9510|        -2878|         1|              0|         0|         0|            Laborers|            3.0|          31|     5|  1|\n",
      "|5069475|          F|           N|              Y|           2|        225000.0|             Working|    Higher education|             Married|House / apartment|    -13600|        -5711|         1|              0|         1|         0|          Core staff|            4.0|           0|     5|  1|\n",
      "|5078801|          F|           N|              Y|           0|        306000.0|             Working|Secondary / secon...|             Married|House / apartment|    -18927|        -2978|         1|              0|         0|         0|High skill tech s...|            2.0|           0|     5|  1|\n",
      "|5078804|          F|           N|              Y|           0|        306000.0|             Working|Secondary / secon...|             Married|House / apartment|    -18927|        -2978|         1|              0|         0|         0|High skill tech s...|            2.0|           0|     5|  1|\n",
      "|5078805|          F|           N|              Y|           0|        306000.0|             Working|Secondary / secon...|             Married|House / apartment|    -18927|        -2978|         1|              0|         0|         0|High skill tech s...|            2.0|           0|     5|  1|\n",
      "|5085886|          M|           Y|              Y|           0|        315000.0|Commercial associate|    Higher education|             Married|House / apartment|    -18661|        -1265|         1|              0|         0|         0|            Managers|            2.0|           0|     5|  1|\n",
      "|5090729|          M|           Y|              Y|           2|        360000.0|Commercial associate|   Incomplete higher|             Married|House / apartment|    -12446|        -2165|         1|              0|         0|         0|                null|            4.0|           0|     5|  1|\n",
      "|5090737|          F|           N|              N|           0|        225000.0|             Working|Secondary / secon...|Single / not married|House / apartment|    -18972|        -3715|         1|              0|         0|         0|            Laborers|            1.0|           0|     5|  1|\n",
      "|5092136|          F|           N|              Y|           0|        135000.0|             Working|Secondary / secon...|             Married|House / apartment|    -17000|        -5740|         1|              0|         0|         0|       Cooking staff|            2.0|           1|     5|  1|\n",
      "|5095839|          M|           N|              N|           0|        225000.0|Commercial associate|Secondary / secon...|             Married|House / apartment|    -14882|        -1132|         1|              1|         1|         0|            Laborers|            2.0|           0|     5|  1|\n",
      "|5117313|          F|           N|              Y|           1|        157500.0|Commercial associate|Secondary / secon...|             Married|House / apartment|    -13022|        -3931|         1|              1|         1|         0|            Laborers|            3.0|           0|     5|  1|\n",
      "|5100427|          F|           N|              Y|           1|        202500.0|             Working|   Incomplete higher|             Married|House / apartment|    -10746|        -1100|         1|              0|         1|         0|         Sales staff|            3.0|          12|     5|  1|\n",
      "+-------+-----------+------------+---------------+------------+----------------+--------------------+--------------------+--------------------+-----------------+----------+-------------+----------+---------------+----------+----------+--------------------+---------------+------------+------+---+\n",
      "only showing top 20 rows\n",
      "\n"
     ]
    }
   ],
   "source": [
    "df_cdq.filter(\"y == 1\").show()"
   ]
  },
  {
   "cell_type": "code",
   "execution_count": 230,
   "metadata": {},
   "outputs": [
    {
     "name": "stdout",
     "output_type": "stream",
     "text": [
      "+-----+-----------+------------+---------------+------------+----------------+----------------+-------------------+------------------+-----------------+----------+-------------+----------+---------------+----------+----------+---------------+---------------+------------+------+---+\n",
      "|   ID|CODE_GENDER|FLAG_OWN_CAR|FLAG_OWN_REALTY|CNT_CHILDREN|AMT_INCOME_TOTAL|NAME_INCOME_TYPE|NAME_EDUCATION_TYPE|NAME_FAMILY_STATUS|NAME_HOUSING_TYPE|DAYS_BIRTH|DAYS_EMPLOYED|FLAG_MOBIL|FLAG_WORK_PHONE|FLAG_PHONE|FLAG_EMAIL|OCCUPATION_TYPE|CNT_FAM_MEMBERS|Months_delay|STATUS|  y|\n",
      "+-----+-----------+------------+---------------+------------+----------------+----------------+-------------------+------------------+-----------------+----------+-------------+----------+---------------+----------+----------+---------------+---------------+------------+------+---+\n",
      "|36457|          2|           2|              2|           9|             265|               5|                  5|                 5|                6|      7183|         3640|         1|              2|         2|         2|             18|             10|          61|     7|  2|\n",
      "+-----+-----------+------------+---------------+------------+----------------+----------------+-------------------+------------------+-----------------+----------+-------------+----------+---------------+----------+----------+---------------+---------------+------------+------+---+\n",
      "\n"
     ]
    }
   ],
   "source": [
    "from pyspark.sql.functions import col, countDistinct\n",
    "\n",
    "df_cdq.agg(*(countDistinct(col(c)).alias(c) for c in df_cdq.columns)).show()"
   ]
  },
  {
   "cell_type": "code",
   "execution_count": 231,
   "metadata": {},
   "outputs": [
    {
     "name": "stdout",
     "output_type": "stream",
     "text": [
      "+-------+------------------+------------------+------------------+------------------+-------------------+\n",
      "|summary|  AMT_INCOME_TOTAL|        DAYS_BIRTH|     DAYS_EMPLOYED|   CNT_FAM_MEMBERS|       CNT_CHILDREN|\n",
      "+-------+------------------+------------------+------------------+------------------+-------------------+\n",
      "|  count|             36457|             36457|             36457|             36457|              36457|\n",
      "|   mean|186685.73666236937|-15975.17338234084|59262.935567929344| 2.198452971994404|0.43031516581177826|\n",
      "| stddev|101789.22648234623| 4200.549943759223| 137651.3348588564|0.9116861437101031| 0.7423669007186855|\n",
      "|    min|           27000.0|            -25152|            -15713|               1.0|                  0|\n",
      "|    25%|          121500.0|            -19435|             -3153|               2.0|                  0|\n",
      "|    50%|          157500.0|            -15563|             -1552|               2.0|                  0|\n",
      "|    75%|          225000.0|            -12463|              -408|               3.0|                  1|\n",
      "|    max|         1575000.0|             -7489|            365243|              20.0|                 19|\n",
      "+-------+------------------+------------------+------------------+------------------+-------------------+\n",
      "\n"
     ]
    }
   ],
   "source": [
    "df_cdq.select(\"AMT_INCOME_TOTAL\",\"DAYS_BIRTH\",\"DAYS_EMPLOYED\", \"CNT_FAM_MEMBERS\", \"CNT_CHILDREN\").summary().show()"
   ]
  },
  {
   "cell_type": "code",
   "execution_count": 48,
   "metadata": {},
   "outputs": [
    {
     "name": "stdout",
     "output_type": "stream",
     "text": [
      "+------------+-----+\n",
      "|Months_delay|count|\n",
      "+------------+-----+\n",
      "|          31|  184|\n",
      "|          53|   26|\n",
      "|          34|  134|\n",
      "|          28|  179|\n",
      "|          26|  199|\n",
      "|          27|  192|\n",
      "|          44|   85|\n",
      "|          12|  417|\n",
      "|          22|  260|\n",
      "|          47|   67|\n",
      "|           1|  606|\n",
      "|          52|   32|\n",
      "|          13|  333|\n",
      "|           6|  390|\n",
      "|          16|  318|\n",
      "|           3|  416|\n",
      "|          40|  103|\n",
      "|          20|  266|\n",
      "|          57|   10|\n",
      "|          54|   23|\n",
      "+------------+-----+\n",
      "only showing top 20 rows\n",
      "\n"
     ]
    }
   ],
   "source": [
    "df_cdq.groupBy('Months_delay').count().show()"
   ]
  },
  {
   "cell_type": "code",
   "execution_count": 115,
   "metadata": {},
   "outputs": [
    {
     "data": {
      "text/plain": [
       "6248"
      ]
     },
     "execution_count": 115,
     "metadata": {},
     "output_type": "execute_result"
    }
   ],
   "source": [
    "df_cdq.filter(\"DAYS_EMPLOYED == 365243\").count()"
   ]
  },
  {
   "cell_type": "code",
   "execution_count": 13,
   "metadata": {},
   "outputs": [
    {
     "name": "stdout",
     "output_type": "stream",
     "text": [
      "root\n",
      " |-- ID: integer (nullable = true)\n",
      " |-- CODE_GENDER: string (nullable = true)\n",
      " |-- FLAG_OWN_CAR: string (nullable = true)\n",
      " |-- FLAG_OWN_REALTY: string (nullable = true)\n",
      " |-- CNT_CHILDREN: integer (nullable = true)\n",
      " |-- AMT_INCOME_TOTAL: double (nullable = true)\n",
      " |-- NAME_INCOME_TYPE: string (nullable = true)\n",
      " |-- NAME_EDUCATION_TYPE: string (nullable = true)\n",
      " |-- NAME_FAMILY_STATUS: string (nullable = true)\n",
      " |-- NAME_HOUSING_TYPE: string (nullable = true)\n",
      " |-- DAYS_BIRTH: integer (nullable = true)\n",
      " |-- DAYS_EMPLOYED: integer (nullable = true)\n",
      " |-- FLAG_MOBIL: integer (nullable = true)\n",
      " |-- FLAG_WORK_PHONE: integer (nullable = true)\n",
      " |-- FLAG_PHONE: integer (nullable = true)\n",
      " |-- FLAG_EMAIL: integer (nullable = true)\n",
      " |-- OCCUPATION_TYPE: string (nullable = true)\n",
      " |-- CNT_FAM_MEMBERS: double (nullable = true)\n",
      " |-- Months_delay: integer (nullable = true)\n",
      " |-- STATUS: integer (nullable = true)\n",
      " |-- y: integer (nullable = true)\n",
      "\n"
     ]
    }
   ],
   "source": [
    "df_cdq.printSchema()"
   ]
  },
  {
   "cell_type": "code",
   "execution_count": 17,
   "metadata": {},
   "outputs": [
    {
     "name": "stdout",
     "output_type": "stream",
     "text": [
      "+----------+-----+\n",
      "|FLAG_MOBIL|count|\n",
      "+----------+-----+\n",
      "|         1|36457|\n",
      "+----------+-----+\n",
      "\n"
     ]
    }
   ],
   "source": [
    "df_cdq.groupBy('FLAG_MOBIL').count().show()"
   ]
  },
  {
   "cell_type": "code",
   "execution_count": 11,
   "metadata": {},
   "outputs": [],
   "source": [
    "dfnew = df_cdq.select(\"AMT_INCOME_TOTAL\" , \"NAME_EDUCATION_TYPE\")"
   ]
  },
  {
   "cell_type": "code",
   "execution_count": 12,
   "metadata": {},
   "outputs": [],
   "source": [
    "dfnewP =dfnew.toPandas()"
   ]
  },
  {
   "cell_type": "code",
   "execution_count": null,
   "metadata": {},
   "outputs": [],
   "source": []
  },
  {
   "cell_type": "code",
   "execution_count": 15,
   "metadata": {},
   "outputs": [],
   "source": [
    "new_df = dfnewP.replace(to_replace=['Higher education', 'Secondary / secondary special','Incomplete higher', 'Lower secondary', 'Academic degree'], value=[1, 2, 3, 4, 5])"
   ]
  },
  {
   "cell_type": "code",
   "execution_count": 19,
   "metadata": {},
   "outputs": [
    {
     "data": {
      "text/html": [
       "<div>\n",
       "<style scoped>\n",
       "    .dataframe tbody tr th:only-of-type {\n",
       "        vertical-align: middle;\n",
       "    }\n",
       "\n",
       "    .dataframe tbody tr th {\n",
       "        vertical-align: top;\n",
       "    }\n",
       "\n",
       "    .dataframe thead th {\n",
       "        text-align: right;\n",
       "    }\n",
       "</style>\n",
       "<table border=\"1\" class=\"dataframe\">\n",
       "  <thead>\n",
       "    <tr style=\"text-align: right;\">\n",
       "      <th></th>\n",
       "      <th>AMT_INCOME_TOTAL</th>\n",
       "      <th>NAME_EDUCATION_TYPE</th>\n",
       "    </tr>\n",
       "  </thead>\n",
       "  <tbody>\n",
       "    <tr>\n",
       "      <th>AMT_INCOME_TOTAL</th>\n",
       "      <td>1.000000</td>\n",
       "      <td>-0.178803</td>\n",
       "    </tr>\n",
       "    <tr>\n",
       "      <th>NAME_EDUCATION_TYPE</th>\n",
       "      <td>-0.178803</td>\n",
       "      <td>1.000000</td>\n",
       "    </tr>\n",
       "  </tbody>\n",
       "</table>\n",
       "</div>"
      ],
      "text/plain": [
       "                     AMT_INCOME_TOTAL  NAME_EDUCATION_TYPE\n",
       "AMT_INCOME_TOTAL             1.000000            -0.178803\n",
       "NAME_EDUCATION_TYPE         -0.178803             1.000000"
      ]
     },
     "execution_count": 19,
     "metadata": {},
     "output_type": "execute_result"
    }
   ],
   "source": [
    "#Is there any correlation between income levels and education level?\n",
    "\n",
    "new_df.corr()\n"
   ]
  },
  {
   "cell_type": "code",
   "execution_count": 40,
   "metadata": {},
   "outputs": [
    {
     "data": {
      "text/html": [
       "<div>\n",
       "<style scoped>\n",
       "    .dataframe tbody tr th:only-of-type {\n",
       "        vertical-align: middle;\n",
       "    }\n",
       "\n",
       "    .dataframe tbody tr th {\n",
       "        vertical-align: top;\n",
       "    }\n",
       "\n",
       "    .dataframe thead th {\n",
       "        text-align: right;\n",
       "    }\n",
       "</style>\n",
       "<table border=\"1\" class=\"dataframe\">\n",
       "  <thead>\n",
       "    <tr style=\"text-align: right;\">\n",
       "      <th></th>\n",
       "      <th>ID</th>\n",
       "      <th>CNT_CHILDREN</th>\n",
       "      <th>AMT_INCOME_TOTAL</th>\n",
       "      <th>DAYS_BIRTH</th>\n",
       "      <th>DAYS_EMPLOYED</th>\n",
       "      <th>FLAG_WORK_PHONE</th>\n",
       "      <th>FLAG_PHONE</th>\n",
       "      <th>FLAG_EMAIL</th>\n",
       "      <th>CNT_FAM_MEMBERS</th>\n",
       "      <th>Months_delay</th>\n",
       "      <th>STATUS</th>\n",
       "      <th>y</th>\n",
       "    </tr>\n",
       "  </thead>\n",
       "  <tbody>\n",
       "    <tr>\n",
       "      <th>ID</th>\n",
       "      <td>1.000000</td>\n",
       "      <td>0.028878</td>\n",
       "      <td>-0.017667</td>\n",
       "      <td>0.056016</td>\n",
       "      <td>-0.038043</td>\n",
       "      <td>0.079215</td>\n",
       "      <td>0.009879</td>\n",
       "      <td>-0.046979</td>\n",
       "      <td>0.026624</td>\n",
       "      <td>-0.025194</td>\n",
       "      <td>0.015988</td>\n",
       "      <td>0.013473</td>\n",
       "    </tr>\n",
       "    <tr>\n",
       "      <th>CNT_CHILDREN</th>\n",
       "      <td>0.028878</td>\n",
       "      <td>1.000000</td>\n",
       "      <td>0.033691</td>\n",
       "      <td>0.339357</td>\n",
       "      <td>-0.229379</td>\n",
       "      <td>0.048091</td>\n",
       "      <td>-0.016291</td>\n",
       "      <td>0.015960</td>\n",
       "      <td>0.889114</td>\n",
       "      <td>0.011469</td>\n",
       "      <td>-0.000987</td>\n",
       "      <td>-0.007283</td>\n",
       "    </tr>\n",
       "    <tr>\n",
       "      <th>AMT_INCOME_TOTAL</th>\n",
       "      <td>-0.017667</td>\n",
       "      <td>0.033691</td>\n",
       "      <td>1.000000</td>\n",
       "      <td>0.067908</td>\n",
       "      <td>-0.168611</td>\n",
       "      <td>-0.037746</td>\n",
       "      <td>0.017245</td>\n",
       "      <td>0.086681</td>\n",
       "      <td>0.023750</td>\n",
       "      <td>-0.008727</td>\n",
       "      <td>0.012707</td>\n",
       "      <td>0.009432</td>\n",
       "    </tr>\n",
       "    <tr>\n",
       "      <th>DAYS_BIRTH</th>\n",
       "      <td>0.056016</td>\n",
       "      <td>0.339357</td>\n",
       "      <td>0.067908</td>\n",
       "      <td>1.000000</td>\n",
       "      <td>-0.616213</td>\n",
       "      <td>0.179054</td>\n",
       "      <td>-0.028659</td>\n",
       "      <td>0.105625</td>\n",
       "      <td>0.304020</td>\n",
       "      <td>-0.011395</td>\n",
       "      <td>-0.004372</td>\n",
       "      <td>-0.002825</td>\n",
       "    </tr>\n",
       "    <tr>\n",
       "      <th>DAYS_EMPLOYED</th>\n",
       "      <td>-0.038043</td>\n",
       "      <td>-0.229379</td>\n",
       "      <td>-0.168611</td>\n",
       "      <td>-0.616213</td>\n",
       "      <td>1.000000</td>\n",
       "      <td>-0.242869</td>\n",
       "      <td>-0.007233</td>\n",
       "      <td>-0.085648</td>\n",
       "      <td>-0.221241</td>\n",
       "      <td>0.006820</td>\n",
       "      <td>-0.002311</td>\n",
       "      <td>-0.002344</td>\n",
       "    </tr>\n",
       "    <tr>\n",
       "      <th>FLAG_WORK_PHONE</th>\n",
       "      <td>0.079215</td>\n",
       "      <td>0.048091</td>\n",
       "      <td>-0.037746</td>\n",
       "      <td>0.179054</td>\n",
       "      <td>-0.242869</td>\n",
       "      <td>1.000000</td>\n",
       "      <td>0.311644</td>\n",
       "      <td>-0.034838</td>\n",
       "      <td>0.064527</td>\n",
       "      <td>-0.014203</td>\n",
       "      <td>-0.014446</td>\n",
       "      <td>-0.004761</td>\n",
       "    </tr>\n",
       "    <tr>\n",
       "      <th>FLAG_PHONE</th>\n",
       "      <td>0.009879</td>\n",
       "      <td>-0.016291</td>\n",
       "      <td>0.017245</td>\n",
       "      <td>-0.028659</td>\n",
       "      <td>-0.007233</td>\n",
       "      <td>0.311644</td>\n",
       "      <td>1.000000</td>\n",
       "      <td>0.010455</td>\n",
       "      <td>-0.004221</td>\n",
       "      <td>-0.003714</td>\n",
       "      <td>0.000984</td>\n",
       "      <td>0.004190</td>\n",
       "    </tr>\n",
       "    <tr>\n",
       "      <th>FLAG_EMAIL</th>\n",
       "      <td>-0.046979</td>\n",
       "      <td>0.015960</td>\n",
       "      <td>0.086681</td>\n",
       "      <td>0.105625</td>\n",
       "      <td>-0.085648</td>\n",
       "      <td>-0.034838</td>\n",
       "      <td>0.010455</td>\n",
       "      <td>1.000000</td>\n",
       "      <td>0.014619</td>\n",
       "      <td>-0.017209</td>\n",
       "      <td>0.021321</td>\n",
       "      <td>0.013351</td>\n",
       "    </tr>\n",
       "    <tr>\n",
       "      <th>CNT_FAM_MEMBERS</th>\n",
       "      <td>0.026624</td>\n",
       "      <td>0.889114</td>\n",
       "      <td>0.023750</td>\n",
       "      <td>0.304020</td>\n",
       "      <td>-0.221241</td>\n",
       "      <td>0.064527</td>\n",
       "      <td>-0.004221</td>\n",
       "      <td>0.014619</td>\n",
       "      <td>1.000000</td>\n",
       "      <td>0.009034</td>\n",
       "      <td>-0.002403</td>\n",
       "      <td>-0.007843</td>\n",
       "    </tr>\n",
       "    <tr>\n",
       "      <th>Months_delay</th>\n",
       "      <td>-0.025194</td>\n",
       "      <td>0.011469</td>\n",
       "      <td>-0.008727</td>\n",
       "      <td>-0.011395</td>\n",
       "      <td>0.006820</td>\n",
       "      <td>-0.014203</td>\n",
       "      <td>-0.003714</td>\n",
       "      <td>-0.017209</td>\n",
       "      <td>0.009034</td>\n",
       "      <td>1.000000</td>\n",
       "      <td>-0.102507</td>\n",
       "      <td>-0.015705</td>\n",
       "    </tr>\n",
       "    <tr>\n",
       "      <th>STATUS</th>\n",
       "      <td>0.015988</td>\n",
       "      <td>-0.000987</td>\n",
       "      <td>0.012707</td>\n",
       "      <td>-0.004372</td>\n",
       "      <td>-0.002311</td>\n",
       "      <td>-0.014446</td>\n",
       "      <td>0.000984</td>\n",
       "      <td>0.021321</td>\n",
       "      <td>-0.002403</td>\n",
       "      <td>-0.102507</td>\n",
       "      <td>1.000000</td>\n",
       "      <td>0.515083</td>\n",
       "    </tr>\n",
       "    <tr>\n",
       "      <th>y</th>\n",
       "      <td>0.013473</td>\n",
       "      <td>-0.007283</td>\n",
       "      <td>0.009432</td>\n",
       "      <td>-0.002825</td>\n",
       "      <td>-0.002344</td>\n",
       "      <td>-0.004761</td>\n",
       "      <td>0.004190</td>\n",
       "      <td>0.013351</td>\n",
       "      <td>-0.007843</td>\n",
       "      <td>-0.015705</td>\n",
       "      <td>0.515083</td>\n",
       "      <td>1.000000</td>\n",
       "    </tr>\n",
       "  </tbody>\n",
       "</table>\n",
       "</div>"
      ],
      "text/plain": [
       "                        ID  CNT_CHILDREN  AMT_INCOME_TOTAL  DAYS_BIRTH  \\\n",
       "ID                1.000000      0.028878         -0.017667    0.056016   \n",
       "CNT_CHILDREN      0.028878      1.000000          0.033691    0.339357   \n",
       "AMT_INCOME_TOTAL -0.017667      0.033691          1.000000    0.067908   \n",
       "DAYS_BIRTH        0.056016      0.339357          0.067908    1.000000   \n",
       "DAYS_EMPLOYED    -0.038043     -0.229379         -0.168611   -0.616213   \n",
       "FLAG_WORK_PHONE   0.079215      0.048091         -0.037746    0.179054   \n",
       "FLAG_PHONE        0.009879     -0.016291          0.017245   -0.028659   \n",
       "FLAG_EMAIL       -0.046979      0.015960          0.086681    0.105625   \n",
       "CNT_FAM_MEMBERS   0.026624      0.889114          0.023750    0.304020   \n",
       "Months_delay     -0.025194      0.011469         -0.008727   -0.011395   \n",
       "STATUS            0.015988     -0.000987          0.012707   -0.004372   \n",
       "y                 0.013473     -0.007283          0.009432   -0.002825   \n",
       "\n",
       "                  DAYS_EMPLOYED  FLAG_WORK_PHONE  FLAG_PHONE  FLAG_EMAIL  \\\n",
       "ID                    -0.038043         0.079215    0.009879   -0.046979   \n",
       "CNT_CHILDREN          -0.229379         0.048091   -0.016291    0.015960   \n",
       "AMT_INCOME_TOTAL      -0.168611        -0.037746    0.017245    0.086681   \n",
       "DAYS_BIRTH            -0.616213         0.179054   -0.028659    0.105625   \n",
       "DAYS_EMPLOYED          1.000000        -0.242869   -0.007233   -0.085648   \n",
       "FLAG_WORK_PHONE       -0.242869         1.000000    0.311644   -0.034838   \n",
       "FLAG_PHONE            -0.007233         0.311644    1.000000    0.010455   \n",
       "FLAG_EMAIL            -0.085648        -0.034838    0.010455    1.000000   \n",
       "CNT_FAM_MEMBERS       -0.221241         0.064527   -0.004221    0.014619   \n",
       "Months_delay           0.006820        -0.014203   -0.003714   -0.017209   \n",
       "STATUS                -0.002311        -0.014446    0.000984    0.021321   \n",
       "y                     -0.002344        -0.004761    0.004190    0.013351   \n",
       "\n",
       "                  CNT_FAM_MEMBERS  Months_delay    STATUS         y  \n",
       "ID                       0.026624     -0.025194  0.015988  0.013473  \n",
       "CNT_CHILDREN             0.889114      0.011469 -0.000987 -0.007283  \n",
       "AMT_INCOME_TOTAL         0.023750     -0.008727  0.012707  0.009432  \n",
       "DAYS_BIRTH               0.304020     -0.011395 -0.004372 -0.002825  \n",
       "DAYS_EMPLOYED           -0.221241      0.006820 -0.002311 -0.002344  \n",
       "FLAG_WORK_PHONE          0.064527     -0.014203 -0.014446 -0.004761  \n",
       "FLAG_PHONE              -0.004221     -0.003714  0.000984  0.004190  \n",
       "FLAG_EMAIL               0.014619     -0.017209  0.021321  0.013351  \n",
       "CNT_FAM_MEMBERS          1.000000      0.009034 -0.002403 -0.007843  \n",
       "Months_delay             0.009034      1.000000 -0.102507 -0.015705  \n",
       "STATUS                  -0.002403     -0.102507  1.000000  0.515083  \n",
       "y                       -0.007843     -0.015705  0.515083  1.000000  "
      ]
     },
     "execution_count": 40,
     "metadata": {},
     "output_type": "execute_result"
    }
   ],
   "source": [
    "from pyspark.mllib.stat import Statistics\n",
    "df_cor = df_cdq.toPandas()\n",
    "df_cor = df_cor.drop(\"FLAG_MOBIL\", axis = 1)\n",
    "df_cor.corr()\n",
    "#df_cdq.toPandas().corr()"
   ]
  },
  {
   "cell_type": "code",
   "execution_count": 44,
   "metadata": {},
   "outputs": [
    {
     "data": {
      "text/plain": [
       "<AxesSubplot:>"
      ]
     },
     "execution_count": 44,
     "metadata": {},
     "output_type": "execute_result"
    },
    {
     "data": {
      "image/png": "[encoded data removed]",
      "text/plain": [
       "<Figure size 432x288 with 2 Axes>"
      ]
     },
     "metadata": {
      "needs_background": "light"
     },
     "output_type": "display_data"
    }
   ],
   "source": [
    "#df1 = df_cdq.toPandas().corr()\n",
    "sns.heatmap(df_cor.corr())"
   ]
  },
  {
   "cell_type": "code",
   "execution_count": null,
   "metadata": {},
   "outputs": [],
   "source": []
  },
  {
   "cell_type": "code",
   "execution_count": 254,
   "metadata": {},
   "outputs": [
    {
     "data": {
      "image/png": "[encoded data removed]",
      "text/plain": [
       "<Figure size 720x576 with 1 Axes>"
      ]
     },
     "metadata": {
      "needs_background": "light"
     },
     "output_type": "display_data"
    }
   ],
   "source": [
    "#amount_income_total have outliers \n",
    "\n",
    "df = df_cdq.toPandas()\n",
    "plt.figure(figsize=(10,8))\n",
    "df.boxplot(column = \"AMT_INCOME_TOTAL\")\n",
    "plt.show()"
   ]
  },
  {
   "cell_type": "code",
   "execution_count": 255,
   "metadata": {},
   "outputs": [
    {
     "data": {
      "image/png": "[encoded data removed]",
      "text/plain": [
       "<Figure size 720x576 with 1 Axes>"
      ]
     },
     "metadata": {
      "needs_background": "light"
     },
     "output_type": "display_data"
    }
   ],
   "source": [
    "#count of Family Members have outliers \n",
    "\n",
    "plt.figure(figsize=(10,8))\n",
    "\n",
    "df.boxplot(column = \"CNT_FAM_MEMBERS\")\n",
    "plt.show()"
   ]
  },
  {
   "cell_type": "code",
   "execution_count": 256,
   "metadata": {},
   "outputs": [
    {
     "data": {
      "image/png": "[encoded data removed]",
      "text/plain": [
       "<Figure size 720x576 with 1 Axes>"
      ]
     },
     "metadata": {
      "needs_background": "light"
     },
     "output_type": "display_data"
    }
   ],
   "source": [
    "#count of children have outliers \n",
    "\n",
    "plt.figure(figsize=(10,8))\n",
    "\n",
    "df.boxplot(column = \"CNT_CHILDREN\")\n",
    "plt.show()"
   ]
  },
  {
   "cell_type": "code",
   "execution_count": 42,
   "metadata": {},
   "outputs": [
    {
     "name": "stdout",
     "output_type": "stream",
     "text": [
      "+------------+---+-----+\n",
      "|FLAG_OWN_CAR|  y|count|\n",
      "+------------+---+-----+\n",
      "|           N|  1|  392|\n",
      "|           Y|  1|  224|\n",
      "|           Y|  0|13843|\n",
      "|           N|  0|22614|\n",
      "+------------+---+-----+\n",
      "\n"
     ]
    }
   ],
   "source": [
    "#Is the proportion of bad customers higher for people who own cars?\n",
    "\n",
    "\n",
    "df_cdq.select(\"FLAG_OWN_CAR\",\"y\").groupBy(\"FLAG_OWN_CAR\", \"y\").count().show()"
   ]
  },
  {
   "cell_type": "code",
   "execution_count": 263,
   "metadata": {},
   "outputs": [],
   "source": [
    "import warnings\n",
    "warnings.filterwarnings('ignore')"
   ]
  },
  {
   "cell_type": "code",
   "execution_count": 43,
   "metadata": {},
   "outputs": [
    {
     "name": "stdout",
     "output_type": "stream",
     "text": [
      "+-------+-----------+------------+---------------+------------+----------------+--------------------+--------------------+--------------------+-----------------+----------+-------------+----------+---------------+----------+----------+---------------+---------------+---+\n",
      "|     ID|CODE_GENDER|FLAG_OWN_CAR|FLAG_OWN_REALTY|CNT_CHILDREN|AMT_INCOME_TOTAL|    NAME_INCOME_TYPE| NAME_EDUCATION_TYPE|  NAME_FAMILY_STATUS|NAME_HOUSING_TYPE|DAYS_BIRTH|DAYS_EMPLOYED|FLAG_MOBIL|FLAG_WORK_PHONE|FLAG_PHONE|FLAG_EMAIL|OCCUPATION_TYPE|CNT_FAM_MEMBERS|  y|\n",
      "+-------+-----------+------------+---------------+------------+----------------+--------------------+--------------------+--------------------+-----------------+----------+-------------+----------+---------------+----------+----------+---------------+---------------+---+\n",
      "|5008804|          M|           Y|              Y|           0|        427500.0|             Working|    Higher education|      Civil marriage| Rented apartment|    -12005|        -4542|         1|              1|         0|         0|           null|            2.0|  0|\n",
      "|5008805|          M|           Y|              Y|           0|        427500.0|             Working|    Higher education|      Civil marriage| Rented apartment|    -12005|        -4542|         1|              1|         0|         0|           null|            2.0|  0|\n",
      "|5008806|          M|           Y|              Y|           0|        112500.0|             Working|Secondary / secon...|             Married|House / apartment|    -21474|        -1134|         1|              0|         0|         0| Security staff|            2.0|  0|\n",
      "|5008808|          F|           N|              Y|           0|        270000.0|Commercial associate|Secondary / secon...|Single / not married|House / apartment|    -19110|        -3051|         1|              0|         1|         1|    Sales staff|            1.0|  0|\n",
      "|5008809|          F|           N|              Y|           0|        270000.0|Commercial associate|Secondary / secon...|Single / not married|House / apartment|    -19110|        -3051|         1|              0|         1|         1|    Sales staff|            1.0|  0|\n",
      "+-------+-----------+------------+---------------+------------+----------------+--------------------+--------------------+--------------------+-----------------+----------+-------------+----------+---------------+----------+----------+---------------+---------------+---+\n",
      "only showing top 5 rows\n",
      "\n"
     ]
    }
   ],
   "source": [
    "df_cdq.show(5)"
   ]
  },
  {
   "cell_type": "code",
   "execution_count": null,
   "metadata": {},
   "outputs": [],
   "source": []
  },
  {
   "cell_type": "code",
   "execution_count": 267,
   "metadata": {},
   "outputs": [
    {
     "name": "stdout",
     "output_type": "stream",
     "text": [
      "+-------------------+---+-----+\n",
      "|  NAME_HOUSING_TYPE|  y|count|\n",
      "+-------------------+---+-----+\n",
      "|Municipal apartment|  1|    4|\n",
      "|   Office apartment|  0|  262|\n",
      "|    Co-op apartment|  0|  167|\n",
      "|       With parents|  0| 1772|\n",
      "|   Rented apartment|  1|    2|\n",
      "|  House / apartment|  0|32453|\n",
      "|    Co-op apartment|  1|    1|\n",
      "|Municipal apartment|  0| 1124|\n",
      "|   Rented apartment|  0|  573|\n",
      "|  House / apartment|  1|   95|\n",
      "|       With parents|  1|    4|\n",
      "+-------------------+---+-----+\n",
      "\n"
     ]
    }
   ],
   "source": [
    "#Do people living on rent have a higher proportion of bad customers compared to the rest of the population?\n",
    "\n",
    "df_cdq.select(\"NAME_HOUSING_TYPE\",\"y\").groupBy(\"NAME_HOUSING_TYPE\", \"y\").count().show()"
   ]
  },
  {
   "cell_type": "code",
   "execution_count": 269,
   "metadata": {},
   "outputs": [
    {
     "name": "stdout",
     "output_type": "stream",
     "text": [
      "+--------------------+---+-----+\n",
      "|  NAME_FAMILY_STATUS|  y|count|\n",
      "+--------------------+---+-----+\n",
      "|      Civil marriage|  1|    3|\n",
      "|               Widow|  0| 1526|\n",
      "|             Married|  1|   70|\n",
      "|             Married|  0|24978|\n",
      "|           Separated|  0| 2097|\n",
      "|           Separated|  1|    6|\n",
      "|Single / not married|  1|   21|\n",
      "|      Civil marriage|  0| 2942|\n",
      "|               Widow|  1|    6|\n",
      "|Single / not married|  0| 4808|\n",
      "+--------------------+---+-----+\n",
      "\n"
     ]
    }
   ],
   "source": [
    "#Do single customers have a high proportion of bad customers compared to married customers?\n",
    "\n",
    "df_cdq.select(\"NAME_FAMILY_STATUS\",\"y\").groupBy(\"NAME_FAMILY_STATUS\", \"y\").count().show()"
   ]
  },
  {
   "cell_type": "code",
   "execution_count": 270,
   "metadata": {},
   "outputs": [
    {
     "name": "stdout",
     "output_type": "stream",
     "text": [
      "+-------+----------------+----------+-------------+\n",
      "|summary|AMT_INCOME_TOTAL|DAYS_BIRTH|DAYS_EMPLOYED|\n",
      "+-------+----------------+----------+-------------+\n",
      "|    min|         27000.0|    -25152|       -15713|\n",
      "|    50%|        157500.0|    -15563|        -1552|\n",
      "|    75%|        225000.0|    -12463|         -408|\n",
      "|    90%|        315000.0|    -10467|       365243|\n",
      "|    95%|        360000.0|     -9874|       365243|\n",
      "|    96%|        382500.0|     -9667|       365243|\n",
      "|    97%|       1575000.0|     -7489|       365243|\n",
      "|    99%|       1575000.0|     -7489|       365243|\n",
      "|   100%|       1575000.0|     -7489|       365243|\n",
      "+-------+----------------+----------+-------------+\n",
      "\n"
     ]
    }
   ],
   "source": [
    "#summary of AMT_INCOME_TOTAL|DAYS_BIRTH|DAYS_EMPLOYED|\n",
    "df_cdq.select(\"AMT_INCOME_TOTAL\",\"DAYS_BIRTH\",\"DAYS_EMPLOYED\").summary(\"min\",\"50%\",\"75%\",\"90%\",\"95%\",\"96%\",\"97%\",\"99%\",\"100%\").show()"
   ]
  },
  {
   "cell_type": "code",
   "execution_count": 271,
   "metadata": {},
   "outputs": [
    {
     "data": {
      "text/plain": [
       "36457"
      ]
     },
     "execution_count": 271,
     "metadata": {},
     "output_type": "execute_result"
    }
   ],
   "source": [
    "df_cdq.count()"
   ]
  },
  {
   "cell_type": "code",
   "execution_count": 273,
   "metadata": {},
   "outputs": [
    {
     "name": "stdout",
     "output_type": "stream",
     "text": [
      "+-------+------------+\n",
      "|summary|CNT_CHILDREN|\n",
      "+-------+------------+\n",
      "|  99.9%|           4|\n",
      "|   100%|          19|\n",
      "+-------+------------+\n",
      "\n"
     ]
    }
   ],
   "source": [
    "#outliers are there in cnt of children \n",
    "df_cdq.select(\"CNT_CHILDREN\").summary(\"99.9%\",\"100%\").show()"
   ]
  },
  {
   "cell_type": "code",
   "execution_count": 274,
   "metadata": {},
   "outputs": [
    {
     "data": {
      "text/plain": [
       "6"
      ]
     },
     "execution_count": 274,
     "metadata": {},
     "output_type": "execute_result"
    }
   ],
   "source": [
    "df_cdq.filter(\"AMT_INCOME_TOTAL >800000\" and \"CNT_CHILDREN > 5\").count()"
   ]
  },
  {
   "cell_type": "code",
   "execution_count": 21,
   "metadata": {},
   "outputs": [],
   "source": [
    "#since there are outliers from 97% i think we can delete the records becoz 6 records are there\n",
    "\n",
    "df_cust = df_cdq.filter(\"AMT_INCOME_TOTAL < 800000\" and \"CNT_CHILDREN < 5\")\n",
    "\n"
   ]
  },
  {
   "cell_type": "code",
   "execution_count": 22,
   "metadata": {},
   "outputs": [
    {
     "name": "stdout",
     "output_type": "stream",
     "text": [
      "+-------+----------------+----------+-------------+\n",
      "|summary|AMT_INCOME_TOTAL|DAYS_BIRTH|DAYS_EMPLOYED|\n",
      "+-------+----------------+----------+-------------+\n",
      "|    min|         27000.0|    -25152|       -15713|\n",
      "|    50%|        157500.0|    -15565|        -1550|\n",
      "|    75%|        225000.0|    -12463|         -407|\n",
      "|    90%|        315000.0|    -10460|       365243|\n",
      "|    95%|        360000.0|     -9874|       365243|\n",
      "|    96%|        382500.0|     -9667|       365243|\n",
      "|   100%|       1575000.0|     -7489|       365243|\n",
      "+-------+----------------+----------+-------------+\n",
      "\n"
     ]
    }
   ],
   "source": [
    "df_cust.select(\"AMT_INCOME_TOTAL\",\"DAYS_BIRTH\",\"DAYS_EMPLOYED\").summary(\"min\",\"50%\",\"75%\",\"90%\",\"95%\",\"96%\",\"100%\").show()"
   ]
  },
  {
   "cell_type": "code",
   "execution_count": 23,
   "metadata": {},
   "outputs": [],
   "source": [
    "import pyspark.sql.functions as f\n",
    "#converting days of bith to new column age \n",
    "\n",
    "df_cust = df_cust.withColumn(\"AGE\" , f.round(col(\"DAYS_BIRTH\") * (-1)/365,2))\n"
   ]
  },
  {
   "cell_type": "code",
   "execution_count": 277,
   "metadata": {},
   "outputs": [
    {
     "name": "stdout",
     "output_type": "stream",
     "text": [
      "+-------+-----------+------------+---------------+------------+----------------+--------------------+--------------------+--------------------+-----------------+----------+-------------+----------+---------------+----------+----------+---------------+---------------+------------+------+---+-----+\n",
      "|     ID|CODE_GENDER|FLAG_OWN_CAR|FLAG_OWN_REALTY|CNT_CHILDREN|AMT_INCOME_TOTAL|    NAME_INCOME_TYPE| NAME_EDUCATION_TYPE|  NAME_FAMILY_STATUS|NAME_HOUSING_TYPE|DAYS_BIRTH|DAYS_EMPLOYED|FLAG_MOBIL|FLAG_WORK_PHONE|FLAG_PHONE|FLAG_EMAIL|OCCUPATION_TYPE|CNT_FAM_MEMBERS|Months_delay|STATUS|  y|  AGE|\n",
      "+-------+-----------+------------+---------------+------------+----------------+--------------------+--------------------+--------------------+-----------------+----------+-------------+----------+---------------+----------+----------+---------------+---------------+------------+------+---+-----+\n",
      "|5008804|          M|           Y|              Y|           0|        427500.0|             Working|    Higher education|      Civil marriage| Rented apartment|    -12005|        -4542|         1|              1|         0|         0|           null|            2.0|           0|    -1|  0|32.89|\n",
      "|5008805|          M|           Y|              Y|           0|        427500.0|             Working|    Higher education|      Civil marriage| Rented apartment|    -12005|        -4542|         1|              1|         0|         0|           null|            2.0|           0|    -1|  0|32.89|\n",
      "|5008806|          M|           Y|              Y|           0|        112500.0|             Working|Secondary / secon...|             Married|House / apartment|    -21474|        -1134|         1|              0|         0|         0| Security staff|            2.0|           0|    -1|  0|58.83|\n",
      "|5008808|          F|           N|              Y|           0|        270000.0|Commercial associate|Secondary / secon...|Single / not married|House / apartment|    -19110|        -3051|         1|              0|         1|         1|    Sales staff|            1.0|           0|     0|  0|52.36|\n",
      "|5008809|          F|           N|              Y|           0|        270000.0|Commercial associate|Secondary / secon...|Single / not married|House / apartment|    -19110|        -3051|         1|              0|         1|         1|    Sales staff|            1.0|          22|    -1|  0|52.36|\n",
      "|5008810|          F|           N|              Y|           0|        270000.0|Commercial associate|Secondary / secon...|Single / not married|House / apartment|    -19110|        -3051|         1|              0|         1|         1|    Sales staff|            1.0|           0|    -1|  0|52.36|\n",
      "|5008811|          F|           N|              Y|           0|        270000.0|Commercial associate|Secondary / secon...|Single / not married|House / apartment|    -19110|        -3051|         1|              0|         1|         1|    Sales staff|            1.0|           0|    -1|  0|52.36|\n",
      "|5008812|          F|           N|              Y|           0|        283500.0|           Pensioner|    Higher education|           Separated|House / apartment|    -22464|       365243|         1|              0|         0|         0|           null|            1.0|           4|     0|  0|61.55|\n",
      "|5008813|          F|           N|              Y|           0|        283500.0|           Pensioner|    Higher education|           Separated|House / apartment|    -22464|       365243|         1|              0|         0|         0|           null|            1.0|           0|     0|  0|61.55|\n",
      "|5008814|          F|           N|              Y|           0|        283500.0|           Pensioner|    Higher education|           Separated|House / apartment|    -22464|       365243|         1|              0|         0|         0|           null|            1.0|           1|     0|  0|61.55|\n",
      "|5008815|          M|           Y|              Y|           0|        270000.0|             Working|    Higher education|             Married|House / apartment|    -16872|         -769|         1|              1|         1|         1|    Accountants|            2.0|           0|     0|  0|46.22|\n",
      "|5112956|          M|           Y|              Y|           0|        270000.0|             Working|    Higher education|             Married|House / apartment|    -16872|         -769|         1|              1|         1|         1|    Accountants|            2.0|           0|    -1|  0|46.22|\n",
      "|5008819|          M|           Y|              Y|           0|        135000.0|Commercial associate|Secondary / secon...|             Married|House / apartment|    -17778|        -1194|         1|              0|         0|         0|       Laborers|            2.0|          10|    -1|  0|48.71|\n",
      "|5008820|          M|           Y|              Y|           0|        135000.0|Commercial associate|Secondary / secon...|             Married|House / apartment|    -17778|        -1194|         1|              0|         0|         0|       Laborers|            2.0|           8|    -1|  0|48.71|\n",
      "|5008821|          M|           Y|              Y|           0|        135000.0|Commercial associate|Secondary / secon...|             Married|House / apartment|    -17778|        -1194|         1|              0|         0|         0|       Laborers|            2.0|           0|    -1|  0|48.71|\n",
      "|5008822|          M|           Y|              Y|           0|        135000.0|Commercial associate|Secondary / secon...|             Married|House / apartment|    -17778|        -1194|         1|              0|         0|         0|       Laborers|            2.0|          14|    -1|  0|48.71|\n",
      "|5008823|          M|           Y|              Y|           0|        135000.0|Commercial associate|Secondary / secon...|             Married|House / apartment|    -17778|        -1194|         1|              0|         0|         0|       Laborers|            2.0|           3|    -1|  0|48.71|\n",
      "|5008824|          M|           Y|              Y|           0|        135000.0|Commercial associate|Secondary / secon...|             Married|House / apartment|    -17778|        -1194|         1|              0|         0|         0|       Laborers|            2.0|           0|     0|  0|48.71|\n",
      "|5008825|          F|           Y|              N|           0|        130500.0|             Working|   Incomplete higher|             Married|House / apartment|    -10669|        -1103|         1|              0|         0|         0|    Accountants|            2.0|           0|     0|  0|29.23|\n",
      "|5008826|          F|           Y|              N|           0|        130500.0|             Working|   Incomplete higher|             Married|House / apartment|    -10669|        -1103|         1|              0|         0|         0|    Accountants|            2.0|           1|    -1|  0|29.23|\n",
      "+-------+-----------+------------+---------------+------------+----------------+--------------------+--------------------+--------------------+-----------------+----------+-------------+----------+---------------+----------+----------+---------------+---------------+------------+------+---+-----+\n",
      "only showing top 20 rows\n",
      "\n"
     ]
    }
   ],
   "source": [
    "df_cust.show()"
   ]
  },
  {
   "cell_type": "code",
   "execution_count": 288,
   "metadata": {},
   "outputs": [
    {
     "name": "stdout",
     "output_type": "stream",
     "text": [
      "+-------+-----------+------------+---------------+------------+----------------+----------------+--------------------+------------------+-----------------+----------+-------------+----------+---------------+----------+----------+---------------+---------------+------------+------+---+-----+\n",
      "|     ID|CODE_GENDER|FLAG_OWN_CAR|FLAG_OWN_REALTY|CNT_CHILDREN|AMT_INCOME_TOTAL|NAME_INCOME_TYPE| NAME_EDUCATION_TYPE|NAME_FAMILY_STATUS|NAME_HOUSING_TYPE|DAYS_BIRTH|DAYS_EMPLOYED|FLAG_MOBIL|FLAG_WORK_PHONE|FLAG_PHONE|FLAG_EMAIL|OCCUPATION_TYPE|CNT_FAM_MEMBERS|Months_delay|STATUS|  y|  AGE|\n",
      "+-------+-----------+------------+---------------+------------+----------------+----------------+--------------------+------------------+-----------------+----------+-------------+----------+---------------+----------+----------+---------------+---------------+------------+------+---+-----+\n",
      "|5008812|          F|           N|              Y|           0|        283500.0|       Pensioner|    Higher education|         Separated|House / apartment|    -22464|       365243|         1|              0|         0|         0|           null|            1.0|           4|     0|  0|61.55|\n",
      "|5008813|          F|           N|              Y|           0|        283500.0|       Pensioner|    Higher education|         Separated|House / apartment|    -22464|       365243|         1|              0|         0|         0|           null|            1.0|           0|     0|  0|61.55|\n",
      "|5008814|          F|           N|              Y|           0|        283500.0|       Pensioner|    Higher education|         Separated|House / apartment|    -22464|       365243|         1|              0|         0|         0|           null|            1.0|           1|     0|  0|61.55|\n",
      "|5008884|          F|           N|              Y|           0|        315000.0|       Pensioner|Secondary / secon...|             Widow|House / apartment|    -20186|       365243|         1|              0|         0|         0|           null|            1.0|           0|    -1|  0| 55.3|\n",
      "|5008974|          F|           N|              Y|           0|        112500.0|       Pensioner|Secondary / secon...|           Married|House / apartment|    -22319|       365243|         1|              0|         0|         0|           null|            2.0|          47|     0|  0|61.15|\n",
      "|5008975|          F|           N|              Y|           0|        112500.0|       Pensioner|Secondary / secon...|           Married|House / apartment|    -22319|       365243|         1|              0|         0|         0|           null|            2.0|          28|    -1|  0|61.15|\n",
      "|5008976|          F|           N|              Y|           0|        112500.0|       Pensioner|Secondary / secon...|           Married|House / apartment|    -22319|       365243|         1|              0|         0|         0|           null|            2.0|           0|     0|  0|61.15|\n",
      "|5008977|          F|           N|              Y|           0|        112500.0|       Pensioner|Secondary / secon...|           Married|House / apartment|    -22319|       365243|         1|              0|         0|         0|           null|            2.0|           0|     0|  0|61.15|\n",
      "|5008978|          F|           N|              Y|           0|        112500.0|       Pensioner|Secondary / secon...|           Married|House / apartment|    -22319|       365243|         1|              0|         0|         0|           null|            2.0|          17|    -1|  0|61.15|\n",
      "|5008979|          F|           N|              Y|           0|        112500.0|       Pensioner|Secondary / secon...|           Married|House / apartment|    -22319|       365243|         1|              0|         0|         0|           null|            2.0|           0|    -1|  0|61.15|\n",
      "|5008980|          F|           N|              Y|           0|        112500.0|       Pensioner|Secondary / secon...|           Married|House / apartment|    -22319|       365243|         1|              0|         0|         0|           null|            2.0|           8|    -1|  0|61.15|\n",
      "|5009033|          F|           N|              N|           0|        255150.0|       Pensioner|   Incomplete higher|    Civil marriage| Rented apartment|    -18682|       365243|         1|              0|         0|         0|           null|            2.0|           0|    -1|  0|51.18|\n",
      "|5009034|          F|           N|              N|           0|        255150.0|       Pensioner|   Incomplete higher|    Civil marriage| Rented apartment|    -18682|       365243|         1|              0|         0|         0|           null|            2.0|          14|    -1|  0|51.18|\n",
      "|5009035|          F|           N|              N|           0|        255150.0|       Pensioner|   Incomplete higher|    Civil marriage| Rented apartment|    -18682|       365243|         1|              0|         0|         0|           null|            2.0|           0|    -1|  0|51.18|\n",
      "|5009036|          F|           N|              N|           0|        255150.0|       Pensioner|   Incomplete higher|    Civil marriage| Rented apartment|    -18682|       365243|         1|              0|         0|         0|           null|            2.0|           0|    -1|  0|51.18|\n",
      "|5009037|          F|           N|              N|           0|        255150.0|       Pensioner|   Incomplete higher|    Civil marriage| Rented apartment|    -18682|       365243|         1|              0|         0|         0|           null|            2.0|           0|    -1|  0|51.18|\n",
      "|5009038|          F|           N|              N|           0|        255150.0|       Pensioner|   Incomplete higher|    Civil marriage| Rented apartment|    -18682|       365243|         1|              0|         0|         0|           null|            2.0|           0|    -1|  0|51.18|\n",
      "|5009060|          F|           N|              Y|           0|         94500.0|       Pensioner|    Higher education|           Married|House / apartment|    -22331|       365243|         1|              0|         1|         0|           null|            2.0|           0|     0|  0|61.18|\n",
      "|5009133|          M|           N|              Y|           0|        382500.0|       Pensioner|Secondary / secon...|             Widow|House / apartment|    -21673|       365243|         1|              0|         0|         0|           null|            1.0|           0|    -1|  0|59.38|\n",
      "|5009134|          M|           N|              Y|           0|        382500.0|       Pensioner|Secondary / secon...|             Widow|House / apartment|    -21673|       365243|         1|              0|         0|         0|           null|            1.0|           0|    -1|  0|59.38|\n",
      "+-------+-----------+------------+---------------+------------+----------------+----------------+--------------------+------------------+-----------------+----------+-------------+----------+---------------+----------+----------+---------------+---------------+------------+------+---+-----+\n",
      "only showing top 20 rows\n",
      "\n"
     ]
    }
   ],
   "source": [
    "df_cust.filter((df_cust['DAYS_EMPLOYED'] > 0) & (df_cust['NAME_INCOME_TYPE'] == 'Pensioner')).show()\n"
   ]
  },
  {
   "cell_type": "code",
   "execution_count": 24,
   "metadata": {},
   "outputs": [
    {
     "data": {
      "text/plain": [
       "6135"
      ]
     },
     "execution_count": 24,
     "metadata": {},
     "output_type": "execute_result"
    }
   ],
   "source": [
    "# analysing the data in days employed\n",
    "df_cust.filter((df_cust['DAYS_EMPLOYED'] > 0) & (df_cust['NAME_INCOME_TYPE'] == 'Pensioner')).count()"
   ]
  },
  {
   "cell_type": "code",
   "execution_count": 290,
   "metadata": {},
   "outputs": [
    {
     "name": "stdout",
     "output_type": "stream",
     "text": [
      "+-------+------------------+\n",
      "|summary|     DAYS_EMPLOYED|\n",
      "+-------+------------------+\n",
      "|  count|             36431|\n",
      "|   mean| 59307.04391864072|\n",
      "| stddev|137690.53880208824|\n",
      "|    min|            -15713|\n",
      "|    25%|             -3153|\n",
      "|    50%|             -1547|\n",
      "|    75%|              -407|\n",
      "|    max|            365243|\n",
      "+-------+------------------+\n",
      "\n"
     ]
    }
   ],
   "source": [
    "df_cust.select(\"DAYS_EMPLOYED\").summary().show()"
   ]
  },
  {
   "cell_type": "code",
   "execution_count": 291,
   "metadata": {},
   "outputs": [
    {
     "data": {
      "image/png": "[encoded data removed]",
      "text/plain": [
       "<Figure size 720x576 with 1 Axes>"
      ]
     },
     "metadata": {
      "needs_background": "light"
     },
     "output_type": "display_data"
    }
   ],
   "source": [
    "df = df_cust.toPandas()\n",
    "plt.figure(figsize=(10,8))\n",
    "df.boxplot(column = \"DAYS_EMPLOYED\")\n",
    "plt.show()"
   ]
  },
  {
   "cell_type": "code",
   "execution_count": 29,
   "metadata": {},
   "outputs": [],
   "source": [
    "#we can handle DAYS_EMPLOYED this outliers using the -1 value since it affect more than 6248 rows\n",
    "#df_cust = df_cust.withColumn(\"YEARS_EMPLOY\" , f.round(col(\"DAYS_EMPLOYED\") * (-1)/365,2))\n",
    "df_cust = df_cust.withColumn(\"YEARS_EMPLOY\" , when(df_cust[\"DAYS_EMPLOYED\"] == '365243' , -1)\n",
    "                                                .otherwise(df_cust[\"DAYS_EMPLOYED\"]))"
   ]
  },
  {
   "cell_type": "code",
   "execution_count": 30,
   "metadata": {},
   "outputs": [
    {
     "name": "stdout",
     "output_type": "stream",
     "text": [
      "root\n",
      " |-- ID: integer (nullable = true)\n",
      " |-- CODE_GENDER: string (nullable = true)\n",
      " |-- FLAG_OWN_CAR: string (nullable = true)\n",
      " |-- FLAG_OWN_REALTY: string (nullable = true)\n",
      " |-- CNT_CHILDREN: integer (nullable = true)\n",
      " |-- AMT_INCOME_TOTAL: double (nullable = true)\n",
      " |-- NAME_INCOME_TYPE: string (nullable = true)\n",
      " |-- NAME_EDUCATION_TYPE: string (nullable = true)\n",
      " |-- NAME_FAMILY_STATUS: string (nullable = true)\n",
      " |-- NAME_HOUSING_TYPE: string (nullable = true)\n",
      " |-- DAYS_BIRTH: integer (nullable = true)\n",
      " |-- DAYS_EMPLOYED: integer (nullable = true)\n",
      " |-- FLAG_MOBIL: integer (nullable = true)\n",
      " |-- FLAG_WORK_PHONE: integer (nullable = true)\n",
      " |-- FLAG_PHONE: integer (nullable = true)\n",
      " |-- FLAG_EMAIL: integer (nullable = true)\n",
      " |-- OCCUPATION_TYPE: string (nullable = true)\n",
      " |-- CNT_FAM_MEMBERS: double (nullable = true)\n",
      " |-- Months_delay: integer (nullable = true)\n",
      " |-- STATUS: integer (nullable = true)\n",
      " |-- y: integer (nullable = true)\n",
      " |-- AGE: double (nullable = true)\n",
      " |-- YEARS_EMPLOY: integer (nullable = true)\n",
      "\n"
     ]
    }
   ],
   "source": [
    "df_cust.printSchema()"
   ]
  },
  {
   "cell_type": "code",
   "execution_count": 31,
   "metadata": {},
   "outputs": [
    {
     "name": "stdout",
     "output_type": "stream",
     "text": [
      "+-------+-----------------+\n",
      "|summary|   YEARS_EMPLOYED|\n",
      "+-------+-----------------+\n",
      "|  count|            36431|\n",
      "|   mean|6.027697565260264|\n",
      "| stddev|6.486361215593373|\n",
      "|    min|              0.0|\n",
      "|    25%|             1.12|\n",
      "|    50%|             4.25|\n",
      "|    75%|             8.64|\n",
      "|    max|            43.05|\n",
      "+-------+-----------------+\n",
      "\n"
     ]
    }
   ],
   "source": [
    "#df_cust[\"\"DAYS_EMPLOYED\"\"].mean().show()\n",
    "df_cust = df_cust.withColumn(\"YEARS_EMPLOYED\" , f.round(col(\"YEARS_EMPLOY\") * (-1)/365,2))\n",
    "\n",
    "df_cust.select(\"YEARS_EMPLOYED\").summary().show()"
   ]
  },
  {
   "cell_type": "code",
   "execution_count": 32,
   "metadata": {},
   "outputs": [
    {
     "name": "stdout",
     "output_type": "stream",
     "text": [
      "+-------+-----------+------------+---------------+------------+----------------+--------------------+--------------------+--------------------+-----------------+----------+-------------+----------+---------------+----------+----------+---------------+---------------+------------+------+---+-----+------------+--------------+\n",
      "|     ID|CODE_GENDER|FLAG_OWN_CAR|FLAG_OWN_REALTY|CNT_CHILDREN|AMT_INCOME_TOTAL|    NAME_INCOME_TYPE| NAME_EDUCATION_TYPE|  NAME_FAMILY_STATUS|NAME_HOUSING_TYPE|DAYS_BIRTH|DAYS_EMPLOYED|FLAG_MOBIL|FLAG_WORK_PHONE|FLAG_PHONE|FLAG_EMAIL|OCCUPATION_TYPE|CNT_FAM_MEMBERS|Months_delay|STATUS|  y|  AGE|YEARS_EMPLOY|YEARS_EMPLOYED|\n",
      "+-------+-----------+------------+---------------+------------+----------------+--------------------+--------------------+--------------------+-----------------+----------+-------------+----------+---------------+----------+----------+---------------+---------------+------------+------+---+-----+------------+--------------+\n",
      "|5008804|          M|           Y|              Y|           0|        427500.0|             Working|    Higher education|      Civil marriage| Rented apartment|    -12005|        -4542|         1|              1|         0|         0|           null|            2.0|           0|    -1|  0|32.89|       -4542|         12.44|\n",
      "|5008805|          M|           Y|              Y|           0|        427500.0|             Working|    Higher education|      Civil marriage| Rented apartment|    -12005|        -4542|         1|              1|         0|         0|           null|            2.0|           0|    -1|  0|32.89|       -4542|         12.44|\n",
      "|5008806|          M|           Y|              Y|           0|        112500.0|             Working|Secondary / secon...|             Married|House / apartment|    -21474|        -1134|         1|              0|         0|         0| Security staff|            2.0|           0|    -1|  0|58.83|       -1134|          3.11|\n",
      "|5008808|          F|           N|              Y|           0|        270000.0|Commercial associate|Secondary / secon...|Single / not married|House / apartment|    -19110|        -3051|         1|              0|         1|         1|    Sales staff|            1.0|           0|     0|  0|52.36|       -3051|          8.36|\n",
      "|5008809|          F|           N|              Y|           0|        270000.0|Commercial associate|Secondary / secon...|Single / not married|House / apartment|    -19110|        -3051|         1|              0|         1|         1|    Sales staff|            1.0|          22|    -1|  0|52.36|       -3051|          8.36|\n",
      "+-------+-----------+------------+---------------+------------+----------------+--------------------+--------------------+--------------------+-----------------+----------+-------------+----------+---------------+----------+----------+---------------+---------------+------------+------+---+-----+------------+--------------+\n",
      "only showing top 5 rows\n",
      "\n"
     ]
    }
   ],
   "source": [
    "df_cust.show(5)"
   ]
  },
  {
   "cell_type": "code",
   "execution_count": 33,
   "metadata": {},
   "outputs": [],
   "source": [
    "#drop all redundent columns\n",
    "\n",
    "df_custdata = df_cust.drop(\"DAYS_BIRTH\",\"DAYS_EMPLOYED\",\"YEARS_EMPLOY\")"
   ]
  },
  {
   "cell_type": "code",
   "execution_count": 34,
   "metadata": {},
   "outputs": [
    {
     "name": "stdout",
     "output_type": "stream",
     "text": [
      "+-------+-----------+------------+---------------+------------+----------------+--------------------+--------------------+--------------------+-----------------+----------+---------------+----------+----------+---------------+---------------+------------+------+---+-----+--------------+\n",
      "|     ID|CODE_GENDER|FLAG_OWN_CAR|FLAG_OWN_REALTY|CNT_CHILDREN|AMT_INCOME_TOTAL|    NAME_INCOME_TYPE| NAME_EDUCATION_TYPE|  NAME_FAMILY_STATUS|NAME_HOUSING_TYPE|FLAG_MOBIL|FLAG_WORK_PHONE|FLAG_PHONE|FLAG_EMAIL|OCCUPATION_TYPE|CNT_FAM_MEMBERS|Months_delay|STATUS|  y|  AGE|YEARS_EMPLOYED|\n",
      "+-------+-----------+------------+---------------+------------+----------------+--------------------+--------------------+--------------------+-----------------+----------+---------------+----------+----------+---------------+---------------+------------+------+---+-----+--------------+\n",
      "|5008804|          M|           Y|              Y|           0|        427500.0|             Working|    Higher education|      Civil marriage| Rented apartment|         1|              1|         0|         0|           null|            2.0|           0|    -1|  0|32.89|         12.44|\n",
      "|5008805|          M|           Y|              Y|           0|        427500.0|             Working|    Higher education|      Civil marriage| Rented apartment|         1|              1|         0|         0|           null|            2.0|           0|    -1|  0|32.89|         12.44|\n",
      "|5008806|          M|           Y|              Y|           0|        112500.0|             Working|Secondary / secon...|             Married|House / apartment|         1|              0|         0|         0| Security staff|            2.0|           0|    -1|  0|58.83|          3.11|\n",
      "|5008808|          F|           N|              Y|           0|        270000.0|Commercial associate|Secondary / secon...|Single / not married|House / apartment|         1|              0|         1|         1|    Sales staff|            1.0|           0|     0|  0|52.36|          8.36|\n",
      "|5008809|          F|           N|              Y|           0|        270000.0|Commercial associate|Secondary / secon...|Single / not married|House / apartment|         1|              0|         1|         1|    Sales staff|            1.0|          22|    -1|  0|52.36|          8.36|\n",
      "+-------+-----------+------------+---------------+------------+----------------+--------------------+--------------------+--------------------+-----------------+----------+---------------+----------+----------+---------------+---------------+------------+------+---+-----+--------------+\n",
      "only showing top 5 rows\n",
      "\n"
     ]
    }
   ],
   "source": [
    "df_custdata.show(5)"
   ]
  },
  {
   "cell_type": "code",
   "execution_count": 298,
   "metadata": {},
   "outputs": [
    {
     "data": {
      "image/png": "[encoded data removed]",
      "text/plain": [
       "<Figure size 720x576 with 1 Axes>"
      ]
     },
     "metadata": {
      "needs_background": "light"
     },
     "output_type": "display_data"
    }
   ],
   "source": [
    "df = df_cust.toPandas()\n",
    "plt.figure(figsize=(10,8))\n",
    "df.boxplot(column = \"AMT_INCOME_TOTAL\")\n",
    "plt.show()"
   ]
  },
  {
   "cell_type": "code",
   "execution_count": 299,
   "metadata": {},
   "outputs": [
    {
     "name": "stdout",
     "output_type": "stream",
     "text": [
      "+--------------------+-----+\n",
      "|     OCCUPATION_TYPE|count|\n",
      "+--------------------+-----+\n",
      "|                null|11321|\n",
      "|            Managers| 3004|\n",
      "|            HR staff|   85|\n",
      "|      Medicine staff| 1207|\n",
      "|         Accountants| 1241|\n",
      "|            Laborers| 6201|\n",
      "|      Cleaning staff|  549|\n",
      "|Private service s...|  344|\n",
      "|             Drivers| 2135|\n",
      "|         Sales staff| 3485|\n",
      "|       Realty agents|   79|\n",
      "|            IT staff|   60|\n",
      "|      Security staff|  592|\n",
      "|         Secretaries|  151|\n",
      "|  Low-skill Laborers|  175|\n",
      "|          Core staff| 3591|\n",
      "|       Cooking staff|  655|\n",
      "|High skill tech s...| 1383|\n",
      "|Waiters/barmen staff|  173|\n",
      "+--------------------+-----+\n",
      "\n"
     ]
    }
   ],
   "source": [
    "df_custdata.groupBy(\"OCCUPATION_TYPE\").count().show()"
   ]
  },
  {
   "cell_type": "code",
   "execution_count": 35,
   "metadata": {},
   "outputs": [
    {
     "data": {
      "text/plain": [
       "11321"
      ]
     },
     "execution_count": 35,
     "metadata": {},
     "output_type": "execute_result"
    }
   ],
   "source": [
    "df_custdata.filter(df_custdata.OCCUPATION_TYPE.isNull()).count()"
   ]
  },
  {
   "cell_type": "code",
   "execution_count": 36,
   "metadata": {},
   "outputs": [],
   "source": [
    "#coccupation type have blank so renaming to others\n",
    "df_custdata = df_custdata.withColumn(\"OCCUPATION_TYPE_NEW\" , when(df_custdata.OCCUPATION_TYPE.isNull(), \"Others\")\n",
    "                                     .otherwise (df_custdata.OCCUPATION_TYPE))"
   ]
  },
  {
   "cell_type": "code",
   "execution_count": 37,
   "metadata": {},
   "outputs": [
    {
     "data": {
      "text/plain": [
       "['ID',\n",
       " 'CODE_GENDER',\n",
       " 'FLAG_OWN_CAR',\n",
       " 'FLAG_OWN_REALTY',\n",
       " 'CNT_CHILDREN',\n",
       " 'AMT_INCOME_TOTAL',\n",
       " 'NAME_INCOME_TYPE',\n",
       " 'NAME_EDUCATION_TYPE',\n",
       " 'NAME_FAMILY_STATUS',\n",
       " 'NAME_HOUSING_TYPE',\n",
       " 'FLAG_MOBIL',\n",
       " 'FLAG_WORK_PHONE',\n",
       " 'FLAG_PHONE',\n",
       " 'FLAG_EMAIL',\n",
       " 'OCCUPATION_TYPE',\n",
       " 'CNT_FAM_MEMBERS',\n",
       " 'Months_delay',\n",
       " 'STATUS',\n",
       " 'y',\n",
       " 'AGE',\n",
       " 'YEARS_EMPLOYED',\n",
       " 'OCCUPATION_TYPE_NEW']"
      ]
     },
     "execution_count": 37,
     "metadata": {},
     "output_type": "execute_result"
    }
   ],
   "source": [
    "df_custdata.columns"
   ]
  },
  {
   "cell_type": "code",
   "execution_count": 38,
   "metadata": {},
   "outputs": [
    {
     "name": "stdout",
     "output_type": "stream",
     "text": [
      "+--------------------+-----+\n",
      "| OCCUPATION_TYPE_NEW|count|\n",
      "+--------------------+-----+\n",
      "|            Managers| 3004|\n",
      "|            HR staff|   85|\n",
      "|      Medicine staff| 1207|\n",
      "|         Accountants| 1241|\n",
      "|            Laborers| 6201|\n",
      "|      Cleaning staff|  549|\n",
      "|Private service s...|  344|\n",
      "|             Drivers| 2135|\n",
      "|         Sales staff| 3485|\n",
      "|       Realty agents|   79|\n",
      "|            IT staff|   60|\n",
      "|              Others|11321|\n",
      "|      Security staff|  592|\n",
      "|         Secretaries|  151|\n",
      "|  Low-skill Laborers|  175|\n",
      "|          Core staff| 3591|\n",
      "|       Cooking staff|  655|\n",
      "|High skill tech s...| 1383|\n",
      "|Waiters/barmen staff|  173|\n",
      "+--------------------+-----+\n",
      "\n"
     ]
    }
   ],
   "source": [
    "#dropping OCCUPATION_TYPE\n",
    "df_custdata = df_custdata.drop(\"OCCUPATION_TYPE\")\n",
    "df_custdata.groupBy(\"OCCUPATION_TYPE_NEW\").count().show()"
   ]
  },
  {
   "cell_type": "code",
   "execution_count": 39,
   "metadata": {},
   "outputs": [
    {
     "data": {
      "image/png": "[encoded data removed]",
      "text/plain": [
       "<Figure size 432x288 with 1 Axes>"
      ]
     },
     "metadata": {
      "needs_background": "light"
     },
     "output_type": "display_data"
    }
   ],
   "source": [
    "dfE =df_custdata.groupBy(\"OCCUPATION_TYPE_NEW\").count().toPandas()\n",
    "ax = dfE.plot.bar()\n",
    "ax.set_xlabel([\"OCCUPATION_TYPE_NEW\"])\n",
    "ax.set_xticklabels(dfE.OCCUPATION_TYPE_NEW)\n",
    "plt.show()"
   ]
  },
  {
   "cell_type": "code",
   "execution_count": 304,
   "metadata": {},
   "outputs": [
    {
     "name": "stdout",
     "output_type": "stream",
     "text": [
      "+--------------------+-----+\n",
      "| NAME_EDUCATION_TYPE|count|\n",
      "+--------------------+-----+\n",
      "|     Academic degree|   32|\n",
      "|   Incomplete higher| 1410|\n",
      "|Secondary / secon...|24751|\n",
      "|     Lower secondary|  374|\n",
      "|    Higher education| 9864|\n",
      "+--------------------+-----+\n",
      "\n"
     ]
    }
   ],
   "source": [
    "df_custdata.groupBy(\"NAME_EDUCATION_TYPE\").count().show()"
   ]
  },
  {
   "cell_type": "code",
   "execution_count": null,
   "metadata": {},
   "outputs": [],
   "source": []
  },
  {
   "cell_type": "code",
   "execution_count": 308,
   "metadata": {},
   "outputs": [
    {
     "data": {
      "image/png": "[encoded data removed]",
      "text/plain": [
       "<Figure size 432x288 with 1 Axes>"
      ]
     },
     "metadata": {
      "needs_background": "light"
     },
     "output_type": "display_data"
    }
   ],
   "source": [
    "dfE=df_custdata.groupBy(\"NAME_EDUCATION_TYPE\").count().toPandas()\n",
    "ax = dfE.plot.bar()\n",
    "ax.set_xlabel([\"NAME_EDUCATION_TYPE\"])\n",
    "ax.set_xticklabels(dfE.NAME_EDUCATION_TYPE)\n",
    "plt.show()\n",
    "\n"
   ]
  },
  {
   "cell_type": "code",
   "execution_count": 94,
   "metadata": {},
   "outputs": [],
   "source": [
    "#mydata = df_custdata.select(\"CODE_GENDER\",\"FLAG_OWN_CAR\",\"FLAG_OWN_REALTY\",\"CNT_CHILDREN\",\"AMT_INCOME_TOTAL\",\"NAME_INCOME_TYPE\",\"NAME_EDUCATION_TYPE\",\"NAME_FAMILY_STATUS\",\"NAME_HOUSING_TYPE\",\"FLAG_MOBIL\",\"FLAG_WORK_PHONE\",\"FLAG_PHONE\",\"FLAG_EMAIL\",\"OCCUPATION_TYPE\",\"CNT_FAM_MEMBERS\",\"y\",\"AGE\",\"YEARS_EMPLOYED\").toPandas()\n"
   ]
  },
  {
   "cell_type": "code",
   "execution_count": 40,
   "metadata": {},
   "outputs": [],
   "source": [
    "import pandas as pd\n",
    "import numpy as np"
   ]
  },
  {
   "cell_type": "code",
   "execution_count": 41,
   "metadata": {},
   "outputs": [],
   "source": [
    "data = df_custdata.toPandas()"
   ]
  },
  {
   "cell_type": "code",
   "execution_count": 42,
   "metadata": {},
   "outputs": [],
   "source": [
    "import pandas as pd\n",
    "import numpy as np\n",
    "import pandas.core.algorithms as algos\n",
    "from pandas import Series\n",
    "import scipy.stats.stats as stats\n",
    "import re\n",
    "import traceback\n",
    "import string\n",
    "import warnings\n",
    "warnings.filterwarnings('ignore')\n",
    "\n",
    "max_bin = 20\n",
    "force_bin = 3\n",
    "\n",
    "# define a binning function\n",
    "def mono_bin(Y, X, n = max_bin):\n",
    "    \n",
    "    df1 = pd.DataFrame({\"X\": X, \"Y\": Y})\n",
    "    justmiss = df1[['X','Y']][df1.X.isnull()]\n",
    "    notmiss = df1[['X','Y']][df1.X.notnull()]\n",
    "    r = 0\n",
    "    while np.abs(r) < 1:\n",
    "        try:\n",
    "            d1 = pd.DataFrame({\"X\": notmiss.X, \"Y\": notmiss.Y, \"Bucket\": pd.qcut(notmiss.X, n)})\n",
    "            d2 = d1.groupby('Bucket', as_index=True)\n",
    "            r, p = stats.spearmanr(d2.mean().X, d2.mean().Y)\n",
    "            n = n - 1 \n",
    "        except Exception as e:\n",
    "            n = n - 1\n",
    "\n",
    "    if len(d2) == 1:\n",
    "        n = force_bin         \n",
    "        bins = algos.quantile(notmiss.X, np.linspace(0, 1, n))\n",
    "        if len(np.unique(bins)) == 2:\n",
    "            bins = np.insert(bins, 0, 1)\n",
    "            bins[1] = bins[1]-(bins[1]/2)\n",
    "        d1 = pd.DataFrame({\"X\": notmiss.X, \"Y\": notmiss.Y, \"Bucket\": pd.cut(notmiss.X, np.unique(bins),include_lowest=True)}) \n",
    "        d2 = d1.groupby('Bucket', as_index=True)\n",
    "    \n",
    "    d3 = pd.DataFrame({},index=[])\n",
    "    d3[\"MIN_VALUE\"] = d2.min().X\n",
    "    d3[\"MAX_VALUE\"] = d2.max().X\n",
    "    d3[\"COUNT\"] = d2.count().Y\n",
    "    d3[\"EVENT\"] = d2.sum().Y\n",
    "    d3[\"NONEVENT\"] = d2.count().Y - d2.sum().Y\n",
    "    d3=d3.reset_index(drop=True)\n",
    "    \n",
    "    if len(justmiss.index) > 0:\n",
    "        d4 = pd.DataFrame({'MIN_VALUE':np.nan},index=[0])\n",
    "        d4[\"MAX_VALUE\"] = np.nan\n",
    "        d4[\"COUNT\"] = justmiss.count().Y\n",
    "        d4[\"EVENT\"] = justmiss.sum().Y\n",
    "        d4[\"NONEVENT\"] = justmiss.count().Y - justmiss.sum().Y\n",
    "        d3 = d3.append(d4,ignore_index=True)\n",
    "    \n",
    "    d3[\"EVENT_RATE\"] = d3.EVENT/d3.COUNT\n",
    "    d3[\"NON_EVENT_RATE\"] = d3.NONEVENT/d3.COUNT\n",
    "    d3[\"DIST_EVENT\"] = d3.EVENT/d3.sum().EVENT\n",
    "    d3[\"DIST_NON_EVENT\"] = d3.NONEVENT/d3.sum().NONEVENT\n",
    "    d3[\"WOE\"] = np.log(d3.DIST_EVENT/d3.DIST_NON_EVENT)\n",
    "    d3[\"IV\"] = (d3.DIST_EVENT-d3.DIST_NON_EVENT)*np.log(d3.DIST_EVENT/d3.DIST_NON_EVENT)\n",
    "    d3[\"VAR_NAME\"] = \"VAR\"\n",
    "    d3 = d3[['VAR_NAME','MIN_VALUE', 'MAX_VALUE', 'COUNT', 'EVENT', 'EVENT_RATE', 'NONEVENT', 'NON_EVENT_RATE', 'DIST_EVENT','DIST_NON_EVENT','WOE', 'IV']]       \n",
    "    d3 = d3.replace([np.inf, -np.inf], 0)\n",
    "    d3.IV = d3.IV.sum()\n",
    "    \n",
    "    return(d3)\n",
    "\n",
    "def char_bin(Y, X):\n",
    "        \n",
    "    df1 = pd.DataFrame({\"X\": X, \"Y\": Y})\n",
    "    justmiss = df1[['X','Y']][df1.X.isnull()]\n",
    "    notmiss = df1[['X','Y']][df1.X.notnull()]    \n",
    "    df2 = notmiss.groupby('X',as_index=True)\n",
    "    \n",
    "    d3 = pd.DataFrame({},index=[])\n",
    "    d3[\"COUNT\"] = df2.count().Y\n",
    "    d3[\"MIN_VALUE\"] = df2.sum().Y.index\n",
    "    d3[\"MAX_VALUE\"] = d3[\"MIN_VALUE\"]\n",
    "    d3[\"EVENT\"] = df2.sum().Y\n",
    "    d3[\"NONEVENT\"] = df2.count().Y - df2.sum().Y\n",
    "    \n",
    "    if len(justmiss.index) > 0:\n",
    "        d4 = pd.DataFrame({'MIN_VALUE':np.nan},index=[0])\n",
    "        d4[\"MAX_VALUE\"] = np.nan\n",
    "        d4[\"COUNT\"] = justmiss.count().Y\n",
    "        d4[\"EVENT\"] = justmiss.sum().Y\n",
    "        d4[\"NONEVENT\"] = justmiss.count().Y - justmiss.sum().Y\n",
    "        d3 = d3.append(d4,ignore_index=True)\n",
    "    \n",
    "    d3[\"EVENT_RATE\"] = d3.EVENT/d3.COUNT\n",
    "    d3[\"NON_EVENT_RATE\"] = d3.NONEVENT/d3.COUNT\n",
    "    d3[\"DIST_EVENT\"] = d3.EVENT/d3.sum().EVENT\n",
    "    d3[\"DIST_NON_EVENT\"] = d3.NONEVENT/d3.sum().NONEVENT\n",
    "    d3[\"WOE\"] = np.log(d3.DIST_EVENT/d3.DIST_NON_EVENT)\n",
    "    d3[\"IV\"] = (d3.DIST_EVENT-d3.DIST_NON_EVENT)*np.log(d3.DIST_EVENT/d3.DIST_NON_EVENT)\n",
    "    d3[\"VAR_NAME\"] = \"VAR\"\n",
    "    d3 = d3[['VAR_NAME','MIN_VALUE', 'MAX_VALUE', 'COUNT', 'EVENT', 'EVENT_RATE', 'NONEVENT', 'NON_EVENT_RATE', 'DIST_EVENT','DIST_NON_EVENT','WOE', 'IV']]      \n",
    "    d3 = d3.replace([np.inf, -np.inf], 0)\n",
    "    d3.IV = d3.IV.sum()\n",
    "    d3 = d3.reset_index(drop=True)\n",
    "    \n",
    "    return(d3)\n",
    "\n",
    "def data_vars(df1, target):\n",
    "    \n",
    "    stack = traceback.extract_stack()\n",
    "    filename, lineno, function_name, code = stack[-2]\n",
    "    vars_name = re.compile(r'\\((.*?)\\).*$').search(code).groups()[0]\n",
    "    final = (re.findall(r\"[\\w']+\", vars_name))[-1]\n",
    "    \n",
    "    x = df1.dtypes.index\n",
    "    count = -1\n",
    "    \n",
    "    for i in x:\n",
    "        if i.upper() not in (final.upper()):\n",
    "            if np.issubdtype(df1[i], np.number) and len(Series.unique(df1[i])) > 2:\n",
    "                conv = mono_bin(target, df1[i])\n",
    "                conv[\"VAR_NAME\"] = i\n",
    "                count = count + 1\n",
    "            else:\n",
    "                conv = char_bin(target, df1[i])\n",
    "                conv[\"VAR_NAME\"] = i            \n",
    "                count = count + 1\n",
    "                \n",
    "            if count == 0:\n",
    "                iv_df = conv\n",
    "            else:\n",
    "                iv_df = iv_df.append(conv,ignore_index=True)\n",
    "    \n",
    "    iv = pd.DataFrame({'IV':iv_df.groupby('VAR_NAME').IV.max()})\n",
    "    iv = iv.reset_index()\n",
    "    return(iv_df,iv)"
   ]
  },
  {
   "cell_type": "code",
   "execution_count": 43,
   "metadata": {},
   "outputs": [],
   "source": [
    "final_iv_data, IV_data = data_vars(data,data.y)\n"
   ]
  },
  {
   "cell_type": "code",
   "execution_count": 44,
   "metadata": {},
   "outputs": [
    {
     "data": {
      "text/html": [
       "<div>\n",
       "<style scoped>\n",
       "    .dataframe tbody tr th:only-of-type {\n",
       "        vertical-align: middle;\n",
       "    }\n",
       "\n",
       "    .dataframe tbody tr th {\n",
       "        vertical-align: top;\n",
       "    }\n",
       "\n",
       "    .dataframe thead th {\n",
       "        text-align: right;\n",
       "    }\n",
       "</style>\n",
       "<table border=\"1\" class=\"dataframe\">\n",
       "  <thead>\n",
       "    <tr style=\"text-align: right;\">\n",
       "      <th></th>\n",
       "      <th>VAR_NAME</th>\n",
       "      <th>MIN_VALUE</th>\n",
       "      <th>MAX_VALUE</th>\n",
       "      <th>COUNT</th>\n",
       "      <th>EVENT</th>\n",
       "      <th>EVENT_RATE</th>\n",
       "      <th>NONEVENT</th>\n",
       "      <th>NON_EVENT_RATE</th>\n",
       "      <th>DIST_EVENT</th>\n",
       "      <th>DIST_NON_EVENT</th>\n",
       "      <th>WOE</th>\n",
       "      <th>IV</th>\n",
       "    </tr>\n",
       "  </thead>\n",
       "  <tbody>\n",
       "    <tr>\n",
       "      <th>0</th>\n",
       "      <td>ID</td>\n",
       "      <td>5008804</td>\n",
       "      <td>5074580</td>\n",
       "      <td>18216</td>\n",
       "      <td>38.0</td>\n",
       "      <td>0.002086</td>\n",
       "      <td>18178.0</td>\n",
       "      <td>0.997914</td>\n",
       "      <td>0.358491</td>\n",
       "      <td>0.500427</td>\n",
       "      <td>-0.333559</td>\n",
       "      <td>0.082838</td>\n",
       "    </tr>\n",
       "    <tr>\n",
       "      <th>1</th>\n",
       "      <td>ID</td>\n",
       "      <td>5074581</td>\n",
       "      <td>5150487</td>\n",
       "      <td>18215</td>\n",
       "      <td>68.0</td>\n",
       "      <td>0.003733</td>\n",
       "      <td>18147.0</td>\n",
       "      <td>0.996267</td>\n",
       "      <td>0.641509</td>\n",
       "      <td>0.499573</td>\n",
       "      <td>0.250070</td>\n",
       "      <td>0.082838</td>\n",
       "    </tr>\n",
       "    <tr>\n",
       "      <th>2</th>\n",
       "      <td>CODE_GENDER</td>\n",
       "      <td>F</td>\n",
       "      <td>F</td>\n",
       "      <td>24416</td>\n",
       "      <td>61.0</td>\n",
       "      <td>0.002498</td>\n",
       "      <td>24355.0</td>\n",
       "      <td>0.997502</td>\n",
       "      <td>0.575472</td>\n",
       "      <td>0.670475</td>\n",
       "      <td>-0.152796</td>\n",
       "      <td>0.038583</td>\n",
       "    </tr>\n",
       "    <tr>\n",
       "      <th>3</th>\n",
       "      <td>CODE_GENDER</td>\n",
       "      <td>M</td>\n",
       "      <td>M</td>\n",
       "      <td>12015</td>\n",
       "      <td>45.0</td>\n",
       "      <td>0.003745</td>\n",
       "      <td>11970.0</td>\n",
       "      <td>0.996255</td>\n",
       "      <td>0.424528</td>\n",
       "      <td>0.329525</td>\n",
       "      <td>0.253326</td>\n",
       "      <td>0.038583</td>\n",
       "    </tr>\n",
       "    <tr>\n",
       "      <th>4</th>\n",
       "      <td>FLAG_OWN_CAR</td>\n",
       "      <td>N</td>\n",
       "      <td>N</td>\n",
       "      <td>22601</td>\n",
       "      <td>70.0</td>\n",
       "      <td>0.003097</td>\n",
       "      <td>22531.0</td>\n",
       "      <td>0.996903</td>\n",
       "      <td>0.660377</td>\n",
       "      <td>0.620262</td>\n",
       "      <td>0.062670</td>\n",
       "      <td>0.006993</td>\n",
       "    </tr>\n",
       "    <tr>\n",
       "      <th>...</th>\n",
       "      <td>...</td>\n",
       "      <td>...</td>\n",
       "      <td>...</td>\n",
       "      <td>...</td>\n",
       "      <td>...</td>\n",
       "      <td>...</td>\n",
       "      <td>...</td>\n",
       "      <td>...</td>\n",
       "      <td>...</td>\n",
       "      <td>...</td>\n",
       "      <td>...</td>\n",
       "      <td>...</td>\n",
       "    </tr>\n",
       "    <tr>\n",
       "      <th>66</th>\n",
       "      <td>OCCUPATION_TYPE_NEW</td>\n",
       "      <td>Realty agents</td>\n",
       "      <td>Realty agents</td>\n",
       "      <td>79</td>\n",
       "      <td>0.0</td>\n",
       "      <td>0.000000</td>\n",
       "      <td>79.0</td>\n",
       "      <td>1.000000</td>\n",
       "      <td>0.000000</td>\n",
       "      <td>0.002175</td>\n",
       "      <td>0.000000</td>\n",
       "      <td>0.212649</td>\n",
       "    </tr>\n",
       "    <tr>\n",
       "      <th>67</th>\n",
       "      <td>OCCUPATION_TYPE_NEW</td>\n",
       "      <td>Sales staff</td>\n",
       "      <td>Sales staff</td>\n",
       "      <td>3485</td>\n",
       "      <td>9.0</td>\n",
       "      <td>0.002582</td>\n",
       "      <td>3476.0</td>\n",
       "      <td>0.997418</td>\n",
       "      <td>0.084906</td>\n",
       "      <td>0.095692</td>\n",
       "      <td>-0.119591</td>\n",
       "      <td>0.212649</td>\n",
       "    </tr>\n",
       "    <tr>\n",
       "      <th>68</th>\n",
       "      <td>OCCUPATION_TYPE_NEW</td>\n",
       "      <td>Secretaries</td>\n",
       "      <td>Secretaries</td>\n",
       "      <td>151</td>\n",
       "      <td>2.0</td>\n",
       "      <td>0.013245</td>\n",
       "      <td>149.0</td>\n",
       "      <td>0.986755</td>\n",
       "      <td>0.018868</td>\n",
       "      <td>0.004102</td>\n",
       "      <td>1.526023</td>\n",
       "      <td>0.212649</td>\n",
       "    </tr>\n",
       "    <tr>\n",
       "      <th>69</th>\n",
       "      <td>OCCUPATION_TYPE_NEW</td>\n",
       "      <td>Security staff</td>\n",
       "      <td>Security staff</td>\n",
       "      <td>592</td>\n",
       "      <td>6.0</td>\n",
       "      <td>0.010135</td>\n",
       "      <td>586.0</td>\n",
       "      <td>0.989865</td>\n",
       "      <td>0.056604</td>\n",
       "      <td>0.016132</td>\n",
       "      <td>1.255262</td>\n",
       "      <td>0.212649</td>\n",
       "    </tr>\n",
       "    <tr>\n",
       "      <th>70</th>\n",
       "      <td>OCCUPATION_TYPE_NEW</td>\n",
       "      <td>Waiters/barmen staff</td>\n",
       "      <td>Waiters/barmen staff</td>\n",
       "      <td>173</td>\n",
       "      <td>1.0</td>\n",
       "      <td>0.005780</td>\n",
       "      <td>172.0</td>\n",
       "      <td>0.994220</td>\n",
       "      <td>0.009434</td>\n",
       "      <td>0.004735</td>\n",
       "      <td>0.689328</td>\n",
       "      <td>0.212649</td>\n",
       "    </tr>\n",
       "  </tbody>\n",
       "</table>\n",
       "<p>71 rows × 12 columns</p>\n",
       "</div>"
      ],
      "text/plain": [
       "               VAR_NAME             MIN_VALUE             MAX_VALUE  COUNT  \\\n",
       "0                    ID               5008804               5074580  18216   \n",
       "1                    ID               5074581               5150487  18215   \n",
       "2           CODE_GENDER                     F                     F  24416   \n",
       "3           CODE_GENDER                     M                     M  12015   \n",
       "4          FLAG_OWN_CAR                     N                     N  22601   \n",
       "..                  ...                   ...                   ...    ...   \n",
       "66  OCCUPATION_TYPE_NEW         Realty agents         Realty agents     79   \n",
       "67  OCCUPATION_TYPE_NEW           Sales staff           Sales staff   3485   \n",
       "68  OCCUPATION_TYPE_NEW           Secretaries           Secretaries    151   \n",
       "69  OCCUPATION_TYPE_NEW        Security staff        Security staff    592   \n",
       "70  OCCUPATION_TYPE_NEW  Waiters/barmen staff  Waiters/barmen staff    173   \n",
       "\n",
       "    EVENT  EVENT_RATE  NONEVENT  NON_EVENT_RATE  DIST_EVENT  DIST_NON_EVENT  \\\n",
       "0    38.0    0.002086   18178.0        0.997914    0.358491        0.500427   \n",
       "1    68.0    0.003733   18147.0        0.996267    0.641509        0.499573   \n",
       "2    61.0    0.002498   24355.0        0.997502    0.575472        0.670475   \n",
       "3    45.0    0.003745   11970.0        0.996255    0.424528        0.329525   \n",
       "4    70.0    0.003097   22531.0        0.996903    0.660377        0.620262   \n",
       "..    ...         ...       ...             ...         ...             ...   \n",
       "66    0.0    0.000000      79.0        1.000000    0.000000        0.002175   \n",
       "67    9.0    0.002582    3476.0        0.997418    0.084906        0.095692   \n",
       "68    2.0    0.013245     149.0        0.986755    0.018868        0.004102   \n",
       "69    6.0    0.010135     586.0        0.989865    0.056604        0.016132   \n",
       "70    1.0    0.005780     172.0        0.994220    0.009434        0.004735   \n",
       "\n",
       "         WOE        IV  \n",
       "0  -0.333559  0.082838  \n",
       "1   0.250070  0.082838  \n",
       "2  -0.152796  0.038583  \n",
       "3   0.253326  0.038583  \n",
       "4   0.062670  0.006993  \n",
       "..       ...       ...  \n",
       "66  0.000000  0.212649  \n",
       "67 -0.119591  0.212649  \n",
       "68  1.526023  0.212649  \n",
       "69  1.255262  0.212649  \n",
       "70  0.689328  0.212649  \n",
       "\n",
       "[71 rows x 12 columns]"
      ]
     },
     "execution_count": 44,
     "metadata": {},
     "output_type": "execute_result"
    }
   ],
   "source": [
    "final_iv_data"
   ]
  },
  {
   "cell_type": "code",
   "execution_count": 45,
   "metadata": {},
   "outputs": [
    {
     "data": {
      "text/html": [
       "<div>\n",
       "<style scoped>\n",
       "    .dataframe tbody tr th:only-of-type {\n",
       "        vertical-align: middle;\n",
       "    }\n",
       "\n",
       "    .dataframe tbody tr th {\n",
       "        vertical-align: top;\n",
       "    }\n",
       "\n",
       "    .dataframe thead th {\n",
       "        text-align: right;\n",
       "    }\n",
       "</style>\n",
       "<table border=\"1\" class=\"dataframe\">\n",
       "  <thead>\n",
       "    <tr style=\"text-align: right;\">\n",
       "      <th></th>\n",
       "      <th>VAR_NAME</th>\n",
       "      <th>IV</th>\n",
       "    </tr>\n",
       "  </thead>\n",
       "  <tbody>\n",
       "    <tr>\n",
       "      <th>18</th>\n",
       "      <td>STATUS</td>\n",
       "      <td>0.000000</td>\n",
       "    </tr>\n",
       "    <tr>\n",
       "      <th>6</th>\n",
       "      <td>FLAG_MOBIL</td>\n",
       "      <td>0.000000</td>\n",
       "    </tr>\n",
       "    <tr>\n",
       "      <th>8</th>\n",
       "      <td>FLAG_OWN_REALTY</td>\n",
       "      <td>0.000237</td>\n",
       "    </tr>\n",
       "    <tr>\n",
       "      <th>1</th>\n",
       "      <td>AMT_INCOME_TOTAL</td>\n",
       "      <td>0.001394</td>\n",
       "    </tr>\n",
       "    <tr>\n",
       "      <th>0</th>\n",
       "      <td>AGE</td>\n",
       "      <td>0.003298</td>\n",
       "    </tr>\n",
       "    <tr>\n",
       "      <th>3</th>\n",
       "      <td>CNT_FAM_MEMBERS</td>\n",
       "      <td>0.004309</td>\n",
       "    </tr>\n",
       "    <tr>\n",
       "      <th>9</th>\n",
       "      <td>FLAG_PHONE</td>\n",
       "      <td>0.005830</td>\n",
       "    </tr>\n",
       "    <tr>\n",
       "      <th>7</th>\n",
       "      <td>FLAG_OWN_CAR</td>\n",
       "      <td>0.006993</td>\n",
       "    </tr>\n",
       "    <tr>\n",
       "      <th>10</th>\n",
       "      <td>FLAG_WORK_PHONE</td>\n",
       "      <td>0.008343</td>\n",
       "    </tr>\n",
       "    <tr>\n",
       "      <th>15</th>\n",
       "      <td>NAME_HOUSING_TYPE</td>\n",
       "      <td>0.008634</td>\n",
       "    </tr>\n",
       "    <tr>\n",
       "      <th>13</th>\n",
       "      <td>NAME_EDUCATION_TYPE</td>\n",
       "      <td>0.017633</td>\n",
       "    </tr>\n",
       "    <tr>\n",
       "      <th>19</th>\n",
       "      <td>YEARS_EMPLOYED</td>\n",
       "      <td>0.035115</td>\n",
       "    </tr>\n",
       "    <tr>\n",
       "      <th>4</th>\n",
       "      <td>CODE_GENDER</td>\n",
       "      <td>0.038583</td>\n",
       "    </tr>\n",
       "    <tr>\n",
       "      <th>2</th>\n",
       "      <td>CNT_CHILDREN</td>\n",
       "      <td>0.046636</td>\n",
       "    </tr>\n",
       "    <tr>\n",
       "      <th>5</th>\n",
       "      <td>FLAG_EMAIL</td>\n",
       "      <td>0.046963</td>\n",
       "    </tr>\n",
       "    <tr>\n",
       "      <th>11</th>\n",
       "      <td>ID</td>\n",
       "      <td>0.082838</td>\n",
       "    </tr>\n",
       "    <tr>\n",
       "      <th>14</th>\n",
       "      <td>NAME_FAMILY_STATUS</td>\n",
       "      <td>0.087367</td>\n",
       "    </tr>\n",
       "    <tr>\n",
       "      <th>16</th>\n",
       "      <td>NAME_INCOME_TYPE</td>\n",
       "      <td>0.107992</td>\n",
       "    </tr>\n",
       "    <tr>\n",
       "      <th>17</th>\n",
       "      <td>OCCUPATION_TYPE_NEW</td>\n",
       "      <td>0.212649</td>\n",
       "    </tr>\n",
       "    <tr>\n",
       "      <th>12</th>\n",
       "      <td>Months_delay</td>\n",
       "      <td>0.212775</td>\n",
       "    </tr>\n",
       "  </tbody>\n",
       "</table>\n",
       "</div>"
      ],
      "text/plain": [
       "               VAR_NAME        IV\n",
       "18               STATUS  0.000000\n",
       "6            FLAG_MOBIL  0.000000\n",
       "8       FLAG_OWN_REALTY  0.000237\n",
       "1      AMT_INCOME_TOTAL  0.001394\n",
       "0                   AGE  0.003298\n",
       "3       CNT_FAM_MEMBERS  0.004309\n",
       "9            FLAG_PHONE  0.005830\n",
       "7          FLAG_OWN_CAR  0.006993\n",
       "10      FLAG_WORK_PHONE  0.008343\n",
       "15    NAME_HOUSING_TYPE  0.008634\n",
       "13  NAME_EDUCATION_TYPE  0.017633\n",
       "19       YEARS_EMPLOYED  0.035115\n",
       "4           CODE_GENDER  0.038583\n",
       "2          CNT_CHILDREN  0.046636\n",
       "5            FLAG_EMAIL  0.046963\n",
       "11                   ID  0.082838\n",
       "14   NAME_FAMILY_STATUS  0.087367\n",
       "16     NAME_INCOME_TYPE  0.107992\n",
       "17  OCCUPATION_TYPE_NEW  0.212649\n",
       "12         Months_delay  0.212775"
      ]
     },
     "execution_count": 45,
     "metadata": {},
     "output_type": "execute_result"
    }
   ],
   "source": [
    "IV_data.sort_values('IV')"
   ]
  },
  {
   "cell_type": "code",
   "execution_count": null,
   "metadata": {},
   "outputs": [],
   "source": [
    "# threshold of 0.002 after you calculate the IV values to eliminate the weak predictors.\n",
    "#so i am including predictor and eliminating predictors which hold thredshold 0.002\n",
    "\n",
    "    VAR_NAME\tIV\n",
    "18\tSTATUS\t0.000000\n",
    "6\tFLAG_MOBIL\t0.000000\n",
    "8\tFLAG_OWN_REALTY\t0.000237\n",
    "1\tAMT_INCOME_TOTAL\t0.001394\n",
    "\n",
    "0\tAGE\t0.003298\n",
    "3\tCNT_FAM_MEMBERS\t0.004309\n",
    "9\tFLAG_PHONE\t0.005830\n",
    "7\tFLAG_OWN_CAR\t0.006993\n",
    "10\tFLAG_WORK_PHONE\t0.008343\n",
    "15\tNAME_HOUSING_TYPE\t0.008634\n",
    "13\tNAME_EDUCATION_TYPE\t0.017633\n",
    "19\tYEARS_EMPLOYED\t0.035115\n",
    "4\tCODE_GENDER\t0.038583\n",
    "2\tCNT_CHILDREN\t0.046636\n",
    "5\tFLAG_EMAIL\t0.046963\n",
    "11\tID\t0.082838\n",
    "14\tNAME_FAMILY_STATUS\t0.087367\n",
    "16\tNAME_INCOME_TYPE\t0.107992\n",
    "17\tOCCUPATION_TYPE_NEW\t0.212649\n",
    "12\tMonths_delay\t0.212775"
   ]
  },
  {
   "cell_type": "code",
   "execution_count": 319,
   "metadata": {},
   "outputs": [
    {
     "data": {
      "text/plain": [
       "['ID',\n",
       " 'CODE_GENDER',\n",
       " 'FLAG_OWN_CAR',\n",
       " 'FLAG_OWN_REALTY',\n",
       " 'CNT_CHILDREN',\n",
       " 'AMT_INCOME_TOTAL',\n",
       " 'NAME_INCOME_TYPE',\n",
       " 'NAME_EDUCATION_TYPE',\n",
       " 'NAME_FAMILY_STATUS',\n",
       " 'NAME_HOUSING_TYPE',\n",
       " 'FLAG_MOBIL',\n",
       " 'FLAG_WORK_PHONE',\n",
       " 'FLAG_PHONE',\n",
       " 'FLAG_EMAIL',\n",
       " 'CNT_FAM_MEMBERS',\n",
       " 'Months_delay',\n",
       " 'STATUS',\n",
       " 'y',\n",
       " 'AGE',\n",
       " 'YEARS_EMPLOYED',\n",
       " 'OCCUPATION_TYPE_NEW']"
      ]
     },
     "execution_count": 319,
     "metadata": {},
     "output_type": "execute_result"
    }
   ],
   "source": [
    "df_custdata.columns"
   ]
  },
  {
   "cell_type": "code",
   "execution_count": 46,
   "metadata": {},
   "outputs": [],
   "source": [
    "df_new = df_custdata.select('AGE','CNT_FAM_MEMBERS','FLAG_PHONE','FLAG_OWN_CAR','FLAG_WORK_PHONE','NAME_HOUSING_TYPE','NAME_EDUCATION_TYPE','YEARS_EMPLOYED','CODE_GENDER','CNT_CHILDREN','FLAG_EMAIL','ID','NAME_FAMILY_STATUS','NAME_INCOME_TYPE','OCCUPATION_TYPE_NEW','Months_delay','y')"
   ]
  },
  {
   "cell_type": "code",
   "execution_count": 47,
   "metadata": {},
   "outputs": [],
   "source": [
    "df_new.coalesce(1).write.options(header = True).csv(\"deliq_customer_details_IV.csv\")"
   ]
  },
  {
   "cell_type": "code",
   "execution_count": 102,
   "metadata": {},
   "outputs": [],
   "source": [
    "#df1= spark.read.csv(\"deliq_customer_details_IV.csv\", header = True, inferSchema = True)\n"
   ]
  },
  {
   "cell_type": "code",
   "execution_count": 322,
   "metadata": {},
   "outputs": [
    {
     "data": {
      "text/plain": [
       "36431"
      ]
     },
     "execution_count": 322,
     "metadata": {},
     "output_type": "execute_result"
    }
   ],
   "source": [
    "df_new.count()"
   ]
  },
  {
   "cell_type": "code",
   "execution_count": null,
   "metadata": {},
   "outputs": [],
   "source": [
    "#df_new.write.options(\"header\",\"true\").csv(\"s3n://mynithbuck/logistic/deliq_customer_details_IV\")\n"
   ]
  },
  {
   "cell_type": "code",
   "execution_count": 318,
   "metadata": {},
   "outputs": [],
   "source": []
  },
  {
   "cell_type": "code",
   "execution_count": null,
   "metadata": {},
   "outputs": [],
   "source": []
  }
 ],
 "metadata": {
  "kernelspec": {
   "display_name": "Python 3",
   "language": "python",
   "name": "python3"
  },
  "language_info": {
   "codemirror_mode": {
    "name": "ipython",
    "version": 3
   },
   "file_extension": ".py",
   "mimetype": "text/x-python",
   "name": "python",
   "nbconvert_exporter": "python",
   "pygments_lexer": "ipython3",
   "version": "3.7.4"
  }
 },
 "nbformat": 4,
 "nbformat_minor": 4
}
