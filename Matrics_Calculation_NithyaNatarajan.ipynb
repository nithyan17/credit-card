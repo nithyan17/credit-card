{
 "cells": [
  {
   "cell_type": "code",
   "execution_count": 1,
   "metadata": {},
   "outputs": [],
   "source": [
    "# Suppressing Warnings\n",
    "import warnings\n",
    "warnings.filterwarnings('ignore')\n",
    "# Importing Pandas and NumPy\n",
    "import pandas as pd, numpy as np"
   ]
  },
  {
   "cell_type": "code",
   "execution_count": 2,
   "metadata": {},
   "outputs": [],
   "source": [
    "# Defining the environment variables \n",
    "\n",
    "import os\n",
    "import sys\n",
    "os.environ[\"PYSPARK_PYTHON\"] = \"/usr/bin/python3\"\n",
    "os.environ[\"JAVA_HOME\"] = \"/usr/java/jdk1.8.0_161/jre\"\n",
    "os.environ[\"SPARK_HOME\"] = \"/home/ec2-user/spark-2.4.4-bin-hadoop2.7\"\n",
    "os.environ[\"PYLIB\"] = os.environ[\"SPARK_HOME\"] + \"/python/lib\"\n",
    "sys.path.insert(0, os.environ[\"PYLIB\"] +\"/py4j-0.10.7-src.zip\")\n",
    "sys.path.insert(0, os.environ[\"PYLIB\"] +\"/pyspark.zip\")"
   ]
  },
  {
   "cell_type": "code",
   "execution_count": 3,
   "metadata": {},
   "outputs": [],
   "source": [
    " #Importing the SparkSession library\n",
    "\n",
    "from pyspark.sql import SparkSession\n",
    "\n",
    "\n",
    "# Creating the SparkSession object\n",
    "\n",
    "spark = SparkSession.builder \\\n",
    "                    .appName('metrics')\\\n",
    "                    .getOrCreate()"
   ]
  },
  {
   "cell_type": "code",
   "execution_count": 4,
   "metadata": {},
   "outputs": [
    {
     "data": {
      "text/html": [
       "\n",
       "            <div>\n",
       "                <p><b>SparkSession - in-memory</b></p>\n",
       "                \n",
       "        <div>\n",
       "            <p><b>SparkContext</b></p>\n",
       "\n",
       "            <p><a href=\"http://ip-172-31-61-111.ec2.internal:4040\">Spark UI</a></p>\n",
       "\n",
       "            <dl>\n",
       "              <dt>Version</dt>\n",
       "                <dd><code>v2.4.4</code></dd>\n",
       "              <dt>Master</dt>\n",
       "                <dd><code>local[*]</code></dd>\n",
       "              <dt>AppName</dt>\n",
       "                <dd><code>metrics</code></dd>\n",
       "            </dl>\n",
       "        </div>\n",
       "        \n",
       "            </div>\n",
       "        "
      ],
      "text/plain": [
       "<pyspark.sql.session.SparkSession at 0x7fa47a44ab50>"
      ]
     },
     "execution_count": 4,
     "metadata": {},
     "output_type": "execute_result"
    }
   ],
   "source": [
    "spark"
   ]
  },
  {
   "cell_type": "code",
   "execution_count": 6,
   "metadata": {},
   "outputs": [],
   "source": [
    "# Read the data from the result data frame you created in the model. \n",
    "\n",
    "#df_result = spark.read.parquet(\"s3n://mynithbuck/logistic/credit_card_details.parquet\")\n",
    "\n",
    "df_result = spark.read.parquet(\"credit_card_details.parquet\")"
   ]
  },
  {
   "cell_type": "code",
   "execution_count": 7,
   "metadata": {},
   "outputs": [
    {
     "name": "stdout",
     "output_type": "stream",
     "text": [
      "+----------+---------------+-----------------+-------------------+-----------+------------+------------------+----------------+-------------------+------------+---+----------------+--------------+-------------------+--------------+---------------------+--------------------+-------------------+----------------------+----------------------+-------------------------+-------------+-----------------+-----------------------+-----------------+-------------------------+-------------------+----------------------+------------------------+----------------------+------------------+--------------------+--------------------+--------------------+----------+\n",
      "|FLAG_PHONE|FLAG_WORK_PHONE|NAME_HOUSING_TYPE|NAME_EDUCATION_TYPE|CODE_GENDER|CNT_CHILDREN|NAME_FAMILY_STATUS|NAME_INCOME_TYPE|OCCUPATION_TYPE_NEW|Months_delay|  y|FLAG_OWN_CAR_NEW|FLAG_EMAIL_NEW|CNT_FAM_MEMBERS_NEW|CODE_GENDER_ix|NAME_FAMILY_STATUS_ix|NAME_HOUSING_TYPE_ix|NAME_INCOME_TYPE_ix|NAME_EDUCATION_TYPE_ix|OCCUPATION_TYPE_NEW_ix|OCCUPATION_TYPE_NEW_ixEnc|FLAG_PHONEEnc|CODE_GENDER_ixEnc|NAME_HOUSING_TYPE_ixEnc|FLAG_EMAIL_NEWEnc|NAME_EDUCATION_TYPE_ixEnc|FLAG_OWN_CAR_NEWEnc|CNT_FAM_MEMBERS_NEWEnc|NAME_FAMILY_STATUS_ixEnc|NAME_INCOME_TYPE_ixEnc|FLAG_WORK_PHONEEnc|            features|       rawPrediction|         probability|prediction|\n",
      "+----------+---------------+-----------------+-------------------+-----------+------------+------------------+----------------+-------------------+------------+---+----------------+--------------+-------------------+--------------+---------------------+--------------------+-------------------+----------------------+----------------------+-------------------------+-------------+-----------------+-----------------------+-----------------+-------------------------+-------------------+----------------------+------------------------+----------------------+------------------+--------------------+--------------------+--------------------+----------+\n",
      "|         0|              0|  Co-op apartment|   Higher education|          F|           0|           Married|         Working|        Sales staff|           0|  0|               1|             0|                  2|           0.0|                  0.0|                 5.0|                0.0|                   1.0|                   3.0|           (18,[3],[1.0])|(1,[0],[1.0])|    (1,[0],[1.0])|              (5,[],[])|        (0,[],[])|            (4,[1],[1.0])|          (1,[],[])|         (6,[2],[1.0])|           (4,[0],[1.0])|         (4,[0],[1.0])|     (1,[0],[1.0])|(47,[1,2,5,9,10,1...|[5.08554655511382...|[0.99385251982547...|       0.0|\n",
      "|         0|              0|  Co-op apartment|   Higher education|          F|           0|           Married|         Working|        Sales staff|           0|  0|               1|             0|                  2|           0.0|                  0.0|                 5.0|                0.0|                   1.0|                   3.0|           (18,[3],[1.0])|(1,[0],[1.0])|    (1,[0],[1.0])|              (5,[],[])|        (0,[],[])|            (4,[1],[1.0])|          (1,[],[])|         (6,[2],[1.0])|           (4,[0],[1.0])|         (4,[0],[1.0])|     (1,[0],[1.0])|(47,[1,2,5,9,10,1...|[5.08554655511382...|[0.99385251982547...|       0.0|\n",
      "|         0|              0|  Co-op apartment|   Higher education|          F|           2|           Married|         Working|           Laborers|           0|  0|               0|             0|                  4|           0.0|                  0.0|                 5.0|                0.0|                   1.0|                   1.0|           (18,[1],[1.0])|(1,[0],[1.0])|    (1,[0],[1.0])|              (5,[],[])|        (0,[],[])|            (4,[1],[1.0])|      (1,[0],[1.0])|         (6,[4],[1.0])|           (4,[0],[1.0])|         (4,[0],[1.0])|     (1,[0],[1.0])|(47,[0,1,2,7,9,10...|[5.64284934745537...|[0.99646974737740...|       0.0|\n",
      "|         0|              0|  Co-op apartment|   Higher education|          F|           2|           Married|         Working|           Laborers|          38|  0|               0|             0|                  4|           0.0|                  0.0|                 5.0|                0.0|                   1.0|                   1.0|           (18,[1],[1.0])|(1,[0],[1.0])|    (1,[0],[1.0])|              (5,[],[])|        (0,[],[])|            (4,[1],[1.0])|      (1,[0],[1.0])|         (6,[4],[1.0])|           (4,[0],[1.0])|         (4,[0],[1.0])|     (1,[0],[1.0])|(47,[0,1,2,7,9,10...|[6.82894178394312...|[0.99891916695964...|       0.0|\n",
      "|         0|              0|  Co-op apartment|   Higher education|          F|           2|           Married|         Working|           Laborers|          50|  0|               0|             0|                  4|           0.0|                  0.0|                 5.0|                0.0|                   1.0|                   1.0|           (18,[1],[1.0])|(1,[0],[1.0])|    (1,[0],[1.0])|              (5,[],[])|        (0,[],[])|            (4,[1],[1.0])|      (1,[0],[1.0])|         (6,[4],[1.0])|           (4,[0],[1.0])|         (4,[0],[1.0])|     (1,[0],[1.0])|(47,[0,1,2,7,9,10...|[7.20349729020241...|[0.99925657375218...|       0.0|\n",
      "+----------+---------------+-----------------+-------------------+-----------+------------+------------------+----------------+-------------------+------------+---+----------------+--------------+-------------------+--------------+---------------------+--------------------+-------------------+----------------------+----------------------+-------------------------+-------------+-----------------+-----------------------+-----------------+-------------------------+-------------------+----------------------+------------------------+----------------------+------------------+--------------------+--------------------+--------------------+----------+\n",
      "only showing top 5 rows\n",
      "\n"
     ]
    }
   ],
   "source": [
    "df_result.show(5)"
   ]
  },
  {
   "cell_type": "code",
   "execution_count": 8,
   "metadata": {},
   "outputs": [],
   "source": [
    "df = df_result.select(\"y\",\"probability\",\"prediction\")"
   ]
  },
  {
   "cell_type": "code",
   "execution_count": 9,
   "metadata": {},
   "outputs": [
    {
     "data": {
      "text/plain": [
       "Row(y=0, probability=DenseVector([0.9925, 0.0075]), prediction=0.0)"
      ]
     },
     "execution_count": 9,
     "metadata": {},
     "output_type": "execute_result"
    }
   ],
   "source": [
    "df.collect()[5]"
   ]
  },
  {
   "cell_type": "code",
   "execution_count": 10,
   "metadata": {},
   "outputs": [],
   "source": [
    "# the probability is a dense vector column. \n",
    "# You will have to find a way to access the value of the probability referring to the positive class. \n",
    "# create a function to access the probability of the positive class form the 'probability' column\n",
    "\n",
    "\n",
    "from pyspark.sql.functions import udf, when\n",
    "from pyspark.sql.types import FloatType\n",
    "\n",
    "element_extrac=udf(lambda v:float(v[1]),FloatType())"
   ]
  },
  {
   "cell_type": "code",
   "execution_count": 49,
   "metadata": {},
   "outputs": [],
   "source": [
    "# create a list of all the thresholds you want to check the metrics for. \n",
    "\n",
    "result_list = []       # to store the values of precision and recall\n",
    "threshold_list = [0.05,0.1,0.15,0.2,0.25,0.3,0.35,0.4,0.45,0.5,0.55,0.6,0.65]\n",
    "#threshold_list"
   ]
  },
  {
   "cell_type": "code",
   "execution_count": 50,
   "metadata": {},
   "outputs": [],
   "source": [
    "# Now you have the probabilities, your task is to add a class column. \n",
    "# To create this column, compare the probabilities with the threshold and decide the class. \n",
    "# You can make a loop which will repeat the same action for different thresholds\n",
    "# Use the filter and count functions to find the true positives, false positives, false negatives. (inside the loop)\n",
    "# Using these values, find the precision and recall for different thresholds. (inside the loop)\n",
    "\n",
    "\n",
    "for i in threshold_list:\n",
    "    test_pred = df.withColumn('label_p',when(element_extrac(df[\"probability\"]) >= i, 1).otherwise(0))\n",
    "    TP = test_pred.filter(\"y==1 AND label_p==1\").count()\n",
    "    FP = test_pred.filter(\"y==0 AND label_p==1\").count()\n",
    "    FN = test_pred.filter(\"y==1 AND label_p==0\").count()\n",
    "    TN = test_pred.filter(\"y==0 AND label_p==0\").count()    \n",
    "    recall = (TP/(TP+FN))\n",
    "    presession = ((TP/(TP+FP)))\n",
    "    list1 = []\n",
    "    list1.append(i)\n",
    "    list1.append(presession)\n",
    "    list1.append(recall)\n",
    "    list1.append(TP)\n",
    "    list1.append(TN)\n",
    "    list1.append(FP)\n",
    "    list1.append(FN)\n",
    "    result_list.append(list1)"
   ]
  },
  {
   "cell_type": "code",
   "execution_count": 51,
   "metadata": {},
   "outputs": [
    {
     "data": {
      "text/plain": [
       "[[0.05, 0.03333333333333333, 0.037037037037037035, 1, 10940, 29, 26],\n",
       " [0.1, 0.05263157894736842, 0.037037037037037035, 1, 10951, 18, 26],\n",
       " [0.15, 0.1, 0.037037037037037035, 1, 10960, 9, 26],\n",
       " [0.2, 0.1111111111111111, 0.037037037037037035, 1, 10961, 8, 26],\n",
       " [0.25, 0.125, 0.037037037037037035, 1, 10962, 7, 26],\n",
       " [0.3, 0.14285714285714285, 0.037037037037037035, 1, 10963, 6, 26],\n",
       " [0.35, 0.16666666666666666, 0.037037037037037035, 1, 10964, 5, 26],\n",
       " [0.4, 0.25, 0.037037037037037035, 1, 10966, 3, 26],\n",
       " [0.45, 0.5, 0.037037037037037035, 1, 10968, 1, 26],\n",
       " [0.5, 0.5, 0.037037037037037035, 1, 10968, 1, 26],\n",
       " [0.55, 1.0, 0.037037037037037035, 1, 10969, 0, 26],\n",
       " [0.6, 1.0, 0.037037037037037035, 1, 10969, 0, 26],\n",
       " [0.65, 1.0, 0.037037037037037035, 1, 10969, 0, 26]]"
      ]
     },
     "execution_count": 51,
     "metadata": {},
     "output_type": "execute_result"
    }
   ],
   "source": [
    "result_list"
   ]
  },
  {
   "cell_type": "code",
   "execution_count": 52,
   "metadata": {},
   "outputs": [],
   "source": [
    "# Create a panadas datafarme for the list of the output. \n",
    "\n",
    "# create a schema for the dataframes \n",
    "from pyspark.sql.types import *\n",
    "\n",
    "schema = StructType([StructField('threshold', FloatType(), True),\n",
    "                      StructField('precision', FloatType(), True),\n",
    "                      StructField('recall', FloatType(), True),\n",
    "                      StructField('TP', IntegerType(), True),\n",
    "                      StructField('TN', IntegerType(), True),\n",
    "                      StructField('FP', IntegerType(), True),\n",
    "                      StructField('FN', IntegerType(), True)])\n",
    "\n",
    "\n",
    "# create a rdd from the list\n",
    "rdd = spark.sparkContext.parallelize(result_list)\n",
    "\n",
    "\n",
    "# create a spark dataframe form rdd\n",
    "thresh_df = spark.createDataFrame(rdd,schema)\n",
    "\n",
    "# create pandas dataframe form the spark dataframe \n",
    "pandas_df = thresh_df.toPandas()"
   ]
  },
  {
   "cell_type": "code",
   "execution_count": 53,
   "metadata": {},
   "outputs": [
    {
     "data": {
      "image/png": "[encoded data removed]",
      "text/plain": [
       "<Figure size 432x288 with 1 Axes>"
      ]
     },
     "metadata": {
      "needs_background": "light"
     },
     "output_type": "display_data"
    }
   ],
   "source": [
    "# import matplot lib \n",
    "import matplotlib.pyplot as plt\n",
    "\n",
    "pandas_df.plot.line(x='threshold', y=['precision','recall'])\n",
    "plt.show()"
   ]
  },
  {
   "cell_type": "code",
   "execution_count": 54,
   "metadata": {},
   "outputs": [],
   "source": [
    "total_number = df.count()                  # count the total number of readings\n",
    "positives = df.filter(\"y==1\").count()      # count the total number of actual positives\n",
    "negatives = df.filter(\"y==0\").count()      # count the total number of actual negatives"
   ]
  },
  {
   "cell_type": "code",
   "execution_count": null,
   "metadata": {},
   "outputs": [],
   "source": []
  },
  {
   "cell_type": "code",
   "execution_count": 55,
   "metadata": {},
   "outputs": [],
   "source": [
    "final_df = thresh_df"
   ]
  },
  {
   "cell_type": "code",
   "execution_count": 56,
   "metadata": {},
   "outputs": [],
   "source": [
    "from pyspark.sql.functions import lit\n",
    "\n",
    "# add columns to represent the total number of readings and total number of positives. \n",
    "final_df = final_df.withColumn('total',lit(total_number))\n",
    "final_df = final_df.withColumn('actual_positives',lit(positives))\n",
    "\n",
    "# add a column with total number pf predictions for each threshold\n",
    "final_df = final_df.withColumn('predicted_positives',final_df['TP']+final_df['FP'])\n",
    "final_df = final_df.withColumn('predicted_negatives',final_df['TN']+final_df['TP'])"
   ]
  },
  {
   "cell_type": "code",
   "execution_count": 57,
   "metadata": {},
   "outputs": [
    {
     "name": "stdout",
     "output_type": "stream",
     "text": [
      "+---------+---------+------+-----+----------------+-------------------+-------------------+\n",
      "|threshold|precision|recall|total|actual_positives|predicted_positives|predicted_negatives|\n",
      "+---------+---------+------+-----+----------------+-------------------+-------------------+\n",
      "|     0.05|    0.033| 0.037|10996|              27|                 30|              10941|\n",
      "|      0.1|    0.053| 0.037|10996|              27|                 19|              10952|\n",
      "|     0.15|    0.100| 0.037|10996|              27|                 10|              10961|\n",
      "|      0.2|    0.111| 0.037|10996|              27|                  9|              10962|\n",
      "|     0.25|    0.125| 0.037|10996|              27|                  8|              10963|\n",
      "|      0.3|    0.143| 0.037|10996|              27|                  7|              10964|\n",
      "|     0.35|    0.167| 0.037|10996|              27|                  6|              10965|\n",
      "|      0.4|    0.250| 0.037|10996|              27|                  4|              10967|\n",
      "|     0.45|    0.500| 0.037|10996|              27|                  2|              10969|\n",
      "|      0.5|    0.500| 0.037|10996|              27|                  2|              10969|\n",
      "|     0.55|    1.000| 0.037|10996|              27|                  1|              10970|\n",
      "|      0.6|    1.000| 0.037|10996|              27|                  1|              10970|\n",
      "|     0.65|    1.000| 0.037|10996|              27|                  1|              10970|\n",
      "+---------+---------+------+-----+----------------+-------------------+-------------------+\n",
      "\n"
     ]
    }
   ],
   "source": [
    "from pyspark.sql.functions import format_number\n",
    "\n",
    "final_df.select(final_df['threshold'],\n",
    "                format_number(final_df['precision'],3).alias('precision'),\n",
    "                format_number(final_df['recall'],3).alias('recall'),\n",
    "                'total',\n",
    "                'actual_positives',\n",
    "                'predicted_positives',\n",
    "                'predicted_negatives',\n",
    "                          \n",
    "               ).show()"
   ]
  },
  {
   "cell_type": "code",
   "execution_count": 58,
   "metadata": {},
   "outputs": [],
   "source": [
    "df_panda = df.toPandas()"
   ]
  },
  {
   "cell_type": "code",
   "execution_count": 59,
   "metadata": {},
   "outputs": [
    {
     "data": {
      "text/html": [
       "<div>\n",
       "<style scoped>\n",
       "    .dataframe tbody tr th:only-of-type {\n",
       "        vertical-align: middle;\n",
       "    }\n",
       "\n",
       "    .dataframe tbody tr th {\n",
       "        vertical-align: top;\n",
       "    }\n",
       "\n",
       "    .dataframe thead th {\n",
       "        text-align: right;\n",
       "    }\n",
       "</style>\n",
       "<table border=\"1\" class=\"dataframe\">\n",
       "  <thead>\n",
       "    <tr style=\"text-align: right;\">\n",
       "      <th></th>\n",
       "      <th>y</th>\n",
       "      <th>probability</th>\n",
       "      <th>prediction</th>\n",
       "    </tr>\n",
       "  </thead>\n",
       "  <tbody>\n",
       "    <tr>\n",
       "      <th>0</th>\n",
       "      <td>0</td>\n",
       "      <td>[0.9938525198254733, 0.00614748017452675]</td>\n",
       "      <td>0.0</td>\n",
       "    </tr>\n",
       "    <tr>\n",
       "      <th>1</th>\n",
       "      <td>0</td>\n",
       "      <td>[0.9938525198254733, 0.00614748017452675]</td>\n",
       "      <td>0.0</td>\n",
       "    </tr>\n",
       "    <tr>\n",
       "      <th>2</th>\n",
       "      <td>0</td>\n",
       "      <td>[0.9964697473774089, 0.0035302526225910076]</td>\n",
       "      <td>0.0</td>\n",
       "    </tr>\n",
       "    <tr>\n",
       "      <th>3</th>\n",
       "      <td>0</td>\n",
       "      <td>[0.9989191669596404, 0.0010808330403595063]</td>\n",
       "      <td>0.0</td>\n",
       "    </tr>\n",
       "    <tr>\n",
       "      <th>4</th>\n",
       "      <td>0</td>\n",
       "      <td>[0.9992565737521846, 0.0007434262478154521]</td>\n",
       "      <td>0.0</td>\n",
       "    </tr>\n",
       "  </tbody>\n",
       "</table>\n",
       "</div>"
      ],
      "text/plain": [
       "   y                                  probability  prediction\n",
       "0  0    [0.9938525198254733, 0.00614748017452675]         0.0\n",
       "1  0    [0.9938525198254733, 0.00614748017452675]         0.0\n",
       "2  0  [0.9964697473774089, 0.0035302526225910076]         0.0\n",
       "3  0  [0.9989191669596404, 0.0010808330403595063]         0.0\n",
       "4  0  [0.9992565737521846, 0.0007434262478154521]         0.0"
      ]
     },
     "execution_count": 59,
     "metadata": {},
     "output_type": "execute_result"
    }
   ],
   "source": [
    "df_panda.head(5)"
   ]
  },
  {
   "cell_type": "code",
   "execution_count": 60,
   "metadata": {},
   "outputs": [],
   "source": [
    "from sklearn import metrics"
   ]
  },
  {
   "cell_type": "code",
   "execution_count": 61,
   "metadata": {},
   "outputs": [
    {
     "name": "stdout",
     "output_type": "stream",
     "text": [
      "[[10968     1]\n",
      " [   26     1]]\n"
     ]
    }
   ],
   "source": [
    "# Confusion matrix \n",
    "confusion = metrics.confusion_matrix(df_panda.y, df_panda.prediction )\n",
    "print(confusion)"
   ]
  },
  {
   "cell_type": "code",
   "execution_count": 59,
   "metadata": {},
   "outputs": [],
   "source": [
    "# Predicted     del    not del\n",
    "# Actual\n",
    "# del           10968     1\n",
    "# notdel         26       1"
   ]
  },
  {
   "cell_type": "code",
   "execution_count": 62,
   "metadata": {},
   "outputs": [
    {
     "data": {
      "image/png": "[encoded data removed]",
      "text/plain": [
       "<Figure size 432x288 with 2 Axes>"
      ]
     },
     "metadata": {
      "needs_background": "light"
     },
     "output_type": "display_data"
    }
   ],
   "source": [
    "import seaborn as sns\n",
    "sns.heatmap(confusion, annot=True)\n",
    "plt.show()"
   ]
  },
  {
   "cell_type": "code",
   "execution_count": 63,
   "metadata": {},
   "outputs": [
    {
     "name": "stdout",
     "output_type": "stream",
     "text": [
      "0.997544561658785\n"
     ]
    }
   ],
   "source": [
    "# Let's check the overall accuracy.\n",
    "print(metrics.accuracy_score(df_panda.y, df_panda.prediction))"
   ]
  },
  {
   "cell_type": "code",
   "execution_count": 64,
   "metadata": {},
   "outputs": [],
   "source": [
    "TP = confusion[1,1] # true positive \n",
    "TN = confusion[0,0] # true negatives\n",
    "FP = confusion[0,1] # false positives\n",
    "FN = confusion[1,0] # false negatives"
   ]
  },
  {
   "cell_type": "code",
   "execution_count": 65,
   "metadata": {},
   "outputs": [
    {
     "data": {
      "text/plain": [
       "0.037037037037037035"
      ]
     },
     "execution_count": 65,
     "metadata": {},
     "output_type": "execute_result"
    }
   ],
   "source": [
    "# Let's see the sensitivity of our logistic regression model\n",
    "TP / float(TP+FN)"
   ]
  },
  {
   "cell_type": "code",
   "execution_count": 66,
   "metadata": {},
   "outputs": [
    {
     "data": {
      "text/plain": [
       "0.9999088339866897"
      ]
     },
     "execution_count": 66,
     "metadata": {},
     "output_type": "execute_result"
    }
   ],
   "source": [
    "# Let us calculate specificity\n",
    "TN / float(TN+FP)"
   ]
  },
  {
   "cell_type": "code",
   "execution_count": 30,
   "metadata": {},
   "outputs": [
    {
     "name": "stdout",
     "output_type": "stream",
     "text": [
      "9.116601331023795e-05\n"
     ]
    }
   ],
   "source": [
    "# Calculate false postive rate - predicting deliquent when customer does not have deliquent\n",
    "print(FP/ float(TN+FP))"
   ]
  },
  {
   "cell_type": "code",
   "execution_count": 67,
   "metadata": {},
   "outputs": [
    {
     "name": "stdout",
     "output_type": "stream",
     "text": [
      "0.5\n"
     ]
    }
   ],
   "source": [
    "# positive predictive value \n",
    "print (TP / float(TP+FP))"
   ]
  },
  {
   "cell_type": "code",
   "execution_count": 68,
   "metadata": {},
   "outputs": [
    {
     "name": "stdout",
     "output_type": "stream",
     "text": [
      "0.9976350736765508\n"
     ]
    }
   ],
   "source": [
    "# Negative predictive value\n",
    "print (TN / float(TN+ FN))\n"
   ]
  },
  {
   "cell_type": "markdown",
   "metadata": {},
   "source": []
  },
  {
   "cell_type": "code",
   "execution_count": null,
   "metadata": {},
   "outputs": [],
   "source": []
  },
  {
   "cell_type": "code",
   "execution_count": null,
   "metadata": {},
   "outputs": [],
   "source": []
  },
  {
   "cell_type": "code",
   "execution_count": 69,
   "metadata": {},
   "outputs": [
    {
     "data": {
      "text/plain": [
       "0.037037037037037035"
      ]
     },
     "execution_count": 69,
     "metadata": {},
     "output_type": "execute_result"
    }
   ],
   "source": [
    "from sklearn.metrics import precision_score, recall_score\n",
    "recall_score(df_panda.y, df_panda.prediction)"
   ]
  },
  {
   "cell_type": "code",
   "execution_count": 33,
   "metadata": {},
   "outputs": [],
   "source": [
    " from sklearn.metrics import f1_score\n",
    "    \n",
    "    #calculating the F1_score"
   ]
  },
  {
   "cell_type": "code",
   "execution_count": 70,
   "metadata": {},
   "outputs": [
    {
     "data": {
      "text/plain": [
       "0.0    10994\n",
       "1.0        2\n",
       "Name: prediction, dtype: int64"
      ]
     },
     "execution_count": 70,
     "metadata": {},
     "output_type": "execute_result"
    }
   ],
   "source": [
    "df_panda.prediction.value_counts()"
   ]
  },
  {
   "cell_type": "code",
   "execution_count": 71,
   "metadata": {},
   "outputs": [
    {
     "data": {
      "text/plain": [
       "array([0.99877066, 0.06896552])"
      ]
     },
     "execution_count": 71,
     "metadata": {},
     "output_type": "execute_result"
    }
   ],
   "source": [
    "f1_score(df_panda.y, df_panda.prediction, average = None)"
   ]
  },
  {
   "cell_type": "code",
   "execution_count": 72,
   "metadata": {},
   "outputs": [
    {
     "data": {
      "text/plain": [
       "0.9964875805491719"
      ]
     },
     "execution_count": 72,
     "metadata": {},
     "output_type": "execute_result"
    }
   ],
   "source": [
    "f1_score(df_panda.y, df_panda.prediction, average = 'weighted')"
   ]
  },
  {
   "cell_type": "code",
   "execution_count": 73,
   "metadata": {},
   "outputs": [
    {
     "data": {
      "text/plain": [
       "0.997544561658785"
      ]
     },
     "execution_count": 73,
     "metadata": {},
     "output_type": "execute_result"
    }
   ],
   "source": [
    "f1_score(df_panda.y, df_panda.prediction, average = 'micro')"
   ]
  },
  {
   "cell_type": "code",
   "execution_count": null,
   "metadata": {},
   "outputs": [],
   "source": []
  },
  {
   "cell_type": "code",
   "execution_count": null,
   "metadata": {},
   "outputs": [],
   "source": []
  },
  {
   "cell_type": "code",
   "execution_count": null,
   "metadata": {},
   "outputs": [],
   "source": []
  },
  {
   "cell_type": "code",
   "execution_count": null,
   "metadata": {},
   "outputs": [],
   "source": []
  },
  {
   "cell_type": "code",
   "execution_count": null,
   "metadata": {},
   "outputs": [],
   "source": []
  },
  {
   "cell_type": "code",
   "execution_count": null,
   "metadata": {},
   "outputs": [],
   "source": []
  }
 ],
 "metadata": {
  "kernelspec": {
   "display_name": "Python 3",
   "language": "python",
   "name": "python3"
  },
  "language_info": {
   "codemirror_mode": {
    "name": "ipython",
    "version": 3
   },
   "file_extension": ".py",
   "mimetype": "text/x-python",
   "name": "python",
   "nbconvert_exporter": "python",
   "pygments_lexer": "ipython3",
   "version": "3.7.4"
  }
 },
 "nbformat": 4,
 "nbformat_minor": 4
}
