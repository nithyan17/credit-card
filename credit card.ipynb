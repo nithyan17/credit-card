{
 "cells": [
  {
   "cell_type": "code",
   "execution_count": 10,
   "metadata": {},
   "outputs": [],
   "source": [
    "import os\n",
    "import sys\n",
    "\n",
    "\n",
    "# Here you need to have same Python version on your local machine and on worker node i.e. EC2. here both should have python3.\n",
    "os.environ[\"PYSPARK_PYTHON\"] = \"/bin/python3\"\n",
    "os.environ[\"JAVA_HOME\"] = \"/usr/java/jdk1.8.0_161/jre\"\n",
    "os.environ[\"SPARK_HOME\"] = \"/home/ec2-user/spark-2.4.4-bin-hadoop2.7\"\n",
    "os.environ[\"PYLIB\"] = os.environ[\"SPARK_HOME\"] + \"/python/lib\"\n",
    "sys.path.insert(0, os.environ[\"PYLIB\"] + \"/py4j-0.10.7-src.zip\")\n",
    "sys.path.insert(0, os.environ[\"PYLIB\"] + \"/pyspark.zip\")"
   ]
  },
  {
   "cell_type": "code",
   "execution_count": 11,
   "metadata": {},
   "outputs": [],
   "source": [
    "# Creating Spark Session \n",
    "from pyspark.sql import SparkSession\n",
    "spark = SparkSession.builder.appName('Assignment').getOrCreate()"
   ]
  },
  {
   "cell_type": "code",
   "execution_count": 12,
   "metadata": {},
   "outputs": [],
   "source": [
    "import pyspark\n",
    "import pandas as pd\n",
    "import math\n",
    "import scipy.stats.stats as stats\n",
    "import pyspark.sql.functions as fun\n",
    "\n",
    "from pyspark.sql.functions import col, countDistinct\n",
    "from functools import reduce\n",
    "from pyspark.sql.window import Window\n",
    "from pyspark.sql.functions import col, when\n",
    "from pyspark.mllib.stat import Statistics\n",
    "from pyspark.sql.functions import lit, coalesce\n",
    "from pyspark.sql import DataFrame\n",
    "from pyspark.sql import functions as F\n",
    "from pyspark.ml.feature import QuantileDiscretizer\n",
    "from pyspark.ml.feature import VectorAssembler\n",
    "from pyspark.ml.classification import LogisticRegression\n",
    "from pyspark.sql.functions import udf\n",
    "from pyspark.sql.types import FloatType\n",
    "from sklearn.metrics import accuracy_score\n",
    "from sklearn.metrics import confusion_matrix\n",
    "#from sklearn.linear_model import LogisticRegression\n",
    "from sklearn.metrics import roc_curve\n",
    "from sklearn.metrics import roc_auc_score\n",
    "from sklearn.metrics import precision_recall_curve\n",
    "from sklearn.metrics import f1_score\n",
    "from sklearn.metrics import auc\n",
    "from matplotlib import pyplot\n",
    "import matplotlib.pyplot as plt\n",
    "import numpy as np\n",
    "from pyspark.mllib.evaluation import BinaryClassificationMetrics\n",
    "from pyspark.mllib.regression import LabeledPoint\n",
    "from pyspark.mllib.evaluation import MulticlassMetrics\n",
    "from pyspark.sql.types import DoubleType"
   ]
  },
  {
   "cell_type": "code",
   "execution_count": 4,
   "metadata": {},
   "outputs": [
    {
     "name": "stdout",
     "output_type": "stream",
     "text": [
      "(1048575, 3)\n",
      "(438557, 18)\n",
      "[('ID', 'int'), ('MONTHS_BALANCE', 'int'), ('STATUS', 'string')]\n",
      "[('ID', 'int'), ('CODE_GENDER', 'string'), ('FLAG_OWN_CAR', 'string'), ('FLAG_OWN_REALTY', 'string'), ('CNT_CHILDREN', 'int'), ('AMT_INCOME_TOTAL', 'double'), ('NAME_INCOME_TYPE', 'string'), ('NAME_EDUCATION_TYPE', 'string'), ('NAME_FAMILY_STATUS', 'string'), ('NAME_HOUSING_TYPE', 'string'), ('DAYS_BIRTH', 'int'), ('DAYS_EMPLOYED', 'int'), ('FLAG_MOBIL', 'int'), ('FLAG_WORK_PHONE', 'int'), ('FLAG_PHONE', 'int'), ('FLAG_EMAIL', 'int'), ('OCCUPATION_TYPE', 'string'), ('CNT_FAM_MEMBERS', 'double')]\n"
     ]
    }
   ],
   "source": [
    "#Reading Data from a CSV file \n",
    "#Inferring Schema and Setting Header as True\n",
    "\n",
    "credit_record = spark.read.csv(\"credit_record.csv\", header=True, inferSchema=True)\n",
    "credit_application = spark.read.csv(\"application_record.csv\", header=True, inferSchema=True)\n",
    "\n",
    "def spark_shape(self):\n",
    "    return (self.count(), len(self.columns))\n",
    "\n",
    "pyspark.sql.dataframe.DataFrame.shape = spark_shape\n",
    "\n",
    "print(credit_record.shape())\n",
    "print(credit_application.shape())\n",
    "\n",
    "print(credit_record.dtypes)\n",
    "print(credit_application.dtypes)"
   ]
  },
  {
   "cell_type": "code",
   "execution_count": 5,
   "metadata": {},
   "outputs": [
    {
     "name": "stdout",
     "output_type": "stream",
     "text": [
      "+-------+--------------+------+\n",
      "|     ID|MONTHS_BALANCE|STATUS|\n",
      "+-------+--------------+------+\n",
      "|5001711|             0|     X|\n",
      "|5001711|            -1|     0|\n",
      "|5001711|            -2|     0|\n",
      "|5001711|            -3|     0|\n",
      "|5001712|             0|     C|\n",
      "|5001712|            -1|     C|\n",
      "|5001712|            -2|     C|\n",
      "|5001712|            -3|     C|\n",
      "|5001712|            -4|     C|\n",
      "|5001712|            -5|     C|\n",
      "|5001712|            -6|     C|\n",
      "|5001712|            -7|     C|\n",
      "|5001712|            -8|     C|\n",
      "|5001712|            -9|     0|\n",
      "|5001712|           -10|     0|\n",
      "|5001712|           -11|     0|\n",
      "|5001712|           -12|     0|\n",
      "|5001712|           -13|     0|\n",
      "|5001712|           -14|     0|\n",
      "|5001712|           -15|     0|\n",
      "+-------+--------------+------+\n",
      "only showing top 20 rows\n",
      "\n"
     ]
    }
   ],
   "source": [
    "credit_record.show()"
   ]
  },
  {
   "cell_type": "code",
   "execution_count": 6,
   "metadata": {},
   "outputs": [
    {
     "name": "stdout",
     "output_type": "stream",
     "text": [
      "+----------+\n",
      "|Applicants|\n",
      "+----------+\n",
      "|    438510|\n",
      "+----------+\n",
      "\n",
      "+------------+\n",
      "|CC-customers|\n",
      "+------------+\n",
      "|       45985|\n",
      "+------------+\n",
      "\n",
      "+-------+----+----+----+----+----+----+----+----+\n",
      "|     ID|   0|   1|   2|   3|   4|   5|   C|   X|\n",
      "+-------+----+----+----+----+----+----+----+----+\n",
      "|5061822|   5|null|null|null|null|null|null|   1|\n",
      "|5060509|  28|   1|null|null|null|null|null|   5|\n",
      "|5009304|   5|null|null|null|null|null|   6|  24|\n",
      "|5021819|  38|null|null|null|null|null|null|null|\n",
      "|5044479|   2|null|null|null|null|null|null|   1|\n",
      "|5092149|   1|null|null|null|null|null|null|   6|\n",
      "|5135899|   6|null|null|null|null|null|  17|   7|\n",
      "|5142868|  26|null|null|null|null|null|null|   1|\n",
      "|5149573|   4|null|null|null|null|null|  33|null|\n",
      "|5068077|   5|null|null|null|null|null|   1|null|\n",
      "|5089546|  14|   1|null|null|null|null|null|   4|\n",
      "|5090925|  10|null|null|null|null|null|null|   1|\n",
      "|5112842|   6|null|null|null|null|null|   8|null|\n",
      "|5005681|  13|null|null|null|null|null|  13|   5|\n",
      "|5009033|   4|null|null|null|null|null|null|  13|\n",
      "|5058510|null|null|null|null|null|null|   4|   7|\n",
      "|5078408|   3|null|null|null|null|null|null|   7|\n",
      "|5095205|  10|null|null|null|null|null|   6|null|\n",
      "|5033694|   6|null|null|null|null|null|null|   1|\n",
      "|5096014|null|null|null|null|null|null|null|  18|\n",
      "+-------+----+----+----+----+----+----+----+----+\n",
      "only showing top 20 rows\n",
      "\n"
     ]
    }
   ],
   "source": [
    "# Number of distinct applications \n",
    "credit_application.agg(countDistinct(col(\"ID\")).alias(\"Applicants\")).show()\n",
    "\n",
    "#Number of distinct credit card customers\n",
    "credit_record.agg(countDistinct(col(\"ID\")).alias(\"CC-customers\")).show()\n",
    "\n",
    "#Pivot the monthly status to get customer view\n",
    "credit_record_pivot = credit_record.groupBy(\"ID\").pivot(\"STATUS\").agg(fun.count('ID'))\n",
    "credit_record_pivot.show()"
   ]
  },
  {
   "cell_type": "code",
   "execution_count": 7,
   "metadata": {},
   "outputs": [
    {
     "name": "stdout",
     "output_type": "stream",
     "text": [
      "+-------+------+------+------+------+------+------+------+------+\n",
      "|     ID|stat_0|stat_1|stat_2|stat_3|stat_4|stat_5|stat_C|stat_X|\n",
      "+-------+------+------+------+------+------+------+------+------+\n",
      "|5061822|     5|  null|  null|  null|  null|  null|  null|     1|\n",
      "|5060509|    28|     1|  null|  null|  null|  null|  null|     5|\n",
      "|5009304|     5|  null|  null|  null|  null|  null|     6|    24|\n",
      "|5021819|    38|  null|  null|  null|  null|  null|  null|  null|\n",
      "|5044479|     2|  null|  null|  null|  null|  null|  null|     1|\n",
      "|5092149|     1|  null|  null|  null|  null|  null|  null|     6|\n",
      "|5135899|     6|  null|  null|  null|  null|  null|    17|     7|\n",
      "|5142868|    26|  null|  null|  null|  null|  null|  null|     1|\n",
      "|5149573|     4|  null|  null|  null|  null|  null|    33|  null|\n",
      "|5068077|     5|  null|  null|  null|  null|  null|     1|  null|\n",
      "|5089546|    14|     1|  null|  null|  null|  null|  null|     4|\n",
      "|5090925|    10|  null|  null|  null|  null|  null|  null|     1|\n",
      "|5112842|     6|  null|  null|  null|  null|  null|     8|  null|\n",
      "|5005681|    13|  null|  null|  null|  null|  null|    13|     5|\n",
      "|5009033|     4|  null|  null|  null|  null|  null|  null|    13|\n",
      "|5058510|  null|  null|  null|  null|  null|  null|     4|     7|\n",
      "|5078408|     3|  null|  null|  null|  null|  null|  null|     7|\n",
      "|5095205|    10|  null|  null|  null|  null|  null|     6|  null|\n",
      "|5033694|     6|  null|  null|  null|  null|  null|  null|     1|\n",
      "|5096014|  null|  null|  null|  null|  null|  null|  null|    18|\n",
      "+-------+------+------+------+------+------+------+------+------+\n",
      "only showing top 20 rows\n",
      "\n"
     ]
    }
   ],
   "source": [
    "#rename of pivoted columns\n",
    "oldColumns = credit_record_pivot.schema.names\n",
    "newColumns = [\"ID\",\"stat_0\",\"stat_1\",\"stat_2\",\"stat_3\",\"stat_4\",\"stat_5\",\"stat_C\",\"stat_X\"]\n",
    "credit_record_pivot = reduce(lambda data, idx: data.withColumnRenamed(oldColumns[idx], newColumns[idx]), range(len(oldColumns)), credit_record_pivot)\n",
    "credit_record_pivot.show()"
   ]
  },
  {
   "cell_type": "code",
   "execution_count": 8,
   "metadata": {},
   "outputs": [
    {
     "name": "stdout",
     "output_type": "stream",
     "text": [
      "+-------+------+------+------+------+------+------+------+------+---------+\n",
      "|     ID|stat_0|stat_1|stat_2|stat_3|stat_4|stat_5|stat_C|stat_X|total_del|\n",
      "+-------+------+------+------+------+------+------+------+------+---------+\n",
      "|5061822|     5|     0|     0|     0|     0|     0|     0|     1|        0|\n",
      "|5060509|    28|     1|     0|     0|     0|     0|     0|     5|        0|\n",
      "|5009304|     5|     0|     0|     0|     0|     0|     6|    24|        0|\n",
      "|5021819|    38|     0|     0|     0|     0|     0|     0|     0|        0|\n",
      "|5044479|     2|     0|     0|     0|     0|     0|     0|     1|        0|\n",
      "|5092149|     1|     0|     0|     0|     0|     0|     0|     6|        0|\n",
      "|5135899|     6|     0|     0|     0|     0|     0|    17|     7|        0|\n",
      "|5142868|    26|     0|     0|     0|     0|     0|     0|     1|        0|\n",
      "|5149573|     4|     0|     0|     0|     0|     0|    33|     0|        0|\n",
      "|5068077|     5|     0|     0|     0|     0|     0|     1|     0|        0|\n",
      "|5089546|    14|     1|     0|     0|     0|     0|     0|     4|        0|\n",
      "|5090925|    10|     0|     0|     0|     0|     0|     0|     1|        0|\n",
      "|5112842|     6|     0|     0|     0|     0|     0|     8|     0|        0|\n",
      "|5005681|    13|     0|     0|     0|     0|     0|    13|     5|        0|\n",
      "|5009033|     4|     0|     0|     0|     0|     0|     0|    13|        0|\n",
      "|5058510|     0|     0|     0|     0|     0|     0|     4|     7|        0|\n",
      "|5078408|     3|     0|     0|     0|     0|     0|     0|     7|        0|\n",
      "|5095205|    10|     0|     0|     0|     0|     0|     6|     0|        0|\n",
      "|5033694|     6|     0|     0|     0|     0|     0|     0|     1|        0|\n",
      "|5096014|     0|     0|     0|     0|     0|     0|     0|    18|        0|\n",
      "+-------+------+------+------+------+------+------+------+------+---------+\n",
      "only showing top 20 rows\n",
      "\n",
      "+-------+------+------+------+------+------+------+------+------+---------+------+\n",
      "|     ID|stat_0|stat_1|stat_2|stat_3|stat_4|stat_5|stat_C|stat_X|total_del|target|\n",
      "+-------+------+------+------+------+------+------+------+------+---------+------+\n",
      "|5061822|     5|     0|     0|     0|     0|     0|     0|     1|        0|     0|\n",
      "|5060509|    28|     1|     0|     0|     0|     0|     0|     5|        0|     0|\n",
      "|5009304|     5|     0|     0|     0|     0|     0|     6|    24|        0|     0|\n",
      "|5021819|    38|     0|     0|     0|     0|     0|     0|     0|        0|     0|\n",
      "|5044479|     2|     0|     0|     0|     0|     0|     0|     1|        0|     0|\n",
      "|5092149|     1|     0|     0|     0|     0|     0|     0|     6|        0|     0|\n",
      "|5135899|     6|     0|     0|     0|     0|     0|    17|     7|        0|     0|\n",
      "|5142868|    26|     0|     0|     0|     0|     0|     0|     1|        0|     0|\n",
      "|5149573|     4|     0|     0|     0|     0|     0|    33|     0|        0|     0|\n",
      "|5068077|     5|     0|     0|     0|     0|     0|     1|     0|        0|     0|\n",
      "|5089546|    14|     1|     0|     0|     0|     0|     0|     4|        0|     0|\n",
      "|5090925|    10|     0|     0|     0|     0|     0|     0|     1|        0|     0|\n",
      "|5112842|     6|     0|     0|     0|     0|     0|     8|     0|        0|     0|\n",
      "|5005681|    13|     0|     0|     0|     0|     0|    13|     5|        0|     0|\n",
      "|5009033|     4|     0|     0|     0|     0|     0|     0|    13|        0|     0|\n",
      "|5058510|     0|     0|     0|     0|     0|     0|     4|     7|        0|     0|\n",
      "|5078408|     3|     0|     0|     0|     0|     0|     0|     7|        0|     0|\n",
      "|5095205|    10|     0|     0|     0|     0|     0|     6|     0|        0|     0|\n",
      "|5033694|     6|     0|     0|     0|     0|     0|     0|     1|        0|     0|\n",
      "|5096014|     0|     0|     0|     0|     0|     0|     0|    18|        0|     0|\n",
      "+-------+------+------+------+------+------+------+------+------+---------+------+\n",
      "only showing top 20 rows\n",
      "\n",
      "+------+-----+\n",
      "|target|count|\n",
      "+------+-----+\n",
      "|     1|  667|\n",
      "|     0|45318|\n",
      "+------+-----+\n",
      "\n"
     ]
    }
   ],
   "source": [
    "#Adding a number of times customer became delinquent \n",
    "DelColumns = [\"stat_2\",\"stat_3\",\"stat_4\",\"stat_5\"]\n",
    "\n",
    "def column_add(a,b):\n",
    "    return a.__add__(b)\n",
    "\n",
    "credit_record_pivot = credit_record_pivot.na.fill(0)\n",
    "credit_record_pivot = credit_record_pivot.withColumn('total_del', reduce(column_add, ( credit_record_pivot[col] for col in DelColumns ) ))\n",
    "credit_record_pivot.show()\n",
    "\n",
    "\n",
    "#Create target variable\n",
    "credit_record_pivot = credit_record_pivot.withColumn('target', fun.when(fun.col('total_del') > 0, 1).otherwise(0))\n",
    "credit_record_pivot.show()\n",
    "\n",
    "credit_record_pivot.groupby('target').count().show()"
   ]
  },
  {
   "cell_type": "code",
   "execution_count": 9,
   "metadata": {},
   "outputs": [
    {
     "name": "stdout",
     "output_type": "stream",
     "text": [
      "(36457, 19)\n",
      "(25134, 19)\n"
     ]
    }
   ],
   "source": [
    "#Merge both the dataframes\n",
    "\n",
    "mergeCredit_app_record = credit_record_pivot.join(credit_application.alias('b'), credit_record_pivot.ID == credit_application.ID, 'inner').select('b.*', credit_record_pivot.target)\n",
    "print(mergeCredit_app_record.shape())\n",
    "mergeCredit_app_record = mergeCredit_app_record.na.drop()\n",
    "print(mergeCredit_app_record.shape())"
   ]
  },
  {
   "cell_type": "markdown",
   "metadata": {},
   "source": [
    "### What is the proportion of females in the applicant customer base"
   ]
  },
  {
   "cell_type": "code",
   "execution_count": 50,
   "metadata": {},
   "outputs": [
    {
     "name": "stdout",
     "output_type": "stream",
     "text": [
      "+-----------+------+------------------+\n",
      "|CODE_GENDER| count|        proportion|\n",
      "+-----------+------+------------------+\n",
      "|          M|144117|0.3286163486160294|\n",
      "|          F|294440|0.6713836513839706|\n",
      "+-----------+------+------------------+\n",
      "\n"
     ]
    }
   ],
   "source": [
    "gender_count = credit_application.groupBy('CODE_GENDER').count().orderBy('count')\n",
    "gender_count = gender_count.withColumn('proportion', fun.col('count')/fun.sum('count').over(Window.partitionBy()))\n",
    "gender_count.show()"
   ]
  },
  {
   "cell_type": "markdown",
   "metadata": {},
   "source": [
    "### Is house ownership higher among male applicants vs female applicants"
   ]
  },
  {
   "cell_type": "code",
   "execution_count": 51,
   "metadata": {},
   "outputs": [
    {
     "name": "stdout",
     "output_type": "stream",
     "text": [
      "+-----------------------------+------+------+\n",
      "|NAME_HOUSING_TYPE_CODE_GENDER|     F|     M|\n",
      "+-----------------------------+------+------+\n",
      "|             Rented apartment|  3284|  2690|\n",
      "|          Municipal apartment| 10019|  4195|\n",
      "|             Office apartment|  2122|  1800|\n",
      "|            House / apartment|267607|126224|\n",
      "|              Co-op apartment|   862|   677|\n",
      "|                 With parents| 10546|  8531|\n",
      "+-----------------------------+------+------+\n",
      "\n"
     ]
    }
   ],
   "source": [
    "credit_application_pivoted = credit_application.crosstab('NAME_HOUSING_TYPE','CODE_GENDER')\n",
    "credit_application_pivoted.show()"
   ]
  },
  {
   "cell_type": "code",
   "execution_count": 52,
   "metadata": {},
   "outputs": [
    {
     "name": "stdout",
     "output_type": "stream",
     "text": [
      "+-----------------------------+------+------+--------------------+--------------------+\n",
      "|NAME_HOUSING_TYPE_CODE_GENDER|     F|     M|              prop_F|              prop_M|\n",
      "+-----------------------------+------+------+--------------------+--------------------+\n",
      "|             Rented apartment|  3284|  2690|0.011153375900013585|0.018665389926240485|\n",
      "|          Municipal apartment| 10019|  4195| 0.03402730607254449|0.029108293955605515|\n",
      "|             Office apartment|  2122|  1800|0.007206901236245...|0.012489851995253856|\n",
      "|            House / apartment|267607|126224|  0.9088676810216003|  0.8758439323605126|\n",
      "|              Co-op apartment|   862|   677|0.002927591359869583|0.004697572111548...|\n",
      "|                 With parents| 10546|  8531| 0.03581714440972694| 0.05919495965083925|\n",
      "+-----------------------------+------+------+--------------------+--------------------+\n",
      "\n"
     ]
    }
   ],
   "source": [
    "credit_application_pivoted = credit_application_pivoted.withColumn('prop_F', fun.col('F')/fun.sum('F').over(Window.partitionBy()))\n",
    "credit_application_pivoted = credit_application_pivoted.withColumn('prop_M', fun.col('M')/fun.sum('M').over(Window.partitionBy()))\n",
    "\n",
    "credit_application_pivoted.show()"
   ]
  },
  {
   "cell_type": "markdown",
   "metadata": {},
   "source": [
    "### Is there any correlation between income levels and education level?"
   ]
  },
  {
   "cell_type": "code",
   "execution_count": 53,
   "metadata": {},
   "outputs": [
    {
     "name": "stdout",
     "output_type": "stream",
     "text": [
      "                         AMT_INCOME_TOTAL  NAME_EDUCATION_TYPE_cat\n",
      "AMT_INCOME_TOTAL                 1.000000                 0.221403\n",
      "NAME_EDUCATION_TYPE_cat          0.221403                 1.000000\n"
     ]
    }
   ],
   "source": [
    "# Lower secondary = 0, Secondary / secondary special = 1, Incomplete higher = 2, Higher education = 3, Academic degree = 4\n",
    "credit_application = credit_application.withColumn(\"NAME_EDUCATION_TYPE_cat\", when(col(\"NAME_EDUCATION_TYPE\")=='Lower secondary', 0).when(col(\"NAME_EDUCATION_TYPE\")=='Secondary / secondary special', 1).when(col(\"NAME_EDUCATION_TYPE\")=='Incomplete higher', 2).when(col(\"NAME_EDUCATION_TYPE\")=='Higher education', 3).when(col(\"NAME_EDUCATION_TYPE\")=='Academic degree', 4))\n",
    "\n",
    "corr_data = credit_application.select('AMT_INCOME_TOTAL', 'NAME_EDUCATION_TYPE_cat')\n",
    "\n",
    "col_names = corr_data.columns\n",
    "features = corr_data.rdd.map(lambda row: row[0:])\n",
    "corr_mat=Statistics.corr(features, method=\"pearson\")\n",
    "corr_df = pd.DataFrame(corr_mat)\n",
    "corr_df.index, corr_df.columns = col_names, col_names\n",
    "print(corr_df.to_string())"
   ]
  },
  {
   "cell_type": "markdown",
   "metadata": {},
   "source": [
    "### What is the average and median salary of the applicant base?"
   ]
  },
  {
   "cell_type": "code",
   "execution_count": 54,
   "metadata": {},
   "outputs": [
    {
     "name": "stdout",
     "output_type": "stream",
     "text": [
      "+-------+------------------+\n",
      "|summary|  AMT_INCOME_TOTAL|\n",
      "+-------+------------------+\n",
      "|  count|            438557|\n",
      "|   mean| 187524.2860095039|\n",
      "| stddev|110086.85306622987|\n",
      "|    min|           26100.0|\n",
      "|    max|         6750000.0|\n",
      "+-------+------------------+\n",
      "\n"
     ]
    }
   ],
   "source": [
    "# Computing the mean\n",
    "credit_application.select('AMT_INCOME_TOTAL').describe().show()"
   ]
  },
  {
   "cell_type": "code",
   "execution_count": 55,
   "metadata": {},
   "outputs": [
    {
     "data": {
      "text/plain": [
       "[160780.5]"
      ]
     },
     "execution_count": 55,
     "metadata": {},
     "output_type": "execute_result"
    }
   ],
   "source": [
    "# Computing the median\n",
    "credit_application.approxQuantile(\"AMT_INCOME_TOTAL\", [0.5], 0)"
   ]
  },
  {
   "cell_type": "markdown",
   "metadata": {},
   "source": [
    "### Do people owning cars have higher probability of bad customers"
   ]
  },
  {
   "cell_type": "code",
   "execution_count": 56,
   "metadata": {},
   "outputs": [
    {
     "name": "stdout",
     "output_type": "stream",
     "text": [
      "+------------+---+-----+\n",
      "|FLAG_OWN_CAR|  1|    0|\n",
      "+------------+---+-----+\n",
      "|           Y|177|10339|\n",
      "|           N|245|14373|\n",
      "+------------+---+-----+\n",
      "\n"
     ]
    }
   ],
   "source": [
    "target_cars_customers = mergeCredit_app_record.groupby('FLAG_OWN_CAR', 'target').count().orderBy('FLAG_OWN_CAR')\n",
    "\n",
    "pivoted = mergeCredit_app_record.groupby('FLAG_OWN_CAR').pivot(\"target\", ['1', '0']).count()\n",
    "\n",
    "pivoted.show()"
   ]
  },
  {
   "cell_type": "code",
   "execution_count": 57,
   "metadata": {},
   "outputs": [],
   "source": [
    "row_count = sum(col(x) for x in ['1', '0'])\n",
    "\n",
    "adjusted = [(col(y) / row_count).alias(y) for y in ['1', '0']]"
   ]
  },
  {
   "cell_type": "code",
   "execution_count": 58,
   "metadata": {},
   "outputs": [
    {
     "name": "stdout",
     "output_type": "stream",
     "text": [
      "+------------+--------------------+------------------+\n",
      "|FLAG_OWN_CAR|                   1|                 0|\n",
      "+------------+--------------------+------------------+\n",
      "|           Y| 0.01683149486496767|0.9831685051350323|\n",
      "|           N|0.016760158708441646|0.9832398412915584|\n",
      "+------------+--------------------+------------------+\n",
      "\n"
     ]
    }
   ],
   "source": [
    "pivoted.select(col(\"FLAG_OWN_CAR\"), *adjusted).show()"
   ]
  },
  {
   "cell_type": "markdown",
   "metadata": {},
   "source": [
    "### Do people living on rent have a higher proportion of bad customers as compared to the rest of the population"
   ]
  },
  {
   "cell_type": "code",
   "execution_count": 59,
   "metadata": {},
   "outputs": [
    {
     "name": "stdout",
     "output_type": "stream",
     "text": [
      "+-------------------+\n",
      "|  NAME_HOUSING_TYPE|\n",
      "+-------------------+\n",
      "|  House / apartment|\n",
      "|Municipal apartment|\n",
      "|    Co-op apartment|\n",
      "|   Rented apartment|\n",
      "|   Office apartment|\n",
      "|       With parents|\n",
      "+-------------------+\n",
      "\n"
     ]
    }
   ],
   "source": [
    "mergeCredit_app_record.select(\"NAME_HOUSING_TYPE\").distinct().show()"
   ]
  },
  {
   "cell_type": "code",
   "execution_count": 60,
   "metadata": {},
   "outputs": [
    {
     "name": "stdout",
     "output_type": "stream",
     "text": [
      "+-----------------+---+-----+\n",
      "|RENT_HOUSING_TYPE|  1|    0|\n",
      "+-----------------+---+-----+\n",
      "|             Rent|  6|  433|\n",
      "|         Not Rent|416|24279|\n",
      "+-----------------+---+-----+\n",
      "\n"
     ]
    }
   ],
   "source": [
    "mergeCredit_app_record = mergeCredit_app_record.withColumn('RENT_HOUSING_TYPE', fun.when(fun.col('NAME_HOUSING_TYPE') == 'Rented apartment', 'Rent').otherwise('Not Rent'))\n",
    "\n",
    "target_cars_customers = mergeCredit_app_record.groupby('RENT_HOUSING_TYPE', 'target').count().orderBy('RENT_HOUSING_TYPE')\n",
    "\n",
    "pivoted = mergeCredit_app_record.groupby('RENT_HOUSING_TYPE').pivot(\"target\", ['1', '0']).count()\n",
    "\n",
    "pivoted.show()"
   ]
  },
  {
   "cell_type": "code",
   "execution_count": 61,
   "metadata": {},
   "outputs": [
    {
     "name": "stdout",
     "output_type": "stream",
     "text": [
      "+-----------------+--------------------+------------------+\n",
      "|RENT_HOUSING_TYPE|                   1|                 0|\n",
      "+-----------------+--------------------+------------------+\n",
      "|             Rent| 0.01366742596810934|0.9863325740318907|\n",
      "|         Not Rent|0.016845515286495243|0.9831544847135048|\n",
      "+-----------------+--------------------+------------------+\n",
      "\n"
     ]
    }
   ],
   "source": [
    "pivoted.select(col(\"RENT_HOUSING_TYPE\"), *adjusted).show()"
   ]
  },
  {
   "cell_type": "markdown",
   "metadata": {},
   "source": [
    "### Do single people have a high proportion of bad customers as compared to married customers"
   ]
  },
  {
   "cell_type": "code",
   "execution_count": 62,
   "metadata": {},
   "outputs": [
    {
     "name": "stdout",
     "output_type": "stream",
     "text": [
      "+--------------------+\n",
      "|  NAME_FAMILY_STATUS|\n",
      "+--------------------+\n",
      "|           Separated|\n",
      "|             Married|\n",
      "|Single / not married|\n",
      "|               Widow|\n",
      "|      Civil marriage|\n",
      "+--------------------+\n",
      "\n"
     ]
    }
   ],
   "source": [
    "mergeCredit_app_record.select(\"NAME_FAMILY_STATUS\").distinct().show()"
   ]
  },
  {
   "cell_type": "code",
   "execution_count": 63,
   "metadata": {},
   "outputs": [
    {
     "name": "stdout",
     "output_type": "stream",
     "text": [
      "+--------------+---+-----+\n",
      "|MARRIED_STATUS|  1|    0|\n",
      "+--------------+---+-----+\n",
      "|       Married|277|17232|\n",
      "|     Unmarried|145| 7480|\n",
      "+--------------+---+-----+\n",
      "\n"
     ]
    }
   ],
   "source": [
    "mergeCredit_app_record = mergeCredit_app_record.withColumn('MARRIED_STATUS', fun.when(fun.col('NAME_FAMILY_STATUS') == 'Married', 'Married').otherwise('Unmarried'))\n",
    "\n",
    "target_cars_customers = mergeCredit_app_record.groupby('MARRIED_STATUS', 'target').count().orderBy('MARRIED_STATUS')\n",
    "\n",
    "pivoted = mergeCredit_app_record.groupby('MARRIED_STATUS').pivot(\"target\", ['1', '0']).count()\n",
    "\n",
    "pivoted.show()"
   ]
  },
  {
   "cell_type": "code",
   "execution_count": 64,
   "metadata": {},
   "outputs": [
    {
     "name": "stdout",
     "output_type": "stream",
     "text": [
      "+--------------+-------------------+------------------+\n",
      "|MARRIED_STATUS|                  1|                 0|\n",
      "+--------------+-------------------+------------------+\n",
      "|       Married|0.01582043520475184|0.9841795647952482|\n",
      "|     Unmarried|0.01901639344262295| 0.980983606557377|\n",
      "+--------------+-------------------+------------------+\n",
      "\n"
     ]
    }
   ],
   "source": [
    "pivoted.select(col(\"MARRIED_STATUS\"), *adjusted).show()"
   ]
  },
  {
   "cell_type": "code",
   "execution_count": 13,
   "metadata": {},
   "outputs": [],
   "source": [
    "# WOE & IV calculation by creating a class\n",
    "\n",
    "class WOE_IV(object):\n",
    "    def __init__(self, df: DataFrame, cols_to_woe: [str], label_column: str, good_label: str):\n",
    "        self.df = df\n",
    "        self.cols_to_woe = cols_to_woe\n",
    "        self.label_column = label_column\n",
    "        self.good_label = good_label\n",
    "        self.fit_data = {}\n",
    "\n",
    "    def fit(self):\n",
    "        for col_to_woe in self.cols_to_woe:\n",
    "            total_good = self.compute_total_amount_of_good()\n",
    "            total_bad = self.compute_total_amount_of_bad()\n",
    "            \n",
    "            woe_df = self.df.select(col_to_woe)\n",
    "            categories = woe_df.distinct().collect()\n",
    "            for category_row in categories:\n",
    "                category = category_row[col_to_woe]\n",
    "                good_amount = self.compute_good_amount(col_to_woe, category)\n",
    "                bad_amount = self.compute_bad_amount(col_to_woe, category)\n",
    "\n",
    "                good_amount = good_amount if good_amount != 0 else 0.5\n",
    "                bad_amount = bad_amount if bad_amount != 0 else 0.5\n",
    "\n",
    "                good_dist = good_amount / total_good\n",
    "                bad_dist = bad_amount / total_bad\n",
    "\n",
    "                self.build_fit_data(col_to_woe, category, good_dist, bad_dist)\n",
    "\n",
    "    def transform(self, df: DataFrame):\n",
    "        def _encode_woe(col_to_woe_):\n",
    "            return F.coalesce(\n",
    "                *[F.when(F.col(col_to_woe_) == category, F.lit(woe_iv['woe']))\n",
    "                  for category, woe_iv in self.fit_data[col_to_woe_].items()]\n",
    "            )\n",
    "\n",
    "        for col_to_woe, woe_info in self.fit_data.items():\n",
    "            df = df.withColumn(col_to_woe + '_woe', _encode_woe(col_to_woe))\n",
    "        return df\n",
    "\n",
    "    def compute_total_amount_of_good(self):\n",
    "        return self.df.select(self.label_column).filter(F.col(self.label_column) == self.good_label).count()\n",
    "\n",
    "    def compute_total_amount_of_bad(self):\n",
    "        return self.df.select(self.label_column).filter(F.col(self.label_column) != self.good_label).count()\n",
    "\n",
    "    def compute_good_amount(self, col_to_woe: str, category: str):\n",
    "        return self.df.select(col_to_woe, self.label_column)\\\n",
    "                      .filter(\n",
    "                            (F.col(col_to_woe) == category) & (F.col(self.label_column) == self.good_label)\n",
    "                      ).count()\n",
    "\n",
    "    def compute_bad_amount(self, col_to_woe: str, category: str):\n",
    "        return self.df.select(col_to_woe, self.label_column)\\\n",
    "                      .filter(\n",
    "                            (F.col(col_to_woe) == category) & (F.col(self.label_column) != self.good_label)\n",
    "                      ).count()\n",
    "\n",
    "    def build_fit_data(self, col_to_woe, category, good_dist, bad_dist):\n",
    "        woe_info = {\n",
    "            category: {\n",
    "                'woe': math.log(good_dist / bad_dist),\n",
    "                'iv': (good_dist - bad_dist) * math.log(good_dist / bad_dist)\n",
    "            }\n",
    "        }\n",
    "\n",
    "        if col_to_woe not in self.fit_data:\n",
    "            self.fit_data[col_to_woe] = woe_info\n",
    "        else:\n",
    "            self.fit_data[col_to_woe].update(woe_info)\n",
    "\n",
    "    def compute_iv(self):\n",
    "        iv_dict = {}\n",
    "\n",
    "        for woe_col, categories in self.fit_data.items():\n",
    "            iv_dict[woe_col] = 0\n",
    "            for category, woe_iv in categories.items():\n",
    "                iv_dict[woe_col] += woe_iv['iv']\n",
    "        return iv_dict"
   ]
  },
  {
   "cell_type": "code",
   "execution_count": 17,
   "metadata": {},
   "outputs": [
    {
     "name": "stdout",
     "output_type": "stream",
     "text": [
      "AMT_INCOME_TOTALbucket\n",
      "DAYS_EMPLOYEDbucket\n",
      "['ID', 'CODE_GENDER', 'FLAG_OWN_CAR', 'FLAG_OWN_REALTY', 'CNT_CHILDREN', 'AMT_INCOME_TOTAL', 'NAME_INCOME_TYPE', 'NAME_EDUCATION_TYPE', 'NAME_FAMILY_STATUS', 'NAME_HOUSING_TYPE', 'DAYS_BIRTH', 'DAYS_EMPLOYED', 'FLAG_MOBIL', 'FLAG_WORK_PHONE', 'FLAG_PHONE', 'FLAG_EMAIL', 'OCCUPATION_TYPE', 'CNT_FAM_MEMBERS', 'target', 'AMT_INCOME_TOTALbucket', 'DAYS_EMPLOYEDbucket']\n"
     ]
    }
   ],
   "source": [
    "#Creating monotonous bins for continous variables\n",
    "\n",
    "spike_cols = ['CNT_CHILDREN','AMT_INCOME_TOTAL','DAYS_BIRTH','DAYS_EMPLOYED','CNT_FAM_MEMBERS']\n",
    "\n",
    "max_bucket = 5\n",
    "\n",
    "for x in spike_cols:\n",
    "    r = 0\n",
    "    n = max_bucket\n",
    "    while ((np.abs(r) < 1) & (n>1)):\n",
    "        discretizer = QuantileDiscretizer(numBuckets=n, inputCol=x, outputCol=x + \"bucket\")\n",
    "        d1 = discretizer.fit(mergeCredit_app_record).transform(mergeCredit_app_record)\n",
    "        d2 = d1.groupby(x+ \"bucket\").agg(F.mean(x).alias(\"X1\"),F.mean(\"target\").alias(\"Y1\")).orderBy(\"X1\")\n",
    "        a1 = d2.select(\"X1\").rdd.flatMap(lambda x: x).collect()\n",
    "        b1 = d2.select(\"Y1\").rdd.flatMap(lambda x: x).collect()\n",
    "        r, p = stats.spearmanr(a1, b1)\n",
    "        if(r == 1):\n",
    "            print(x+\"bucket\")\n",
    "            mergeCredit_app_record = discretizer.fit(mergeCredit_app_record).transform(mergeCredit_app_record)\n",
    "        n = n-1\n",
    "        \n",
    "print(mergeCredit_app_record.columns)"
   ]
  },
  {
   "cell_type": "code",
   "execution_count": 33,
   "metadata": {},
   "outputs": [],
   "source": [
    "# Calculating WOE and IV for all the categorical variables (including bin variables from continous variables)\n",
    "\n",
    "\n",
    "cols_to_woe = ['CODE_GENDER', 'FLAG_OWN_CAR','FLAG_OWN_REALTY','FLAG_OWN_REALTY','NAME_INCOME_TYPE','NAME_EDUCATION_TYPE',\n",
    "               'NAME_FAMILY_STATUS','NAME_HOUSING_TYPE','FLAG_MOBIL','FLAG_WORK_PHONE','FLAG_PHONE','FLAG_EMAIL','OCCUPATION_TYPE',\n",
    "               'AMT_INCOME_TOTALbucket','DAYS_EMPLOYEDbucket']\n",
    "\n",
    "woe = WOE_IV(mergeCredit_app_record, cols_to_woe, 'target', 1)\n",
    "\n",
    "# woe encoding\n",
    "woe.fit()\n",
    "encoded_df = woe.transform(mergeCredit_app_record)\n",
    "\n",
    "# information value\n",
    "ivs = woe.compute_iv()"
   ]
  },
  {
   "cell_type": "code",
   "execution_count": 34,
   "metadata": {},
   "outputs": [
    {
     "name": "stdout",
     "output_type": "stream",
     "text": [
      "{'CODE_GENDER': {'F': {'woe': -0.13400455891611948, 'iv': 0.010473169941325407}, 'M': {'woe': 0.18847512261896812, 'iv': 0.014730334586125406}}, 'FLAG_OWN_CAR': {'Y': {'woe': 0.002510221549541952, 'iv': 2.639611117445198e-06}, 'N': {'woe': -0.0018095944440989517, 'iv': 1.902870132551552e-06}}, 'FLAG_OWN_REALTY': {'Y': {'woe': -0.13077665160154833, 'iv': 0.010521107917778397}, 'N': {'woe': 0.21030941552994442, 'iv': 0.016919595583905052}}, 'NAME_INCOME_TYPE': {'Student': {'woe': 1.0743066470084148, 'iv': 0.0008381444170551353}, 'Commercial associate': {'woe': 0.005114514731444934, 'iv': 7.357550450491796e-06}, 'State servant': {'woe': -0.34921705587983176, 'iv': 0.010030267766525755}, 'Working': {'woe': -0.005027780864046354, 'iv': 1.567375175195009e-05}, 'Pensioner': {'woe': 7.328135458583888, 'iv': 0.2255999779354912}}, 'NAME_EDUCATION_TYPE': {'Academic degree': {'woe': 0.7378344103872019, 'iv': 0.0004562087262492998}, 'Incomplete higher': {'woe': 0.23520555382538985, 'iv': 0.002453174089538019}, 'Secondary / secondary special': {'woe': -0.05630984727956575, 'iv': 0.002063727794482051}, 'Lower secondary': {'woe': 0.663301358524635, 'iv': 0.004572555907019098}, 'Higher education': {'woe': 0.0678324910762806, 'iv': 0.0013493563969528277}}, 'NAME_FAMILY_STATUS': {'Separated': {'woe': -0.5026080737201255, 'iv': 0.011666466006593922}, 'Married': {'woe': -0.060466972646425615, 'iv': 0.002474002680430879}, 'Single / not married': {'woe': 0.36858821439044276, 'iv': 0.022349420085444743}, 'Widow': {'woe': 0.44126339051817487, 'iv': 0.005595942355080156}, 'Civil marriage': {'woe': -0.11439387748286797, 'iv': 0.0010512842955782452}}, 'NAME_HOUSING_TYPE': {'House / apartment': {'woe': -0.019624371923985737, 'iv': 0.00033546623300853204}, 'Municipal apartment': {'woe': 0.3386546780939982, 'iv': 0.004380167615353005}, 'Co-op apartment': {'woe': 0.16470490328505638, 'iv': 0.00017780641532474627}, 'Rented apartment': {'woe': -0.208939338212029, 'iv': 0.0006903026139570744}, 'Office apartment': {'woe': 0.41161867393317797, 'iv': 0.0016456120243232418}, 'With parents': {'woe': 0.041122163662760475, 'iv': 9.814778605613515e-05}}, 'FLAG_MOBIL': {1: {'woe': 0.0, 'iv': 0.0}}, 'FLAG_WORK_PHONE': {1: {'woe': 0.07183821889320734, 'iv': 0.0014632355974517378}, 0: {'woe': -0.028435803248823638, 'iv': 0.0005791941976967225}}, 'FLAG_PHONE': {1: {'woe': 0.035936566307071184, 'iv': 0.0003847605337132808}, 0: {'woe': -0.015251167910096394, 'iv': 0.0001632890425506477}}, 'FLAG_EMAIL': {1: {'woe': 0.012406592452563496, 'iv': 1.5587259476897747e-05}, 0: {'woe': -0.0013979347372731828, 'iv': 1.7563220171018334e-06}}, 'OCCUPATION_TYPE': {'Managers': {'woe': -0.07444578915936152, 'iv': 0.0006408135186235722}, 'HR staff': {'woe': -0.3607778782809076, 'iv': 0.0003714172385524679}, 'Medicine staff': {'woe': -0.7149496920015217, 'iv': 0.017688801517853504}, 'Accountants': {'woe': 0.10056768822171322, 'iv': 0.0005244176789119441}, 'Laborers': {'woe': -0.052850560149360626, 'iv': 0.0006728973676652198}, 'Cleaning staff': {'woe': -0.6231421427483989, 'iv': 0.0063848313842721155}, 'Private service staff': {'woe': -1.071624635940254, 'iv': 0.009751884644826897}, 'Drivers': {'woe': 0.3174184571164668, 'iv': 0.010024047691219536}, 'Sales staff': {'woe': -0.2665253400347184, 'iv': 0.008680345110209108}, 'Realty agents': {'woe': -0.992556112464561, 'iv': 0.0019970162769638385}, 'IT staff': {'woe': 1.1255999413959652, 'iv': 0.0054056183408211144}, 'Security staff': {'woe': 0.2736858004509473, 'iv': 0.002018644778280479}, 'Secretaries': {'woe': -0.2407602048231078, 'iv': 0.00031061024861284375}, 'Low-skill Laborers': {'woe': 1.0314866498254869, 'iv': 0.01258361677847266}, 'Core staff': {'woe': 0.20874038129259317, 'iv': 0.006895932490214902}, 'Cooking staff': {'woe': -0.20353600588397663, 'iv': 0.0009798491551008051}, 'High skill tech staff': {'woe': 0.2611566740537731, 'iv': 0.0042671222069442455}, 'Waiters/barmen staff': {'woe': -0.3843083756911018, 'iv': 0.0008534892560405748}}, 'AMT_INCOME_TOTALbucket': {0.0: {'woe': -0.06767757381322263, 'iv': 0.0010555622319709098}, 1.0: {'woe': -0.009591171305692302, 'iv': 3.898838160547007e-05}, 2.0: {'woe': 0.056904413765848254, 'iv': 0.001118852077947872}}, 'DAYS_EMPLOYEDbucket': {0.0: {'woe': -0.3965165520555521, 'iv': 0.032464774068510185}, 1.0: {'woe': -0.12090448143616793, 'iv': 0.003461136776233566}, 3.0: {'woe': 0.44006968446215866, 'iv': 0.060514147534267135}, 2.0: {'woe': -0.11444451065064175, 'iv': 0.003090961726656693}}}\n"
     ]
    }
   ],
   "source": [
    "# print WOE for each variable & category\n",
    "print(woe.fit_data)"
   ]
  },
  {
   "cell_type": "code",
   "execution_count": 35,
   "metadata": {},
   "outputs": [
    {
     "name": "stdout",
     "output_type": "stream",
     "text": [
      "{'CODE_GENDER': 0.025203504527450814, 'FLAG_OWN_CAR': 4.5424812499967504e-06, 'FLAG_OWN_REALTY': 0.02744070350168345, 'NAME_INCOME_TYPE': 0.23649142142127452, 'NAME_EDUCATION_TYPE': 0.010895022914241295, 'NAME_FAMILY_STATUS': 0.04313711542312794, 'NAME_HOUSING_TYPE': 0.007327502688022734, 'FLAG_MOBIL': 0.0, 'FLAG_WORK_PHONE': 0.00204242979514846, 'FLAG_PHONE': 0.0005480495762639285, 'FLAG_EMAIL': 1.7343581493999582e-05, 'OCCUPATION_TYPE': 0.09005135568358584, 'AMT_INCOME_TOTALbucket': 0.0022134026915242517, 'DAYS_EMPLOYEDbucket': 0.09953102010566758}\n"
     ]
    }
   ],
   "source": [
    "print(ivs)"
   ]
  },
  {
   "cell_type": "code",
   "execution_count": 36,
   "metadata": {},
   "outputs": [
    {
     "name": "stdout",
     "output_type": "stream",
     "text": [
      "(25134, 35)\n",
      "(25134, 35)\n"
     ]
    }
   ],
   "source": [
    "#writing the contents to a file for check point\n",
    "\n",
    "encoded_df.write.format(\"com.databricks.spark.csv\").mode('overwrite').save('encodeddf3.csv',header = 'true')\n",
    "encoded_df_saved = spark.read.csv(\"encodeddf3.csv\", header=True, inferSchema=True)\n",
    "print(encoded_df.shape())\n",
    "print(encoded_df_saved.shape())"
   ]
  },
  {
   "cell_type": "code",
   "execution_count": 14,
   "metadata": {},
   "outputs": [
    {
     "name": "stdout",
     "output_type": "stream",
     "text": [
      "(25134, 37)\n"
     ]
    },
    {
     "data": {
      "text/plain": [
       "['ID',\n",
       " 'CODE_GENDER',\n",
       " 'FLAG_OWN_CAR',\n",
       " 'FLAG_OWN_REALTY',\n",
       " 'CNT_CHILDREN',\n",
       " 'AMT_INCOME_TOTAL',\n",
       " 'NAME_INCOME_TYPE',\n",
       " 'NAME_EDUCATION_TYPE',\n",
       " 'NAME_FAMILY_STATUS',\n",
       " 'NAME_HOUSING_TYPE',\n",
       " 'DAYS_BIRTH',\n",
       " 'DAYS_EMPLOYED',\n",
       " 'FLAG_MOBIL',\n",
       " 'FLAG_WORK_PHONE',\n",
       " 'FLAG_PHONE',\n",
       " 'FLAG_EMAIL',\n",
       " 'OCCUPATION_TYPE',\n",
       " 'CNT_FAM_MEMBERS',\n",
       " 'target',\n",
       " 'RENT_HOUSING_TYPE',\n",
       " 'MARRIED_STATUS',\n",
       " 'AMT_INCOME_TOTALbucket',\n",
       " 'DAYS_EMPLOYEDbucket',\n",
       " 'CODE_GENDER_woe',\n",
       " 'FLAG_OWN_CAR_woe',\n",
       " 'FLAG_OWN_REALTY_woe',\n",
       " 'NAME_INCOME_TYPE_woe',\n",
       " 'NAME_EDUCATION_TYPE_woe',\n",
       " 'NAME_FAMILY_STATUS_woe',\n",
       " 'NAME_HOUSING_TYPE_woe',\n",
       " 'FLAG_MOBIL_woe',\n",
       " 'FLAG_WORK_PHONE_woe',\n",
       " 'FLAG_PHONE_woe',\n",
       " 'FLAG_EMAIL_woe',\n",
       " 'OCCUPATION_TYPE_woe',\n",
       " 'AMT_INCOME_TOTALbucket_woe',\n",
       " 'DAYS_EMPLOYEDbucket_woe']"
      ]
     },
     "execution_count": 14,
     "metadata": {},
     "output_type": "execute_result"
    }
   ],
   "source": [
    "#loading the data from the saved file \n",
    "\n",
    "encoded_df_saved = spark.read.csv(\"encodeddf3.csv\", header=True, inferSchema=True)\n",
    "print(encoded_df_saved.shape())\n",
    "encoded_df_saved.columns"
   ]
  },
  {
   "cell_type": "code",
   "execution_count": 15,
   "metadata": {},
   "outputs": [
    {
     "name": "stdout",
     "output_type": "stream",
     "text": [
      "Training Dataset Count: 17512\n",
      "Test Dataset Count: 7622\n",
      "+------+----------+-----------------------------------------+\n",
      "|target|prediction|probability                              |\n",
      "+------+----------+-----------------------------------------+\n",
      "|0     |0.0       |[0.9834064576364432,0.016593542363556778]|\n",
      "|0     |0.0       |[0.9834064576364432,0.016593542363556778]|\n",
      "|0     |0.0       |[0.9824810333341418,0.017518966665858286]|\n",
      "|0     |0.0       |[0.9856518469304083,0.014348153069591639]|\n",
      "|0     |0.0       |[0.9856518469304083,0.014348153069591639]|\n",
      "|0     |0.0       |[0.9856706528436444,0.01432934715635561] |\n",
      "|0     |0.0       |[0.9856706528436444,0.01432934715635561] |\n",
      "|0     |0.0       |[0.9897652559623905,0.010234744037609406]|\n",
      "|0     |0.0       |[0.9897652559623905,0.010234744037609406]|\n",
      "|0     |0.0       |[0.9897652559623905,0.010234744037609406]|\n",
      "|0     |0.0       |[0.9897652559623905,0.010234744037609406]|\n",
      "|0     |0.0       |[0.9897652559623905,0.010234744037609406]|\n",
      "|0     |0.0       |[0.9897652559623905,0.010234744037609406]|\n",
      "|0     |0.0       |[0.9840632840106216,0.015936715989378465]|\n",
      "|0     |0.0       |[0.9892448977011616,0.010755102298838397]|\n",
      "|0     |0.0       |[0.9892448977011616,0.010755102298838397]|\n",
      "|0     |0.0       |[0.9892448977011616,0.010755102298838397]|\n",
      "|0     |0.0       |[0.9892448977011616,0.010755102298838397]|\n",
      "|0     |0.0       |[0.9892448977011616,0.010755102298838397]|\n",
      "|0     |0.0       |[0.9845778218890976,0.015422178110902332]|\n",
      "+------+----------+-----------------------------------------+\n",
      "only showing top 20 rows\n",
      "\n",
      "+------+----------+-----------------------------------------+-----------+\n",
      "|target|prediction|probability                              |prob_int   |\n",
      "+------+----------+-----------------------------------------+-----------+\n",
      "|0     |0.0       |[0.9834064576364432,0.016593542363556778]|0.016593542|\n",
      "|0     |0.0       |[0.9834064576364432,0.016593542363556778]|0.016593542|\n",
      "|0     |0.0       |[0.9824810333341418,0.017518966665858286]|0.017518967|\n",
      "|0     |0.0       |[0.9856518469304083,0.014348153069591639]|0.014348153|\n",
      "|0     |0.0       |[0.9856518469304083,0.014348153069591639]|0.014348153|\n",
      "|0     |0.0       |[0.9856706528436444,0.01432934715635561] |0.014329347|\n",
      "|0     |0.0       |[0.9856706528436444,0.01432934715635561] |0.014329347|\n",
      "|0     |0.0       |[0.9897652559623905,0.010234744037609406]|0.010234744|\n",
      "|0     |0.0       |[0.9897652559623905,0.010234744037609406]|0.010234744|\n",
      "|0     |0.0       |[0.9897652559623905,0.010234744037609406]|0.010234744|\n",
      "|0     |0.0       |[0.9897652559623905,0.010234744037609406]|0.010234744|\n",
      "|0     |0.0       |[0.9897652559623905,0.010234744037609406]|0.010234744|\n",
      "|0     |0.0       |[0.9897652559623905,0.010234744037609406]|0.010234744|\n",
      "|0     |0.0       |[0.9840632840106216,0.015936715989378465]|0.015936716|\n",
      "|0     |0.0       |[0.9892448977011616,0.010755102298838397]|0.010755102|\n",
      "|0     |0.0       |[0.9892448977011616,0.010755102298838397]|0.010755102|\n",
      "|0     |0.0       |[0.9892448977011616,0.010755102298838397]|0.010755102|\n",
      "|0     |0.0       |[0.9892448977011616,0.010755102298838397]|0.010755102|\n",
      "|0     |0.0       |[0.9892448977011616,0.010755102298838397]|0.010755102|\n",
      "|0     |0.0       |[0.9845778218890976,0.015422178110902332]|0.015422178|\n",
      "+------+----------+-----------------------------------------+-----------+\n",
      "only showing top 20 rows\n",
      "\n"
     ]
    }
   ],
   "source": [
    "#splitting in test and train data\n",
    "train, test = encoded_df_saved.randomSplit([0.7, 0.3], seed = 2018)\n",
    "print(\"Training Dataset Count: \" + str(train.count()))\n",
    "print(\"Test Dataset Count: \" + str(test.count()))\n",
    "\n",
    "#Specifying feature list to be used for logistic regression\n",
    "features_list = [ 'CODE_GENDER_woe','FLAG_OWN_CAR_woe','FLAG_OWN_REALTY_woe','NAME_EDUCATION_TYPE_woe','NAME_FAMILY_STATUS_woe',\n",
    "'NAME_HOUSING_TYPE_woe','FLAG_MOBIL_woe','FLAG_WORK_PHONE_woe','FLAG_PHONE_woe','FLAG_EMAIL_woe','OCCUPATION_TYPE_woe',\n",
    "'AMT_INCOME_TOTALbucket_woe','DAYS_EMPLOYEDbucket_woe']\n",
    "\n",
    "#Creating feature vector column with all the input variables\n",
    "assembler = VectorAssembler(inputCols=features_list, outputCol=\"features\")\n",
    "train = assembler.transform(train)\n",
    "test = assembler.transform(test)\n",
    "\n",
    "#Building logistic regression model and predict on test & train dataset using the same model \n",
    "lr = LogisticRegression(labelCol=\"target\", featuresCol= \"features\",maxIter=10)\n",
    "model=lr.fit(train)\n",
    "predict_train=model.transform(train)\n",
    "predict_test=model.transform(test)\n",
    "predict_test.select(\"target\",\"prediction\",\"probability\").show(truncate=False)\n",
    "\n",
    "#Creating a probability column for target probability \n",
    "secondelement=udf(lambda v:float(v[1]),FloatType())\n",
    "predict_train = predict_train.withColumn('prob_int', secondelement('probability'))\n",
    "predict_test = predict_test.withColumn('prob_int', secondelement('probability'))\n",
    "predict_test.select(\"target\",\"prediction\",\"probability\",\"prob_int\").show(truncate=False)"
   ]
  },
  {
   "cell_type": "code",
   "execution_count": 18,
   "metadata": {},
   "outputs": [
    {
     "data": {
      "image/png": "[encoded data removed]",
      "text/plain": [
       "<Figure size 432x288 with 1 Axes>"
      ]
     },
     "metadata": {
      "needs_background": "light"
     },
     "output_type": "display_data"
    },
    {
     "name": "stdout",
     "output_type": "stream",
     "text": [
      "Training set areaUnderROC: 0.6372901362599135\n",
      "Testing set areaUnderROC=0.639\n"
     ]
    },
    {
     "data": {
      "image/png": "[encoded data removed]",
      "text/plain": [
       "<Figure size 432x288 with 1 Axes>"
      ]
     },
     "metadata": {
      "needs_background": "light"
     },
     "output_type": "display_data"
    }
   ],
   "source": [
    "# AUC ROC for training set\n",
    "trainingSummary = model.summary\n",
    "roc = trainingSummary.roc.toPandas()\n",
    "plt.plot(roc['FPR'],roc['TPR'])\n",
    "plt.ylabel('False Positive Rate')\n",
    "plt.xlabel('True Positive Rate')\n",
    "plt.title('ROC Curve')\n",
    "plt.show()\n",
    "print('Training set areaUnderROC: ' + str(trainingSummary.areaUnderROC))\n",
    "\n",
    "\n",
    "# AUC ROC for test set\n",
    "preds = predict_test.select('target','prob_int').rdd.map(lambda row: (float(row['prob_int']), float(row['target']))).collect()\n",
    "lr_probs, y_test = zip(*preds)\n",
    "fpr, tpr, thresholds = roc_curve(y_test, lr_probs, pos_label = 1)\n",
    "\n",
    "ns_probs = [0 for _ in range(len(y_test))]\n",
    "# calculate scores\n",
    "ns_auc = roc_auc_score(y_test, ns_probs)\n",
    "lr_auc = roc_auc_score(y_test, lr_probs)\n",
    "\n",
    "# summarize scores\n",
    "print('Testing set areaUnderROC=%.3f' % (lr_auc))\n",
    "# calculate roc curves\n",
    "ns_fpr, ns_tpr, _ = roc_curve(y_test, ns_probs)\n",
    "lr_fpr, lr_tpr, _ = roc_curve(y_test, lr_probs)\n",
    "# plot the roc curve for the model\n",
    "pyplot.plot(ns_fpr, ns_tpr, linestyle='--', label='No Skill')\n",
    "pyplot.plot(lr_fpr, lr_tpr, marker='.', label='Logistic')\n",
    "# axis labels\n",
    "pyplot.xlabel('False Positive Rate')\n",
    "pyplot.ylabel('True Positive Rate')\n",
    "# show the legend\n",
    "pyplot.legend()\n",
    "# show the plot\n",
    "pyplot.show()"
   ]
  },
  {
   "cell_type": "code",
   "execution_count": 19,
   "metadata": {},
   "outputs": [
    {
     "name": "stdout",
     "output_type": "stream",
     "text": [
      "+-----------+-----+-----------+------------+----+-----+-------------------+-------------------+--------------------+--------+\n",
      "|PROB_BUCKET|Total|   max_prob|    min_prob|bads|goods|           %cumuBad|          %cumuGood|               %diff|max_diff|\n",
      "+-----------+-----+-----------+------------+----+-----+-------------------+-------------------+--------------------+--------+\n",
      "|        9.0| 1767| 0.13853945| 0.028943837|  71| 1696|0.23509933774834438|0.09854735618826264| 0.13655198156008175|        |\n",
      "|        8.0| 1762|0.028909806| 0.022836756|  39| 1723|0.36423841059602646|0.19866356769320162| 0.16557484290282484|        |\n",
      "|        7.0| 1747| 0.02283603| 0.019426838|  35| 1712|0.48013245033112584| 0.2981406159209762| 0.18199183441014966|        |\n",
      "|        6.0| 1735|0.019403204| 0.016964752|  33| 1702| 0.5894039735099338|0.39703660662405577| 0.19236736688587802|        |\n",
      "|        5.0| 1753| 0.01695953|  0.01500702|  36| 1717| 0.7086092715231788|0.49680418361417783| 0.21180508790900093|   <----|\n",
      "|        4.0| 1742| 0.01500622|  0.01335217|  12| 1730| 0.7483443708609272| 0.5973271353864033| 0.15101723547452395|        |\n",
      "|        3.0| 1762|0.013346618|  0.01185898|  28| 1734| 0.8410596026490066| 0.6980825101685066| 0.14297709248049995|        |\n",
      "|        2.0| 1739|0.011848928| 0.010439634|  11| 1728| 0.8774834437086093| 0.7984892504357931|  0.0789941932728162|        |\n",
      "|        1.0| 1767| 0.01043872| 0.008262109|  21| 1746| 0.9470198675496688| 0.8999418942475305|0.047077973302138365|        |\n",
      "|        0.0| 1738|0.008234231|0.0021668826|  16| 1722|                1.0|                1.0|                 0.0|        |\n",
      "+-----------+-----+-----------+------------+----+-----+-------------------+-------------------+--------------------+--------+\n",
      "\n",
      "+-----------+-----+-----------+------------+----+-----+-------------------+-------------------+-------------------+--------+\n",
      "|PROB_BUCKET|Total|   max_prob|    min_prob|bads|goods|           %cumuBad|          %cumuGood|              %diff|max_diff|\n",
      "+-----------+-----+-----------+------------+----+-----+-------------------+-------------------+-------------------+--------+\n",
      "|        9.0|  771| 0.12774058| 0.028560463|  25|  746|0.20833333333333334|0.09944014929352173|0.10889318403981162|        |\n",
      "|        8.0|  762| 0.02855884|  0.02286847|  19|  743|0.36666666666666664|0.19848040522527327|0.16818626144139337|        |\n",
      "|        7.0|  763|0.022861024| 0.019559685|  12|  751| 0.4666666666666667|0.29858704345507864|0.16807962321158804|        |\n",
      "|        6.0|  757|   0.019556| 0.017001962|  15|  742| 0.5916666666666667|0.39749400159957343|0.19417266506709324|   <----|\n",
      "|        5.0|  767|0.016991807| 0.014954063|  11|  756| 0.6833333333333333| 0.4982671287656625|0.18506620456767087|        |\n",
      "|        4.0|  756|0.014951533| 0.013330067|   8|  748|               0.75| 0.5979738736336977| 0.1520261263663023|        |\n",
      "|        3.0|  763|0.013308508| 0.011785075|  13|  750| 0.8583333333333333| 0.6979472140762464| 0.1603861192570869|        |\n",
      "|        2.0|  760|0.011775754| 0.010243929|   4|  756| 0.8916666666666667| 0.7987203412423354|0.09294632542433134|        |\n",
      "|        1.0|  759|0.010243408| 0.008024434|  10|  749|              0.975| 0.8985603838976273|0.07643961610237271|        |\n",
      "|        0.0|  764|0.008023605|0.0021668826|   3|  761|                1.0|                1.0|                0.0|        |\n",
      "+-----------+-----+-----------+------------+----+-----+-------------------+-------------------+-------------------+--------+\n",
      "\n"
     ]
    }
   ],
   "source": [
    "#calculating KS\n",
    "\n",
    "#Creating deciles using the predcited probability column \n",
    "discretizer = QuantileDiscretizer(numBuckets=10, inputCol=\"prob_int\", outputCol=\"PROB_BUCKET\")\n",
    "predict_train = discretizer.fit(predict_train).transform(predict_train)\n",
    "predict_test = discretizer.fit(predict_test).transform(predict_test)\n",
    "\n",
    "#Creating #Good & # bad for each decile \n",
    "ks_train = predict_train.groupby('PROB_BUCKET').agg(F.count(\"ID\").alias(\"Total\"), \n",
    "                                                    F.max(\"prob_int\").alias(\"max_prob\"), \n",
    "                                                    F.min(\"prob_int\").alias(\"min_prob\"),  \n",
    "                                                    F.sum(\"target\").alias(\"bads\") ,\n",
    "                                                    F.count(F.when(col(\"target\") == 0,1)).alias(\"goods\")).sort(col('PROB_BUCKET').desc())\n",
    "\n",
    "ks_test = predict_test.groupby('PROB_BUCKET').agg(F.count(\"ID\").alias(\"Total\"), \n",
    "                                                  F.max(\"prob_int\").alias(\"max_prob\"), \n",
    "                                                  F.min(\"prob_int\").alias(\"min_prob\"),  \n",
    "                                                  F.sum(\"target\").alias(\"bads\") ,\n",
    "                                                  F.count(F.when(col(\"target\") == 0,1)).alias(\"goods\")).sort(col('PROB_BUCKET').desc())\n",
    "\n",
    "#Creating %cumulative good,%cumulative bad & KS \n",
    "ks_train = ks_train.withColumn('%cumuBad', F.sum('bads').over(Window.orderBy(F.col('PROB_BUCKET').desc()).rowsBetween(Window.unboundedPreceding, 0)\n",
    ")/ F.sum('bads').over(Window.partitionBy()))\n",
    "ks_train = ks_train.withColumn('%cumuGood', F.sum('goods').over(Window.orderBy(F.col('PROB_BUCKET').desc()).rowsBetween(Window.unboundedPreceding, 0)\n",
    ")/ F.sum('goods').over(Window.partitionBy()))\n",
    "ks_train = ks_train.withColumn('%diff', F.col('%cumuBad') -  F.col('%cumuGood'))\n",
    "ks_train = ks_train.withColumn('max_diff', F.when(F.col('%diff') ==F.max('%diff').over(Window.partitionBy()) ,'<----').otherwise(' '))\n",
    "\n",
    "ks_test = ks_test.withColumn('%cumuBad', F.sum('bads').over(Window.orderBy(F.col('PROB_BUCKET').desc()).rowsBetween(Window.unboundedPreceding, 0)\n",
    ")/ F.sum('bads').over(Window.partitionBy()))\n",
    "ks_test = ks_test.withColumn('%cumuGood', F.sum('goods').over(Window.orderBy(F.col('PROB_BUCKET').desc()).rowsBetween(Window.unboundedPreceding, 0)\n",
    ")/ F.sum('goods').over(Window.partitionBy()))\n",
    "ks_test = ks_test.withColumn('%diff', F.col('%cumuBad') -  F.col('%cumuGood'))\n",
    "ks_test = ks_test.withColumn('max_diff', F.when(F.col('%diff') ==F.max('%diff').over(Window.partitionBy()) ,'<----').otherwise(' '))\n",
    "\n",
    "ks_train.sort(col('PROB_BUCKET').desc()).show()\n",
    "ks_test.sort(col('PROB_BUCKET').desc()).show()"
   ]
  },
  {
   "cell_type": "code",
   "execution_count": null,
   "metadata": {},
   "outputs": [],
   "source": [
    "{\n",
    " 'DAYS_EMPLOYEDbucket': 0.09953102010566758   \n",
    " 'OCCUPATION_TYPE': 0.09005135568358584,\n",
    " 'NAME_FAMILY_STATUS': 0.04313711542312794\n",
    " 'FLAG_OWN_REALTY': 0.02744070350168345, \n",
    " 'CODE_GENDER': 0.025203504527450814, \n",
    " 'NAME_EDUCATION_TYPE': 0.010895022914241295,\n",
    " 'NAME_INCOME_TYPE': 0.23649142142127452, \n",
    " 'NAME_HOUSING_TYPE': 0.007327502688022734,\n",
    " 'AMT_INCOME_TOTALbucket': 0.0022134026915242517,\n",
    "\n",
    " 'FLAG_OWN_CAR': 4.5424812499967504e-06,   \n",
    " 'FLAG_MOBIL': 0.0, \n",
    " 'FLAG_WORK_PHONE': 0.00204242979514846, \n",
    " 'FLAG_PHONE': 0.0005480495762639285, \n",
    " 'FLAG_EMAIL': 1.7343581493999582e-05}"
   ]
  },
  {
   "cell_type": "code",
   "execution_count": 28,
   "metadata": {},
   "outputs": [
    {
     "name": "stdout",
     "output_type": "stream",
     "text": [
      "Training Dataset Count: 17512\n",
      "Test Dataset Count: 7622\n"
     ]
    },
    {
     "data": {
      "image/png": "[encoded data removed]",
      "text/plain": [
       "<Figure size 432x288 with 1 Axes>"
      ]
     },
     "metadata": {
      "needs_background": "light"
     },
     "output_type": "display_data"
    },
    {
     "name": "stdout",
     "output_type": "stream",
     "text": [
      "Training set areaUnderROC: 0.6409181863309105\n",
      "Testing set areaUnderROC=0.645\n"
     ]
    },
    {
     "data": {
      "image/png": "[encoded data removed]",
      "text/plain": [
       "<Figure size 432x288 with 1 Axes>"
      ]
     },
     "metadata": {
      "needs_background": "light"
     },
     "output_type": "display_data"
    },
    {
     "name": "stdout",
     "output_type": "stream",
     "text": [
      "+-----------+-----+------------+------------+----+-----+------------------+-------------------+-------------------+--------+\n",
      "|PROB_BUCKET|Total|    max_prob|    min_prob|bads|goods|          %cumuBad|          %cumuGood|              %diff|max_diff|\n",
      "+-----------+-----+------------+------------+----+-----+------------------+-------------------+-------------------+--------+\n",
      "|        9.0| 1767|  0.12712389| 0.028481252|  65| 1702|0.2152317880794702|0.09889599070307961|0.11633579737639058|        |\n",
      "|        8.0| 1757|  0.02843718| 0.023106424|  51| 1706|0.3841059602649007| 0.1980244044160372| 0.1860815558488635|        |\n",
      "|        7.0| 1744| 0.023104155|  0.01931368|  37| 1707|0.5066225165562914|0.29721092388146425|0.20941159267482717|        |\n",
      "|        6.0| 1769| 0.019307673| 0.017139195|  27| 1742|0.5960264900662252|0.39843114468332363|0.19759534538290158|        |\n",
      "|        5.0| 1734| 0.017136438| 0.014948291|  38| 1696|0.7218543046357616| 0.4969785008715863|0.22487580376417532|   <----|\n",
      "|        4.0| 1739|0.0149353305| 0.013360333|  17| 1722|0.7781456953642384| 0.5970366066240558| 0.1811090887401826|        |\n",
      "|        3.0| 1754| 0.013347732| 0.011939238|  14| 1740|0.8245033112582781| 0.6981406159209762|0.12636269533730193|        |\n",
      "|        2.0| 1764| 0.011938586| 0.010143996|  18| 1746|0.8841059602649006| 0.7995932597327136|0.08451270053218707|        |\n",
      "|        1.0| 1738| 0.010140842| 0.008303413|  18| 1720|0.9437086092715232| 0.8995351539802441|0.04417345529127914|        |\n",
      "|        0.0| 1746| 0.008286682|0.0020442815|  17| 1729|               1.0|                1.0|                0.0|        |\n",
      "+-----------+-----+------------+------------+----+-----+------------------+-------------------+-------------------+--------+\n",
      "\n",
      "+-----------+-----+-----------+------------+----+-----+-------------------+-------------------+-------------------+--------+\n",
      "|PROB_BUCKET|Total|   max_prob|    min_prob|bads|goods|           %cumuBad|          %cumuGood|              %diff|max_diff|\n",
      "+-----------+-----+-----------+------------+----+-----+-------------------+-------------------+-------------------+--------+\n",
      "|        9.0|  770| 0.12712389| 0.028434599|  23|  747|0.19166666666666668|0.09957344708077846|0.09209321958588822|        |\n",
      "|        8.0|  762| 0.02841121| 0.023120118|  21|  741|0.36666666666666664|0.19834710743801653| 0.1683195592286501|        |\n",
      "|        7.0|  761|0.023116216| 0.019532707|  15|  746|0.49166666666666664| 0.2977872567315383|0.19387940993512837|        |\n",
      "|        6.0|  779|0.019528367| 0.017139195|  13|  766|                0.6|0.39989336177019463|0.20010663822980534|        |\n",
      "|        5.0|  743|0.017137226|  0.01498929|  17|  726| 0.7416666666666667| 0.4966675553185817|  0.244999111348085|   <----|\n",
      "|        4.0|  764| 0.01497634| 0.013313022|   6|  758| 0.7916666666666666| 0.5977072780591842| 0.1939593886074824|        |\n",
      "|        3.0|  785|0.013279854| 0.011857951|   6|  779| 0.8416666666666667| 0.7015462543321781|0.14012041233448858|        |\n",
      "|        2.0|  768|0.011811542| 0.009972055|  10|  758|              0.925| 0.8025859770727806|0.12241402292721948|        |\n",
      "|        1.0|  724|0.009965233| 0.008123729|   5|  719| 0.9666666666666667| 0.8984270861103706|0.06823958055629609|        |\n",
      "|        0.0|  766|0.008120452|0.0020407778|   4|  762|                1.0|                1.0|                0.0|        |\n",
      "+-----------+-----+-----------+------------+----+-----+-------------------+-------------------+-------------------+--------+\n",
      "\n"
     ]
    }
   ],
   "source": [
    "#splitting in test and train data\n",
    "train, test = encoded_df_saved.randomSplit([0.7, 0.3], seed = 2018)\n",
    "print(\"Training Dataset Count: \" + str(train.count()))\n",
    "print(\"Test Dataset Count: \" + str(test.count()))\n",
    "\n",
    "#Specifying feature list to be used for logistic regression\n",
    "features_list = ['AMT_INCOME_TOTALbucket_woe','CODE_GENDER_woe','DAYS_EMPLOYEDbucket_woe','FLAG_OWN_REALTY_woe',\n",
    "                 'NAME_EDUCATION_TYPE_woe','NAME_FAMILY_STATUS_woe','NAME_HOUSING_TYPE_woe','OCCUPATION_TYPE_woe',\n",
    "                 'NAME_INCOME_TYPE_woe']\n",
    "\n",
    "#Creating feature vector column with all the input variables\n",
    "assembler = VectorAssembler(inputCols=features_list, outputCol=\"features\")\n",
    "train = assembler.transform(train)\n",
    "test = assembler.transform(test)\n",
    "\n",
    "#Building logistic regression model and predict on test & train dataset using the same model \n",
    "lr = LogisticRegression(labelCol=\"target\", featuresCol= \"features\",maxIter=10)\n",
    "model=lr.fit(train)\n",
    "predict_train=model.transform(train)\n",
    "predict_test=model.transform(test)\n",
    "#predict_test.select(\"target\",\"prediction\",\"probability\").show(truncate=False)\n",
    "\n",
    "#Creating a probability column for target probability \n",
    "secondelement=udf(lambda v:float(v[1]),FloatType())\n",
    "predict_train = predict_train.withColumn('prob_int', secondelement('probability'))\n",
    "predict_test = predict_test.withColumn('prob_int', secondelement('probability'))\n",
    "\n",
    "# AUC ROC for training set\n",
    "trainingSummary = model.summary\n",
    "roc = trainingSummary.roc.toPandas()\n",
    "plt.plot(roc['FPR'],roc['TPR'])\n",
    "plt.ylabel('False Positive Rate')\n",
    "plt.xlabel('True Positive Rate')\n",
    "plt.title('ROC Curve')\n",
    "plt.show()\n",
    "print('Training set areaUnderROC: ' + str(trainingSummary.areaUnderROC))\n",
    "\n",
    "\n",
    "# AUC ROC for test set\n",
    "preds = predict_test.select('target','prob_int').rdd.map(lambda row: (float(row['prob_int']), float(row['target']))).collect()\n",
    "lr_probs, y_test = zip(*preds)\n",
    "fpr, tpr, thresholds = roc_curve(y_test, lr_probs, pos_label = 1)\n",
    "\n",
    "ns_probs = [0 for _ in range(len(y_test))]\n",
    "# calculate scores\n",
    "ns_auc = roc_auc_score(y_test, ns_probs)\n",
    "lr_auc = roc_auc_score(y_test, lr_probs)\n",
    "\n",
    "# summarize scores\n",
    "print('Testing set areaUnderROC=%.3f' % (lr_auc))\n",
    "# calculate roc curves\n",
    "ns_fpr, ns_tpr, _ = roc_curve(y_test, ns_probs)\n",
    "lr_fpr, lr_tpr, _ = roc_curve(y_test, lr_probs)\n",
    "# plot the roc curve for the model\n",
    "pyplot.plot(ns_fpr, ns_tpr, linestyle='--', label='No Skill')\n",
    "pyplot.plot(lr_fpr, lr_tpr, marker='.', label='Logistic')\n",
    "# axis labels\n",
    "pyplot.xlabel('False Positive Rate')\n",
    "pyplot.ylabel('True Positive Rate')\n",
    "# show the legend\n",
    "pyplot.legend()\n",
    "# show the plot\n",
    "pyplot.show()\n",
    "\n",
    "\n",
    "#calculating KS\n",
    "\n",
    "#Creating deciles using the predcited probability column \n",
    "discretizer = QuantileDiscretizer(numBuckets=10, inputCol=\"prob_int\", outputCol=\"PROB_BUCKET\")\n",
    "predict_train = discretizer.fit(predict_train).transform(predict_train)\n",
    "predict_test = discretizer.fit(predict_test).transform(predict_test)\n",
    "\n",
    "#Creating #Good & # bad for each decile \n",
    "ks_train = predict_train.groupby('PROB_BUCKET').agg(F.count(\"ID\").alias(\"Total\"), \n",
    "                                                    F.max(\"prob_int\").alias(\"max_prob\"), \n",
    "                                                    F.min(\"prob_int\").alias(\"min_prob\"),  \n",
    "                                                    F.sum(\"target\").alias(\"bads\") ,\n",
    "                                                    F.count(F.when(col(\"target\") == 0,1)).alias(\"goods\")).sort(col('PROB_BUCKET').desc())\n",
    "\n",
    "ks_test = predict_test.groupby('PROB_BUCKET').agg(F.count(\"ID\").alias(\"Total\"), \n",
    "                                                  F.max(\"prob_int\").alias(\"max_prob\"), \n",
    "                                                  F.min(\"prob_int\").alias(\"min_prob\"),  \n",
    "                                                  F.sum(\"target\").alias(\"bads\") ,\n",
    "                                                  F.count(F.when(col(\"target\") == 0,1)).alias(\"goods\")).sort(col('PROB_BUCKET').desc())\n",
    "\n",
    "#Creating %cumulative good,%cumulative bad & KS \n",
    "ks_train = ks_train.withColumn('%cumuBad', F.sum('bads').over(Window.orderBy(F.col('PROB_BUCKET').desc()).rowsBetween(Window.unboundedPreceding, 0)\n",
    ")/ F.sum('bads').over(Window.partitionBy()))\n",
    "ks_train = ks_train.withColumn('%cumuGood', F.sum('goods').over(Window.orderBy(F.col('PROB_BUCKET').desc()).rowsBetween(Window.unboundedPreceding, 0)\n",
    ")/ F.sum('goods').over(Window.partitionBy()))\n",
    "ks_train = ks_train.withColumn('%diff', F.col('%cumuBad') -  F.col('%cumuGood'))\n",
    "ks_train = ks_train.withColumn('max_diff', F.when(F.col('%diff') ==F.max('%diff').over(Window.partitionBy()) ,'<----').otherwise(' '))\n",
    "\n",
    "ks_test = ks_test.withColumn('%cumuBad', F.sum('bads').over(Window.orderBy(F.col('PROB_BUCKET').desc()).rowsBetween(Window.unboundedPreceding, 0)\n",
    ")/ F.sum('bads').over(Window.partitionBy()))\n",
    "ks_test = ks_test.withColumn('%cumuGood', F.sum('goods').over(Window.orderBy(F.col('PROB_BUCKET').desc()).rowsBetween(Window.unboundedPreceding, 0)\n",
    ")/ F.sum('goods').over(Window.partitionBy()))\n",
    "ks_test = ks_test.withColumn('%diff', F.col('%cumuBad') -  F.col('%cumuGood'))\n",
    "ks_test = ks_test.withColumn('max_diff', F.when(F.col('%diff') ==F.max('%diff').over(Window.partitionBy()) ,'<----').otherwise(' '))\n",
    "\n",
    "ks_train.sort(col('PROB_BUCKET').desc()).show()\n",
    "ks_test.sort(col('PROB_BUCKET').desc()).show()"
   ]
  },
  {
   "cell_type": "code",
   "execution_count": 29,
   "metadata": {},
   "outputs": [
    {
     "name": "stdout",
     "output_type": "stream",
     "text": [
      "+----------+------+-----+\n",
      "|pred_class|target|count|\n",
      "+----------+------+-----+\n",
      "|         1|     0| 3691|\n",
      "|         1|     1|   89|\n",
      "|         0|     0| 3811|\n",
      "|         0|     1|   31|\n",
      "+----------+------+-----+\n",
      "\n",
      "[[3811. 3691.]\n",
      " [  31.   89.]]\n",
      "Summary Stats\n",
      "Precision = 0.023544973544973546\n",
      "Recall = 0.7416666666666667\n",
      "F1 Score = 0.5116767252689582\n",
      "Area under PR = 0.022537334780457757\n",
      "Area under ROC = 0.6248322669510353\n"
     ]
    }
   ],
   "source": [
    "#Creating prediction classs based on the prob cut off by KS value\n",
    "\n",
    "min_prob_max_ks = ks_test.where(col(\"max_diff\") == '<----').select(col(\"min_prob\")).collect()[0]\n",
    "predict_test = predict_test.withColumn('pred_class', F.when(F.col('prob_int') > round(min_prob_max_ks[0],4) ,1).otherwise(0))\n",
    "predict_test.groupBy('pred_class','target').count().show()\n",
    "\n",
    "#Generating evaluation metrics\n",
    "results = predict_test.select(['pred_class', 'target'])\n",
    "results = results.withColumn(\"target\", results[\"target\"].cast(DoubleType()))\n",
    "results = results.withColumn(\"pred_class\", results[\"pred_class\"].cast(DoubleType()))\n",
    "\n",
    "predictionAndLabels=results.rdd\n",
    "metrics = MulticlassMetrics(predictionAndLabels)\n",
    "metrics1 = BinaryClassificationMetrics(predictionAndLabels)\n",
    "\n",
    "cm=metrics.confusionMatrix().toArray()\n",
    "print(cm)\n",
    "# Overall statistics\n",
    "precision = metrics.precision(1)\n",
    "recall = metrics.recall(1)\n",
    "f1Score = metrics.fMeasure()\n",
    "print(\"Summary Stats\")\n",
    "print(\"Precision = %s\" % precision)\n",
    "print(\"Recall = %s\" % recall)\n",
    "print(\"F1 Score = %s\" % f1Score)\n",
    "# Area under precision-recall curve\n",
    "print(\"Area under PR = %s\" % metrics1.areaUnderPR)\n",
    "# Area under ROC curve\n",
    "print(\"Area under ROC = %s\" % metrics1.areaUnderROC)"
   ]
  },
  {
   "cell_type": "code",
   "execution_count": null,
   "metadata": {},
   "outputs": [],
   "source": [
    "\n"
   ]
  },
  {
   "cell_type": "code",
   "execution_count": null,
   "metadata": {},
   "outputs": [],
   "source": []
  },
  {
   "cell_type": "code",
   "execution_count": null,
   "metadata": {},
   "outputs": [],
   "source": []
  },
  {
   "cell_type": "code",
   "execution_count": null,
   "metadata": {},
   "outputs": [],
   "source": []
  },
  {
   "cell_type": "code",
   "execution_count": null,
   "metadata": {},
   "outputs": [],
   "source": []
  },
  {
   "cell_type": "code",
   "execution_count": null,
   "metadata": {},
   "outputs": [],
   "source": []
  }
 ],
 "metadata": {
  "kernelspec": {
   "display_name": "Python 3",
   "language": "python",
   "name": "python3"
  },
  "language_info": {
   "codemirror_mode": {
    "name": "ipython",
    "version": 3
   },
   "file_extension": ".py",
   "mimetype": "text/x-python",
   "name": "python",
   "nbconvert_exporter": "python",
   "pygments_lexer": "ipython3",
   "version": "3.7.4"
  }
 },
 "nbformat": 4,
 "nbformat_minor": 4
}
