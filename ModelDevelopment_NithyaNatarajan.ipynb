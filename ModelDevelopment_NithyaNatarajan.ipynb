{
 "cells": [
  {
   "cell_type": "code",
   "execution_count": 1,
   "metadata": {},
   "outputs": [
    {
     "data": {
      "application/vnd.jupyter.widget-view+json": {
       "model_id": "08efffb8c2ee4f4aa9fd3188bdd72f13",
       "version_major": 2,
       "version_minor": 0
      },
      "text/plain": [
       "VBox()"
      ]
     },
     "metadata": {},
     "output_type": "display_data"
    },
    {
     "name": "stdout",
     "output_type": "stream",
     "text": [
      "Starting Spark application\n"
     ]
    },
    {
     "data": {
      "text/html": [
       "<table>\n",
       "<tr><th>ID</th><th>YARN Application ID</th><th>Kind</th><th>State</th><th>Spark UI</th><th>Driver log</th><th>Current session?</th></tr><tr><td>0</td><td>application_1601299294064_0001</td><td>pyspark</td><td>idle</td><td><a target=\"_blank\" href=\"http://ip-172-31-93-108.ec2.internal:20888/proxy/application_1601299294064_0001/\">Link</a></td><td><a target=\"_blank\" href=\"http://ip-172-31-92-85.ec2.internal:8042/node/containerlogs/container_1601299294064_0001_01_000001/livy\">Link</a></td><td>✔</td></tr></table>"
      ],
      "text/plain": [
       "<IPython.core.display.HTML object>"
      ]
     },
     "metadata": {},
     "output_type": "display_data"
    },
    {
     "data": {
      "application/vnd.jupyter.widget-view+json": {
       "model_id": "",
       "version_major": 2,
       "version_minor": 0
      },
      "text/plain": [
       "FloatProgress(value=0.0, bar_style='info', description='Progress:', layout=Layout(height='25px', width='50%'),…"
      ]
     },
     "metadata": {},
     "output_type": "display_data"
    },
    {
     "name": "stdout",
     "output_type": "stream",
     "text": [
      "SparkSession available as 'spark'.\n"
     ]
    },
    {
     "data": {
      "application/vnd.jupyter.widget-view+json": {
       "model_id": "",
       "version_major": 2,
       "version_minor": 0
      },
      "text/plain": [
       "FloatProgress(value=0.0, bar_style='info', description='Progress:', layout=Layout(height='25px', width='50%'),…"
      ]
     },
     "metadata": {},
     "output_type": "display_data"
    },
    {
     "name": "stdout",
     "output_type": "stream",
     "text": [
      "<pyspark.sql.session.SparkSession object at 0x7f0b2f088ad0>"
     ]
    }
   ],
   "source": [
    "spark"
   ]
  },
  {
   "cell_type": "code",
   "execution_count": 2,
   "metadata": {},
   "outputs": [
    {
     "data": {
      "application/vnd.jupyter.widget-view+json": {
       "model_id": "38c8c77528ac43ce8fce93996532c3e0",
       "version_major": 2,
       "version_minor": 0
      },
      "text/plain": [
       "VBox()"
      ]
     },
     "metadata": {},
     "output_type": "display_data"
    },
    {
     "data": {
      "application/vnd.jupyter.widget-view+json": {
       "model_id": "",
       "version_major": 2,
       "version_minor": 0
      },
      "text/plain": [
       "FloatProgress(value=0.0, bar_style='info', description='Progress:', layout=Layout(height='25px', width='50%'),…"
      ]
     },
     "metadata": {},
     "output_type": "display_data"
    }
   ],
   "source": [
    "#df = spark.read.csv(\"/user/hadoop/deliq_customer_details_IV.csv\", header = True, inferSchema = True)\n",
    "\n",
    "df = spark.read.csv(\"s3://mynithbuck/logistic/deliq_customer_details_IV.csv\",header = True, inferSchema = True)"
   ]
  },
  {
   "cell_type": "code",
   "execution_count": null,
   "metadata": {},
   "outputs": [],
   "source": []
  },
  {
   "cell_type": "code",
   "execution_count": 3,
   "metadata": {},
   "outputs": [
    {
     "data": {
      "application/vnd.jupyter.widget-view+json": {
       "model_id": "b2330242b97a4336b3a1f4a8fe100e0e",
       "version_major": 2,
       "version_minor": 0
      },
      "text/plain": [
       "VBox()"
      ]
     },
     "metadata": {},
     "output_type": "display_data"
    },
    {
     "data": {
      "application/vnd.jupyter.widget-view+json": {
       "model_id": "",
       "version_major": 2,
       "version_minor": 0
      },
      "text/plain": [
       "FloatProgress(value=0.0, bar_style='info', description='Progress:', layout=Layout(height='25px', width='50%'),…"
      ]
     },
     "metadata": {},
     "output_type": "display_data"
    },
    {
     "name": "stdout",
     "output_type": "stream",
     "text": [
      "36431"
     ]
    }
   ],
   "source": [
    "df.count()"
   ]
  },
  {
   "cell_type": "code",
   "execution_count": 4,
   "metadata": {},
   "outputs": [
    {
     "data": {
      "application/vnd.jupyter.widget-view+json": {
       "model_id": "c4a2329e3a3a435daaf455c154b4b660",
       "version_major": 2,
       "version_minor": 0
      },
      "text/plain": [
       "VBox()"
      ]
     },
     "metadata": {},
     "output_type": "display_data"
    },
    {
     "data": {
      "application/vnd.jupyter.widget-view+json": {
       "model_id": "",
       "version_major": 2,
       "version_minor": 0
      },
      "text/plain": [
       "FloatProgress(value=0.0, bar_style='info', description='Progress:', layout=Layout(height='25px', width='50%'),…"
      ]
     },
     "metadata": {},
     "output_type": "display_data"
    },
    {
     "name": "stdout",
     "output_type": "stream",
     "text": [
      "+-----+---------------+----------+------------+---------------+-----------------+--------------------+--------------+-----------+------------+----------+-------+--------------------+--------------------+-------------------+------------+---+\n",
      "|  AGE|CNT_FAM_MEMBERS|FLAG_PHONE|FLAG_OWN_CAR|FLAG_WORK_PHONE|NAME_HOUSING_TYPE| NAME_EDUCATION_TYPE|YEARS_EMPLOYED|CODE_GENDER|CNT_CHILDREN|FLAG_EMAIL|     ID|  NAME_FAMILY_STATUS|    NAME_INCOME_TYPE|OCCUPATION_TYPE_NEW|Months_delay|  y|\n",
      "+-----+---------------+----------+------------+---------------+-----------------+--------------------+--------------+-----------+------------+----------+-------+--------------------+--------------------+-------------------+------------+---+\n",
      "|32.89|            2.0|         0|           Y|              1| Rented apartment|    Higher education|         12.44|          M|           0|         0|5008804|      Civil marriage|             Working|             Others|           0|  0|\n",
      "|32.89|            2.0|         0|           Y|              1| Rented apartment|    Higher education|         12.44|          M|           0|         0|5008805|      Civil marriage|             Working|             Others|           0|  0|\n",
      "|58.83|            2.0|         0|           Y|              0|House / apartment|Secondary / secon...|          3.11|          M|           0|         0|5008806|             Married|             Working|     Security staff|           0|  0|\n",
      "|52.36|            1.0|         1|           N|              0|House / apartment|Secondary / secon...|          8.36|          F|           0|         1|5008808|Single / not married|Commercial associate|        Sales staff|           0|  0|\n",
      "|52.36|            1.0|         1|           N|              0|House / apartment|Secondary / secon...|          8.36|          F|           0|         1|5008809|Single / not married|Commercial associate|        Sales staff|          22|  0|\n",
      "|52.36|            1.0|         1|           N|              0|House / apartment|Secondary / secon...|          8.36|          F|           0|         1|5008810|Single / not married|Commercial associate|        Sales staff|           0|  0|\n",
      "|52.36|            1.0|         1|           N|              0|House / apartment|Secondary / secon...|          8.36|          F|           0|         1|5008811|Single / not married|Commercial associate|        Sales staff|           0|  0|\n",
      "|61.55|            1.0|         0|           N|              0|House / apartment|    Higher education|           0.0|          F|           0|         0|5008812|           Separated|           Pensioner|             Others|           4|  0|\n",
      "|61.55|            1.0|         0|           N|              0|House / apartment|    Higher education|           0.0|          F|           0|         0|5008813|           Separated|           Pensioner|             Others|           0|  0|\n",
      "|61.55|            1.0|         0|           N|              0|House / apartment|    Higher education|           0.0|          F|           0|         0|5008814|           Separated|           Pensioner|             Others|           1|  0|\n",
      "|46.22|            2.0|         1|           Y|              1|House / apartment|    Higher education|          2.11|          M|           0|         1|5008815|             Married|             Working|        Accountants|           0|  0|\n",
      "|46.22|            2.0|         1|           Y|              1|House / apartment|    Higher education|          2.11|          M|           0|         1|5112956|             Married|             Working|        Accountants|           0|  0|\n",
      "|48.71|            2.0|         0|           Y|              0|House / apartment|Secondary / secon...|          3.27|          M|           0|         0|5008819|             Married|Commercial associate|           Laborers|          10|  0|\n",
      "|48.71|            2.0|         0|           Y|              0|House / apartment|Secondary / secon...|          3.27|          M|           0|         0|5008820|             Married|Commercial associate|           Laborers|           8|  0|\n",
      "|48.71|            2.0|         0|           Y|              0|House / apartment|Secondary / secon...|          3.27|          M|           0|         0|5008821|             Married|Commercial associate|           Laborers|           0|  0|\n",
      "|48.71|            2.0|         0|           Y|              0|House / apartment|Secondary / secon...|          3.27|          M|           0|         0|5008822|             Married|Commercial associate|           Laborers|          14|  0|\n",
      "|48.71|            2.0|         0|           Y|              0|House / apartment|Secondary / secon...|          3.27|          M|           0|         0|5008823|             Married|Commercial associate|           Laborers|           3|  0|\n",
      "|48.71|            2.0|         0|           Y|              0|House / apartment|Secondary / secon...|          3.27|          M|           0|         0|5008824|             Married|Commercial associate|           Laborers|           0|  0|\n",
      "|29.23|            2.0|         0|           Y|              0|House / apartment|   Incomplete higher|          3.02|          F|           0|         0|5008825|             Married|             Working|        Accountants|           0|  0|\n",
      "|29.23|            2.0|         0|           Y|              0|House / apartment|   Incomplete higher|          3.02|          F|           0|         0|5008826|             Married|             Working|        Accountants|           1|  0|\n",
      "+-----+---------------+----------+------------+---------------+-----------------+--------------------+--------------+-----------+------------+----------+-------+--------------------+--------------------+-------------------+------------+---+\n",
      "only showing top 20 rows"
     ]
    }
   ],
   "source": [
    "df.show()"
   ]
  },
  {
   "cell_type": "code",
   "execution_count": 5,
   "metadata": {},
   "outputs": [
    {
     "data": {
      "application/vnd.jupyter.widget-view+json": {
       "model_id": "292c497201ea4bfdb12052bb7305374e",
       "version_major": 2,
       "version_minor": 0
      },
      "text/plain": [
       "VBox()"
      ]
     },
     "metadata": {},
     "output_type": "display_data"
    },
    {
     "data": {
      "application/vnd.jupyter.widget-view+json": {
       "model_id": "",
       "version_major": 2,
       "version_minor": 0
      },
      "text/plain": [
       "FloatProgress(value=0.0, bar_style='info', description='Progress:', layout=Layout(height='25px', width='50%'),…"
      ]
     },
     "metadata": {},
     "output_type": "display_data"
    },
    {
     "name": "stdout",
     "output_type": "stream",
     "text": [
      "root\n",
      " |-- AGE: double (nullable = true)\n",
      " |-- CNT_FAM_MEMBERS: double (nullable = true)\n",
      " |-- FLAG_PHONE: integer (nullable = true)\n",
      " |-- FLAG_OWN_CAR: string (nullable = true)\n",
      " |-- FLAG_WORK_PHONE: integer (nullable = true)\n",
      " |-- NAME_HOUSING_TYPE: string (nullable = true)\n",
      " |-- NAME_EDUCATION_TYPE: string (nullable = true)\n",
      " |-- YEARS_EMPLOYED: double (nullable = true)\n",
      " |-- CODE_GENDER: string (nullable = true)\n",
      " |-- CNT_CHILDREN: integer (nullable = true)\n",
      " |-- FLAG_EMAIL: integer (nullable = true)\n",
      " |-- ID: integer (nullable = true)\n",
      " |-- NAME_FAMILY_STATUS: string (nullable = true)\n",
      " |-- NAME_INCOME_TYPE: string (nullable = true)\n",
      " |-- OCCUPATION_TYPE_NEW: string (nullable = true)\n",
      " |-- Months_delay: integer (nullable = true)\n",
      " |-- y: integer (nullable = true)"
     ]
    }
   ],
   "source": [
    "df.printSchema()"
   ]
  },
  {
   "cell_type": "code",
   "execution_count": 6,
   "metadata": {},
   "outputs": [
    {
     "data": {
      "application/vnd.jupyter.widget-view+json": {
       "model_id": "b8a3f68f91d04ef79118f4c2dbec89e5",
       "version_major": 2,
       "version_minor": 0
      },
      "text/plain": [
       "VBox()"
      ]
     },
     "metadata": {},
     "output_type": "display_data"
    },
    {
     "data": {
      "application/vnd.jupyter.widget-view+json": {
       "model_id": "",
       "version_major": 2,
       "version_minor": 0
      },
      "text/plain": [
       "FloatProgress(value=0.0, bar_style='info', description='Progress:', layout=Layout(height='25px', width='50%'),…"
      ]
     },
     "metadata": {},
     "output_type": "display_data"
    },
    {
     "name": "stdout",
     "output_type": "stream",
     "text": [
      "+----+---------------+----------+------------+---------------+-----------------+-------------------+--------------+-----------+------------+----------+-----+------------------+----------------+-------------------+------------+---+\n",
      "| AGE|CNT_FAM_MEMBERS|FLAG_PHONE|FLAG_OWN_CAR|FLAG_WORK_PHONE|NAME_HOUSING_TYPE|NAME_EDUCATION_TYPE|YEARS_EMPLOYED|CODE_GENDER|CNT_CHILDREN|FLAG_EMAIL|   ID|NAME_FAMILY_STATUS|NAME_INCOME_TYPE|OCCUPATION_TYPE_NEW|Months_delay|  y|\n",
      "+----+---------------+----------+------------+---------------+-----------------+-------------------+--------------+-----------+------------+----------+-----+------------------+----------------+-------------------+------------+---+\n",
      "|3861|              6|         2|           2|              2|                6|                  5|          1891|          2|           5|         2|36431|                 5|               5|                 19|          61|  2|\n",
      "+----+---------------+----------+------------+---------------+-----------------+-------------------+--------------+-----------+------------+----------+-----+------------------+----------------+-------------------+------------+---+"
     ]
    }
   ],
   "source": [
    "# find the number of catagories in each columns \n",
    "# use the countdistinct method\n",
    "# create a list of all columns and then loop through each column counting the distinct values in it. \n",
    "\n",
    "from pyspark.sql.functions import col, countDistinct\n",
    "\n",
    "df.agg(*(countDistinct(col(c)).alias(c) for c in df.columns)).show()\n",
    "\n",
    "# here * instructs the agg function to accept whatever number of columns are inside the brakets. "
   ]
  },
  {
   "cell_type": "code",
   "execution_count": 7,
   "metadata": {},
   "outputs": [
    {
     "data": {
      "application/vnd.jupyter.widget-view+json": {
       "model_id": "bf1b289e007744bcb8591394ef19a3a4",
       "version_major": 2,
       "version_minor": 0
      },
      "text/plain": [
       "VBox()"
      ]
     },
     "metadata": {},
     "output_type": "display_data"
    },
    {
     "data": {
      "application/vnd.jupyter.widget-view+json": {
       "model_id": "",
       "version_major": 2,
       "version_minor": 0
      },
      "text/plain": [
       "FloatProgress(value=0.0, bar_style='info', description='Progress:', layout=Layout(height='25px', width='50%'),…"
      ]
     },
     "metadata": {},
     "output_type": "display_data"
    },
    {
     "name": "stdout",
     "output_type": "stream",
     "text": [
      "['CNT_FAM_MEMBERS', 'FLAG_PHONE', 'FLAG_OWN_CAR', 'FLAG_WORK_PHONE', 'NAME_HOUSING_TYPE', 'NAME_EDUCATION_TYPE', 'CODE_GENDER', 'CNT_CHILDREN', 'FLAG_EMAIL', 'NAME_FAMILY_STATUS', 'NAME_INCOME_TYPE', 'OCCUPATION_TYPE_NEW', 'Months_delay', 'y']"
     ]
    }
   ],
   "source": [
    "# drop colums which have lot of dictinct catagories. \n",
    "\n",
    "#df=df.drop('AGE','YEARS_EMPLOYED','ID')\n",
    "df=df.drop('AGE','ID','YEARS_EMPLOYED')\n",
    "df.columns"
   ]
  },
  {
   "cell_type": "markdown",
   "metadata": {},
   "source": [
    "# Algorithm Building"
   ]
  },
  {
   "cell_type": "code",
   "execution_count": 8,
   "metadata": {},
   "outputs": [
    {
     "data": {
      "application/vnd.jupyter.widget-view+json": {
       "model_id": "e69b64e124bc40a984507703fd2cbbe3",
       "version_major": 2,
       "version_minor": 0
      },
      "text/plain": [
       "VBox()"
      ]
     },
     "metadata": {},
     "output_type": "display_data"
    },
    {
     "data": {
      "application/vnd.jupyter.widget-view+json": {
       "model_id": "",
       "version_major": 2,
       "version_minor": 0
      },
      "text/plain": [
       "FloatProgress(value=0.0, bar_style='info', description='Progress:', layout=Layout(height='25px', width='50%'),…"
      ]
     },
     "metadata": {},
     "output_type": "display_data"
    }
   ],
   "source": [
    "# import all the necessary libraries \n",
    "\n",
    "from pyspark.sql.functions import udf\n",
    "from pyspark.sql.types import IntegerType\n",
    "from pyspark.ml.feature import StringIndexer, OneHotEncoderEstimator, VectorAssembler"
   ]
  },
  {
   "cell_type": "code",
   "execution_count": 9,
   "metadata": {},
   "outputs": [
    {
     "data": {
      "application/vnd.jupyter.widget-view+json": {
       "model_id": "38da2c8e85f347ff9f2854ab31f30d19",
       "version_major": 2,
       "version_minor": 0
      },
      "text/plain": [
       "VBox()"
      ]
     },
     "metadata": {},
     "output_type": "display_data"
    },
    {
     "data": {
      "application/vnd.jupyter.widget-view+json": {
       "model_id": "",
       "version_major": 2,
       "version_minor": 0
      },
      "text/plain": [
       "FloatProgress(value=0.0, bar_style='info', description='Progress:', layout=Layout(height='25px', width='50%'),…"
      ]
     },
     "metadata": {},
     "output_type": "display_data"
    }
   ],
   "source": [
    "from pyspark.sql.functions import udf\n",
    "from pyspark.sql.types import IntegerType\n",
    "\n",
    "posMapper = udf(lambda x: 1 if x =='Y' else 0)\n",
    "df = df.withColumn('FLAG_OWN_CAR_1', posMapper(df['FLAG_OWN_CAR']))\n",
    "df = df.withColumn(\"FLAG_EMAIL_1\", posMapper(df['FLAG_EMAIL']))\n",
    "df = df.withColumn(\"FLAG_OWN_CAR_NEW\", df['FLAG_OWN_CAR_1'].cast(IntegerType()))\n",
    "df = df.withColumn(\"FLAG_EMAIL_NEW\", df['FLAG_EMAIL_1'].cast(IntegerType()))\n",
    "df = df.withColumn(\"CNT_FAM_MEMBERS_NEW\", df['CNT_FAM_MEMBERS'].cast(IntegerType()))\n"
   ]
  },
  {
   "cell_type": "code",
   "execution_count": 10,
   "metadata": {},
   "outputs": [
    {
     "data": {
      "application/vnd.jupyter.widget-view+json": {
       "model_id": "f8b08c967d4a488797834c67dbe204ae",
       "version_major": 2,
       "version_minor": 0
      },
      "text/plain": [
       "VBox()"
      ]
     },
     "metadata": {},
     "output_type": "display_data"
    },
    {
     "data": {
      "application/vnd.jupyter.widget-view+json": {
       "model_id": "",
       "version_major": 2,
       "version_minor": 0
      },
      "text/plain": [
       "FloatProgress(value=0.0, bar_style='info', description='Progress:', layout=Layout(height='25px', width='50%'),…"
      ]
     },
     "metadata": {},
     "output_type": "display_data"
    },
    {
     "name": "stdout",
     "output_type": "stream",
     "text": [
      "['FLAG_PHONE', 'FLAG_WORK_PHONE', 'NAME_HOUSING_TYPE', 'NAME_EDUCATION_TYPE', 'CODE_GENDER', 'CNT_CHILDREN', 'NAME_FAMILY_STATUS', 'NAME_INCOME_TYPE', 'OCCUPATION_TYPE_NEW', 'Months_delay', 'y', 'FLAG_OWN_CAR_NEW', 'FLAG_EMAIL_NEW', 'CNT_FAM_MEMBERS_NEW']"
     ]
    }
   ],
   "source": [
    "df = df.drop(\"FLAG_OWN_CAR_1\",\"FLAG_OWN_CAR\",\"FLAG_EMAIL_1\",\"FLAG_EMAIL\",\"CNT_FAM_MEMBERS\")\n",
    "df.columns"
   ]
  },
  {
   "cell_type": "code",
   "execution_count": 11,
   "metadata": {},
   "outputs": [
    {
     "data": {
      "application/vnd.jupyter.widget-view+json": {
       "model_id": "36a257879d9e40caac92561a76103fc2",
       "version_major": 2,
       "version_minor": 0
      },
      "text/plain": [
       "VBox()"
      ]
     },
     "metadata": {},
     "output_type": "display_data"
    },
    {
     "data": {
      "application/vnd.jupyter.widget-view+json": {
       "model_id": "",
       "version_major": 2,
       "version_minor": 0
      },
      "text/plain": [
       "FloatProgress(value=0.0, bar_style='info', description='Progress:', layout=Layout(height='25px', width='50%'),…"
      ]
     },
     "metadata": {},
     "output_type": "display_data"
    },
    {
     "name": "stdout",
     "output_type": "stream",
     "text": [
      "+----------------+--------------+\n",
      "|FLAG_OWN_CAR_NEW|FLAG_EMAIL_NEW|\n",
      "+----------------+--------------+\n",
      "|               1|             0|\n",
      "|               1|             0|\n",
      "|               1|             0|\n",
      "|               0|             0|\n",
      "|               0|             0|\n",
      "|               0|             0|\n",
      "|               0|             0|\n",
      "|               0|             0|\n",
      "|               0|             0|\n",
      "|               0|             0|\n",
      "|               1|             0|\n",
      "|               1|             0|\n",
      "|               1|             0|\n",
      "|               1|             0|\n",
      "|               1|             0|\n",
      "|               1|             0|\n",
      "|               1|             0|\n",
      "|               1|             0|\n",
      "|               1|             0|\n",
      "|               1|             0|\n",
      "+----------------+--------------+\n",
      "only showing top 20 rows"
     ]
    }
   ],
   "source": [
    "df.select('FLAG_OWN_CAR_NEW',\"FLAG_EMAIL_NEW\").show()"
   ]
  },
  {
   "cell_type": "code",
   "execution_count": 12,
   "metadata": {},
   "outputs": [
    {
     "data": {
      "application/vnd.jupyter.widget-view+json": {
       "model_id": "795d049f03234192b0bf7080c43980cf",
       "version_major": 2,
       "version_minor": 0
      },
      "text/plain": [
       "VBox()"
      ]
     },
     "metadata": {},
     "output_type": "display_data"
    },
    {
     "data": {
      "application/vnd.jupyter.widget-view+json": {
       "model_id": "",
       "version_major": 2,
       "version_minor": 0
      },
      "text/plain": [
       "FloatProgress(value=0.0, bar_style='info', description='Progress:', layout=Layout(height='25px', width='50%'),…"
      ]
     },
     "metadata": {},
     "output_type": "display_data"
    }
   ],
   "source": [
    "# create a list of catagorical columns wich are represented by integers. these will not be sent through the one hot encoder\n",
    "\n",
    "cCols = ['FLAG_OWN_CAR_NEW','FLAG_EMAIL_NEW','FLAG_PHONE','FLAG_WORK_PHONE','CNT_FAM_MEMBERS_NEW']\n"
   ]
  },
  {
   "cell_type": "code",
   "execution_count": 13,
   "metadata": {},
   "outputs": [
    {
     "data": {
      "application/vnd.jupyter.widget-view+json": {
       "model_id": "3aa8f6aae4b64ac180582df2a0bfab02",
       "version_major": 2,
       "version_minor": 0
      },
      "text/plain": [
       "VBox()"
      ]
     },
     "metadata": {},
     "output_type": "display_data"
    },
    {
     "data": {
      "application/vnd.jupyter.widget-view+json": {
       "model_id": "",
       "version_major": 2,
       "version_minor": 0
      },
      "text/plain": [
       "FloatProgress(value=0.0, bar_style='info', description='Progress:', layout=Layout(height='25px', width='50%'),…"
      ]
     },
     "metadata": {},
     "output_type": "display_data"
    },
    {
     "name": "stdout",
     "output_type": "stream",
     "text": [
      "['FLAG_OWN_CAR_NEW', 'FLAG_EMAIL_NEW', 'FLAG_PHONE', 'FLAG_WORK_PHONE', 'CNT_FAM_MEMBERS_NEW']"
     ]
    }
   ],
   "source": [
    "cCols"
   ]
  },
  {
   "cell_type": "code",
   "execution_count": 14,
   "metadata": {},
   "outputs": [
    {
     "data": {
      "application/vnd.jupyter.widget-view+json": {
       "model_id": "ded5434e2ce9495aa4513b8f9ead4b05",
       "version_major": 2,
       "version_minor": 0
      },
      "text/plain": [
       "VBox()"
      ]
     },
     "metadata": {},
     "output_type": "display_data"
    },
    {
     "data": {
      "application/vnd.jupyter.widget-view+json": {
       "model_id": "",
       "version_major": 2,
       "version_minor": 0
      },
      "text/plain": [
       "FloatProgress(value=0.0, bar_style='info', description='Progress:', layout=Layout(height='25px', width='50%'),…"
      ]
     },
     "metadata": {},
     "output_type": "display_data"
    },
    {
     "name": "stdout",
     "output_type": "stream",
     "text": [
      "root\n",
      " |-- FLAG_PHONE: integer (nullable = true)\n",
      " |-- FLAG_WORK_PHONE: integer (nullable = true)\n",
      " |-- NAME_HOUSING_TYPE: string (nullable = true)\n",
      " |-- NAME_EDUCATION_TYPE: string (nullable = true)\n",
      " |-- CODE_GENDER: string (nullable = true)\n",
      " |-- CNT_CHILDREN: integer (nullable = true)\n",
      " |-- NAME_FAMILY_STATUS: string (nullable = true)\n",
      " |-- NAME_INCOME_TYPE: string (nullable = true)\n",
      " |-- OCCUPATION_TYPE_NEW: string (nullable = true)\n",
      " |-- Months_delay: integer (nullable = true)\n",
      " |-- y: integer (nullable = true)\n",
      " |-- FLAG_OWN_CAR_NEW: integer (nullable = true)\n",
      " |-- FLAG_EMAIL_NEW: integer (nullable = true)\n",
      " |-- CNT_FAM_MEMBERS_NEW: integer (nullable = true)"
     ]
    }
   ],
   "source": [
    "df.printSchema()"
   ]
  },
  {
   "cell_type": "code",
   "execution_count": 15,
   "metadata": {},
   "outputs": [
    {
     "data": {
      "application/vnd.jupyter.widget-view+json": {
       "model_id": "ade8b291bc484505bd4efe6022b3a78d",
       "version_major": 2,
       "version_minor": 0
      },
      "text/plain": [
       "VBox()"
      ]
     },
     "metadata": {},
     "output_type": "display_data"
    },
    {
     "data": {
      "application/vnd.jupyter.widget-view+json": {
       "model_id": "",
       "version_major": 2,
       "version_minor": 0
      },
      "text/plain": [
       "FloatProgress(value=0.0, bar_style='info', description='Progress:', layout=Layout(height='25px', width='50%'),…"
      ]
     },
     "metadata": {},
     "output_type": "display_data"
    }
   ],
   "source": [
    "# run the string indexer on the columns which are categorical but are represented by strings.\n",
    "# adding a string on the end of the output column to make it easy to identify\n",
    "\n",
    "stringCols = ['CODE_GENDER','NAME_FAMILY_STATUS','NAME_HOUSING_TYPE','NAME_INCOME_TYPE','NAME_EDUCATION_TYPE','OCCUPATION_TYPE_NEW']\n",
    "for c in stringCols:\n",
    "    outCol = c + '_ix'\n",
    "    si = StringIndexer(inputCol=c, outputCol=outCol)\n",
    "    df = si.fit(df).transform(df)"
   ]
  },
  {
   "cell_type": "code",
   "execution_count": 16,
   "metadata": {},
   "outputs": [
    {
     "data": {
      "application/vnd.jupyter.widget-view+json": {
       "model_id": "f583cb3b6ebc43aca22a3f14332a98d8",
       "version_major": 2,
       "version_minor": 0
      },
      "text/plain": [
       "VBox()"
      ]
     },
     "metadata": {},
     "output_type": "display_data"
    },
    {
     "data": {
      "application/vnd.jupyter.widget-view+json": {
       "model_id": "",
       "version_major": 2,
       "version_minor": 0
      },
      "text/plain": [
       "FloatProgress(value=0.0, bar_style='info', description='Progress:', layout=Layout(height='25px', width='50%'),…"
      ]
     },
     "metadata": {},
     "output_type": "display_data"
    },
    {
     "name": "stdout",
     "output_type": "stream",
     "text": [
      "['FLAG_OWN_CAR_NEW', 'FLAG_EMAIL_NEW', 'FLAG_PHONE', 'FLAG_WORK_PHONE', 'CNT_FAM_MEMBERS_NEW', 'CODE_GENDER_ix', 'NAME_FAMILY_STATUS_ix', 'NAME_HOUSING_TYPE_ix', 'NAME_INCOME_TYPE_ix', 'NAME_EDUCATION_TYPE_ix', 'OCCUPATION_TYPE_NEW_ix']"
     ]
    }
   ],
   "source": [
    "cCols += ['CODE_GENDER_ix','NAME_FAMILY_STATUS_ix','NAME_HOUSING_TYPE_ix','NAME_INCOME_TYPE_ix','NAME_EDUCATION_TYPE_ix','OCCUPATION_TYPE_NEW_ix']\n",
    "\n",
    "cCols"
   ]
  },
  {
   "cell_type": "code",
   "execution_count": 17,
   "metadata": {},
   "outputs": [
    {
     "data": {
      "application/vnd.jupyter.widget-view+json": {
       "model_id": "c67ad0f152f942b8a455d844253f8100",
       "version_major": 2,
       "version_minor": 0
      },
      "text/plain": [
       "VBox()"
      ]
     },
     "metadata": {},
     "output_type": "display_data"
    },
    {
     "data": {
      "application/vnd.jupyter.widget-view+json": {
       "model_id": "",
       "version_major": 2,
       "version_minor": 0
      },
      "text/plain": [
       "FloatProgress(value=0.0, bar_style='info', description='Progress:', layout=Layout(height='25px', width='50%'),…"
      ]
     },
     "metadata": {},
     "output_type": "display_data"
    }
   ],
   "source": [
    "# run all the categorical columns through the one hot encoder \n",
    "\n",
    "ohe = OneHotEncoderEstimator(inputCols=cCols, outputCols=[c+'Enc' for c in cCols])\n",
    "enc_model = ohe.fit(df)\n",
    "df = enc_model.transform(df)"
   ]
  },
  {
   "cell_type": "code",
   "execution_count": 18,
   "metadata": {},
   "outputs": [
    {
     "data": {
      "application/vnd.jupyter.widget-view+json": {
       "model_id": "b42adaf3e54e4fcb98233d6cc92e6644",
       "version_major": 2,
       "version_minor": 0
      },
      "text/plain": [
       "VBox()"
      ]
     },
     "metadata": {},
     "output_type": "display_data"
    },
    {
     "data": {
      "application/vnd.jupyter.widget-view+json": {
       "model_id": "",
       "version_major": 2,
       "version_minor": 0
      },
      "text/plain": [
       "FloatProgress(value=0.0, bar_style='info', description='Progress:', layout=Layout(height='25px', width='50%'),…"
      ]
     },
     "metadata": {},
     "output_type": "display_data"
    },
    {
     "name": "stdout",
     "output_type": "stream",
     "text": [
      "['FLAG_PHONE', 'FLAG_WORK_PHONE', 'NAME_HOUSING_TYPE', 'NAME_EDUCATION_TYPE', 'CODE_GENDER', 'CNT_CHILDREN', 'NAME_FAMILY_STATUS', 'NAME_INCOME_TYPE', 'OCCUPATION_TYPE_NEW', 'Months_delay', 'y', 'FLAG_OWN_CAR_NEW', 'FLAG_EMAIL_NEW', 'CNT_FAM_MEMBERS_NEW', 'CODE_GENDER_ix', 'NAME_FAMILY_STATUS_ix', 'NAME_HOUSING_TYPE_ix', 'NAME_INCOME_TYPE_ix', 'NAME_EDUCATION_TYPE_ix', 'OCCUPATION_TYPE_NEW_ix', 'OCCUPATION_TYPE_NEW_ixEnc', 'FLAG_PHONEEnc', 'CODE_GENDER_ixEnc', 'NAME_HOUSING_TYPE_ixEnc', 'FLAG_EMAIL_NEWEnc', 'NAME_EDUCATION_TYPE_ixEnc', 'FLAG_OWN_CAR_NEWEnc', 'CNT_FAM_MEMBERS_NEWEnc', 'NAME_FAMILY_STATUS_ixEnc', 'NAME_INCOME_TYPE_ixEnc', 'FLAG_WORK_PHONEEnc']"
     ]
    }
   ],
   "source": [
    "df.columns"
   ]
  },
  {
   "cell_type": "code",
   "execution_count": 19,
   "metadata": {},
   "outputs": [
    {
     "data": {
      "application/vnd.jupyter.widget-view+json": {
       "model_id": "caecb1acf35d4b489b5fc3270d28d45e",
       "version_major": 2,
       "version_minor": 0
      },
      "text/plain": [
       "VBox()"
      ]
     },
     "metadata": {},
     "output_type": "display_data"
    },
    {
     "data": {
      "application/vnd.jupyter.widget-view+json": {
       "model_id": "",
       "version_major": 2,
       "version_minor": 0
      },
      "text/plain": [
       "FloatProgress(value=0.0, bar_style='info', description='Progress:', layout=Layout(height='25px', width='50%'),…"
      ]
     },
     "metadata": {},
     "output_type": "display_data"
    }
   ],
   "source": [
    "# use the vector assember to combine all the encoded columns and the continuous variable columns \n",
    "\n",
    "# add the neumerical columns to the list of encoded traning columns\n",
    "trainCols = [c+'Enc' for c in cCols]\n",
    "trainCols += [\"CNT_CHILDREN\", \"Months_delay\"]\n",
    "#configure the assembler object and use it to transform df\n",
    "assembler = VectorAssembler(inputCols=trainCols, outputCol='features')\n",
    "df = assembler.transform(df)"
   ]
  },
  {
   "cell_type": "code",
   "execution_count": 22,
   "metadata": {},
   "outputs": [
    {
     "data": {
      "application/vnd.jupyter.widget-view+json": {
       "model_id": "d8d90faa0cf540c58df55503e3a159c6",
       "version_major": 2,
       "version_minor": 0
      },
      "text/plain": [
       "VBox()"
      ]
     },
     "metadata": {},
     "output_type": "display_data"
    },
    {
     "data": {
      "application/vnd.jupyter.widget-view+json": {
       "model_id": "",
       "version_major": 2,
       "version_minor": 0
      },
      "text/plain": [
       "FloatProgress(value=0.0, bar_style='info', description='Progress:', layout=Layout(height='25px', width='50%'),…"
      ]
     },
     "metadata": {},
     "output_type": "display_data"
    }
   ],
   "source": [
    "# split the data into training and testing data set\n",
    "\n",
    "df_train, df_test = df.randomSplit([0.7,0.3], seed = '2018')"
   ]
  },
  {
   "cell_type": "code",
   "execution_count": 23,
   "metadata": {},
   "outputs": [
    {
     "data": {
      "application/vnd.jupyter.widget-view+json": {
       "model_id": "80f6a2a668e1466ea93065dac8af4a88",
       "version_major": 2,
       "version_minor": 0
      },
      "text/plain": [
       "VBox()"
      ]
     },
     "metadata": {},
     "output_type": "display_data"
    },
    {
     "data": {
      "application/vnd.jupyter.widget-view+json": {
       "model_id": "",
       "version_major": 2,
       "version_minor": 0
      },
      "text/plain": [
       "FloatProgress(value=0.0, bar_style='info', description='Progress:', layout=Layout(height='25px', width='50%'),…"
      ]
     },
     "metadata": {},
     "output_type": "display_data"
    },
    {
     "name": "stdout",
     "output_type": "stream",
     "text": [
      "(25435, 10996)"
     ]
    }
   ],
   "source": [
    "df_train.count(),df_test.count()"
   ]
  },
  {
   "cell_type": "code",
   "execution_count": 24,
   "metadata": {},
   "outputs": [
    {
     "data": {
      "application/vnd.jupyter.widget-view+json": {
       "model_id": "19d07cbf8ec7457897dad8508597ebbf",
       "version_major": 2,
       "version_minor": 0
      },
      "text/plain": [
       "VBox()"
      ]
     },
     "metadata": {},
     "output_type": "display_data"
    },
    {
     "data": {
      "application/vnd.jupyter.widget-view+json": {
       "model_id": "",
       "version_major": 2,
       "version_minor": 0
      },
      "text/plain": [
       "FloatProgress(value=0.0, bar_style='info', description='Progress:', layout=Layout(height='25px', width='50%'),…"
      ]
     },
     "metadata": {},
     "output_type": "display_data"
    },
    {
     "name": "stdout",
     "output_type": "stream",
     "text": [
      "+----------+---------------+-----------------+-------------------+-----------+------------+--------------------+--------------------+-------------------+------------+---+----------------+--------------+-------------------+--------------+---------------------+--------------------+-------------------+----------------------+----------------------+-------------------------+-------------+-----------------+-----------------------+-----------------+-------------------------+-------------------+----------------------+------------------------+----------------------+------------------+--------------------+\n",
      "|FLAG_PHONE|FLAG_WORK_PHONE|NAME_HOUSING_TYPE|NAME_EDUCATION_TYPE|CODE_GENDER|CNT_CHILDREN|  NAME_FAMILY_STATUS|    NAME_INCOME_TYPE|OCCUPATION_TYPE_NEW|Months_delay|  y|FLAG_OWN_CAR_NEW|FLAG_EMAIL_NEW|CNT_FAM_MEMBERS_NEW|CODE_GENDER_ix|NAME_FAMILY_STATUS_ix|NAME_HOUSING_TYPE_ix|NAME_INCOME_TYPE_ix|NAME_EDUCATION_TYPE_ix|OCCUPATION_TYPE_NEW_ix|OCCUPATION_TYPE_NEW_ixEnc|FLAG_PHONEEnc|CODE_GENDER_ixEnc|NAME_HOUSING_TYPE_ixEnc|FLAG_EMAIL_NEWEnc|NAME_EDUCATION_TYPE_ixEnc|FLAG_OWN_CAR_NEWEnc|CNT_FAM_MEMBERS_NEWEnc|NAME_FAMILY_STATUS_ixEnc|NAME_INCOME_TYPE_ixEnc|FLAG_WORK_PHONEEnc|            features|\n",
      "+----------+---------------+-----------------+-------------------+-----------+------------+--------------------+--------------------+-------------------+------------+---+----------------+--------------+-------------------+--------------+---------------------+--------------------+-------------------+----------------------+----------------------+-------------------------+-------------+-----------------+-----------------------+-----------------+-------------------------+-------------------+----------------------+------------------------+----------------------+------------------+--------------------+\n",
      "|         0|              0|  Co-op apartment|   Higher education|          F|           0|             Married|             Working|             Others|           0|  0|               1|             0|                  2|           0.0|                  0.0|                 5.0|                0.0|                   1.0|                   0.0|           (18,[0],[1.0])|(1,[0],[1.0])|    (1,[0],[1.0])|              (5,[],[])|        (0,[],[])|            (4,[1],[1.0])|          (1,[],[])|         (6,[2],[1.0])|           (4,[0],[1.0])|         (4,[0],[1.0])|     (1,[0],[1.0])|(47,[1,2,5,9,10,1...|\n",
      "|         0|              0|  Co-op apartment|   Higher education|          F|           0|             Married|             Working|             Others|           0|  0|               1|             0|                  2|           0.0|                  0.0|                 5.0|                0.0|                   1.0|                   0.0|           (18,[0],[1.0])|(1,[0],[1.0])|    (1,[0],[1.0])|              (5,[],[])|        (0,[],[])|            (4,[1],[1.0])|          (1,[],[])|         (6,[2],[1.0])|           (4,[0],[1.0])|         (4,[0],[1.0])|     (1,[0],[1.0])|(47,[1,2,5,9,10,1...|\n",
      "|         0|              0|  Co-op apartment|   Higher education|          F|           0|             Married|             Working|        Sales staff|           0|  0|               1|             0|                  2|           0.0|                  0.0|                 5.0|                0.0|                   1.0|                   3.0|           (18,[3],[1.0])|(1,[0],[1.0])|    (1,[0],[1.0])|              (5,[],[])|        (0,[],[])|            (4,[1],[1.0])|          (1,[],[])|         (6,[2],[1.0])|           (4,[0],[1.0])|         (4,[0],[1.0])|     (1,[0],[1.0])|(47,[1,2,5,9,10,1...|\n",
      "|         0|              0|  Co-op apartment|   Higher education|          F|           0|Single / not married|Commercial associate|        Accountants|           0|  0|               0|             0|                  1|           0.0|                  1.0|                 5.0|                1.0|                   1.0|                   7.0|           (18,[7],[1.0])|(1,[0],[1.0])|    (1,[0],[1.0])|              (5,[],[])|        (0,[],[])|            (4,[1],[1.0])|      (1,[0],[1.0])|         (6,[1],[1.0])|           (4,[1],[1.0])|         (4,[1],[1.0])|     (1,[0],[1.0])|(47,[0,1,2,4,9,11...|\n",
      "|         0|              0|  Co-op apartment|   Higher education|          F|           0|Single / not married|Commercial associate|        Accountants|           0|  0|               0|             0|                  1|           0.0|                  1.0|                 5.0|                1.0|                   1.0|                   7.0|           (18,[7],[1.0])|(1,[0],[1.0])|    (1,[0],[1.0])|              (5,[],[])|        (0,[],[])|            (4,[1],[1.0])|      (1,[0],[1.0])|         (6,[1],[1.0])|           (4,[1],[1.0])|         (4,[1],[1.0])|     (1,[0],[1.0])|(47,[0,1,2,4,9,11...|\n",
      "+----------+---------------+-----------------+-------------------+-----------+------------+--------------------+--------------------+-------------------+------------+---+----------------+--------------+-------------------+--------------+---------------------+--------------------+-------------------+----------------------+----------------------+-------------------------+-------------+-----------------+-----------------------+-----------------+-------------------------+-------------------+----------------------+------------------------+----------------------+------------------+--------------------+\n",
      "only showing top 5 rows"
     ]
    }
   ],
   "source": [
    "df_train.show(5)"
   ]
  },
  {
   "cell_type": "code",
   "execution_count": 25,
   "metadata": {},
   "outputs": [
    {
     "data": {
      "application/vnd.jupyter.widget-view+json": {
       "model_id": "2a5f832b283642b1867fec3718eb21f7",
       "version_major": 2,
       "version_minor": 0
      },
      "text/plain": [
       "VBox()"
      ]
     },
     "metadata": {},
     "output_type": "display_data"
    },
    {
     "data": {
      "application/vnd.jupyter.widget-view+json": {
       "model_id": "",
       "version_major": 2,
       "version_minor": 0
      },
      "text/plain": [
       "FloatProgress(value=0.0, bar_style='info', description='Progress:', layout=Layout(height='25px', width='50%'),…"
      ]
     },
     "metadata": {},
     "output_type": "display_data"
    }
   ],
   "source": [
    "# train model in the training dataset\n",
    "\n",
    "# import the logistic model\n",
    "from pyspark.ml.classification import LogisticRegression\n",
    "\n",
    "# create the logistic model, configure it and call fit it to the data. \n",
    "lr = LogisticRegression(featuresCol='features', labelCol='y')\n",
    "model = lr.fit(df_train)"
   ]
  },
  {
   "cell_type": "code",
   "execution_count": 26,
   "metadata": {},
   "outputs": [
    {
     "data": {
      "application/vnd.jupyter.widget-view+json": {
       "model_id": "b48e291789fb4c15a46ab9c05f494c6e",
       "version_major": 2,
       "version_minor": 0
      },
      "text/plain": [
       "VBox()"
      ]
     },
     "metadata": {},
     "output_type": "display_data"
    },
    {
     "data": {
      "application/vnd.jupyter.widget-view+json": {
       "model_id": "",
       "version_major": 2,
       "version_minor": 0
      },
      "text/plain": [
       "FloatProgress(value=0.0, bar_style='info', description='Progress:', layout=Layout(height='25px', width='50%'),…"
      ]
     },
     "metadata": {},
     "output_type": "display_data"
    },
    {
     "name": "stdout",
     "output_type": "stream",
     "text": [
      "[0.9999088339866897, 0.037037037037037035]"
     ]
    }
   ],
   "source": [
    "# use the model to predict the class labels of test data. \n",
    "\n",
    "result_test = model.evaluate(df_test)\n",
    "\n",
    "result_test.recallByLabel"
   ]
  },
  {
   "cell_type": "code",
   "execution_count": null,
   "metadata": {},
   "outputs": [],
   "source": []
  },
  {
   "cell_type": "code",
   "execution_count": null,
   "metadata": {},
   "outputs": [],
   "source": []
  },
  {
   "cell_type": "code",
   "execution_count": 27,
   "metadata": {},
   "outputs": [
    {
     "data": {
      "application/vnd.jupyter.widget-view+json": {
       "model_id": "41f69984c1c0490b8892c0c4a0e3ef3e",
       "version_major": 2,
       "version_minor": 0
      },
      "text/plain": [
       "VBox()"
      ]
     },
     "metadata": {},
     "output_type": "display_data"
    },
    {
     "data": {
      "application/vnd.jupyter.widget-view+json": {
       "model_id": "",
       "version_major": 2,
       "version_minor": 0
      },
      "text/plain": [
       "FloatProgress(value=0.0, bar_style='info', description='Progress:', layout=Layout(height='25px', width='50%'),…"
      ]
     },
     "metadata": {},
     "output_type": "display_data"
    },
    {
     "name": "stdout",
     "output_type": "stream",
     "text": [
      "Package                    Version\n",
      "-------------------------- -------\n",
      "beautifulsoup4             4.9.0  \n",
      "boto                       2.49.0 \n",
      "jmespath                   0.9.5  \n",
      "lxml                       4.5.0  \n",
      "mysqlclient                1.4.2  \n",
      "nltk                       3.4.5  \n",
      "nose                       1.3.4  \n",
      "numpy                      1.16.5 \n",
      "pip                        9.0.1  \n",
      "py-dateutil                2.2    \n",
      "python37-sagemaker-pyspark 1.3.0  \n",
      "pytz                       2019.3 \n",
      "PyYAML                     5.3.1  \n",
      "setuptools                 28.8.0 \n",
      "six                        1.13.0 \n",
      "soupsieve                  1.9.5  \n",
      "wheel                      0.29.0 \n",
      "windmill                   1.6"
     ]
    }
   ],
   "source": [
    "sc.list_packages()"
   ]
  },
  {
   "cell_type": "code",
   "execution_count": 28,
   "metadata": {},
   "outputs": [
    {
     "data": {
      "application/vnd.jupyter.widget-view+json": {
       "model_id": "3070e83c03f64f58b0e2a0c21821849e",
       "version_major": 2,
       "version_minor": 0
      },
      "text/plain": [
       "VBox()"
      ]
     },
     "metadata": {},
     "output_type": "display_data"
    },
    {
     "data": {
      "application/vnd.jupyter.widget-view+json": {
       "model_id": "",
       "version_major": 2,
       "version_minor": 0
      },
      "text/plain": [
       "FloatProgress(value=0.0, bar_style='info', description='Progress:', layout=Layout(height='25px', width='50%'),…"
      ]
     },
     "metadata": {},
     "output_type": "display_data"
    },
    {
     "name": "stdout",
     "output_type": "stream",
     "text": [
      "Collecting pandas==0.25.1\n",
      "  Downloading https://files.pythonhosted.org/packages/7e/ab/ea76361f9d3e732e114adcd801d2820d5319c23d0ac5482fa3b412db217e/pandas-0.25.1-cp37-cp37m-manylinux1_x86_64.whl (10.4MB)\n",
      "Requirement already satisfied: pytz>=2017.2 in /usr/local/lib/python3.7/site-packages (from pandas==0.25.1)\n",
      "Requirement already satisfied: numpy>=1.13.3 in /usr/local/lib64/python3.7/site-packages (from pandas==0.25.1)\n",
      "Collecting python-dateutil>=2.6.1 (from pandas==0.25.1)\n",
      "  Downloading https://files.pythonhosted.org/packages/d4/70/d60450c3dd48ef87586924207ae8907090de0b306af2bce5d134d78615cb/python_dateutil-2.8.1-py2.py3-none-any.whl (227kB)\n",
      "Requirement already satisfied: six>=1.5 in /usr/local/lib/python3.7/site-packages (from python-dateutil>=2.6.1->pandas==0.25.1)\n",
      "Installing collected packages: python-dateutil, pandas\n",
      "Successfully installed pandas-0.25.1 python-dateutil-2.8.1\n",
      "\n",
      "Collecting matplotlib\n",
      "  Downloading https://files.pythonhosted.org/packages/87/a6/8d7d06f6b69236a3c1818157875ceb1259ba0d9df4194f4fe138ffdc0f41/matplotlib-3.3.2-cp37-cp37m-manylinux1_x86_64.whl (11.6MB)\n",
      "Collecting certifi>=2020.06.20 (from matplotlib)\n",
      "  Downloading https://files.pythonhosted.org/packages/5e/c4/6c4fe722df5343c33226f0b4e0bb042e4dc13483228b4718baf286f86d87/certifi-2020.6.20-py2.py3-none-any.whl (156kB)\n",
      "Requirement already satisfied: numpy>=1.15 in /usr/local/lib64/python3.7/site-packages (from matplotlib)\n",
      "Requirement already satisfied: python-dateutil>=2.1 in /mnt/tmp/1601299658656-0/lib/python3.7/site-packages (from matplotlib)\n",
      "Collecting pyparsing!=2.0.4,!=2.1.2,!=2.1.6,>=2.0.3 (from matplotlib)\n",
      "  Downloading https://files.pythonhosted.org/packages/8a/bb/488841f56197b13700afd5658fc279a2025a39e22449b7cf29864669b15d/pyparsing-2.4.7-py2.py3-none-any.whl (67kB)\n",
      "Collecting pillow>=6.2.0 (from matplotlib)\n",
      "  Downloading https://files.pythonhosted.org/packages/e8/f2/6722dd0c22e3a143ac792ccb2424924ac72af4adea756b1165b4cad50da7/Pillow-7.2.0-cp37-cp37m-manylinux1_x86_64.whl (2.2MB)\n",
      "Collecting cycler>=0.10 (from matplotlib)\n",
      "  Downloading https://files.pythonhosted.org/packages/f7/d2/e07d3ebb2bd7af696440ce7e754c59dd546ffe1bbe732c8ab68b9c834e61/cycler-0.10.0-py2.py3-none-any.whl\n",
      "Collecting kiwisolver>=1.0.1 (from matplotlib)\n",
      "  Downloading https://files.pythonhosted.org/packages/31/b9/6202dcae729998a0ade30e80ac00f616542ef445b088ec970d407dfd41c0/kiwisolver-1.2.0-cp37-cp37m-manylinux1_x86_64.whl (88kB)\n",
      "Requirement already satisfied: six>=1.5 in /usr/local/lib/python3.7/site-packages (from python-dateutil>=2.1->matplotlib)\n",
      "Installing collected packages: certifi, pyparsing, pillow, cycler, kiwisolver, matplotlib\n",
      "Successfully installed certifi-2020.6.20 cycler-0.10.0 kiwisolver-1.2.0 matplotlib-3.3.2 pillow-7.2.0 pyparsing-2.4.7"
     ]
    }
   ],
   "source": [
    "sc.install_pypi_package(\"pandas==0.25.1\") #Install pandas version 0.25.1 \n",
    "sc.install_pypi_package(\"matplotlib\", \"https://pypi.org/simple\") #Install matplotlib from given PyPI repository"
   ]
  },
  {
   "cell_type": "code",
   "execution_count": 29,
   "metadata": {},
   "outputs": [
    {
     "data": {
      "application/vnd.jupyter.widget-view+json": {
       "model_id": "4ae779f906ce44959c41f294f4e26cd8",
       "version_major": 2,
       "version_minor": 0
      },
      "text/plain": [
       "VBox()"
      ]
     },
     "metadata": {},
     "output_type": "display_data"
    },
    {
     "data": {
      "application/vnd.jupyter.widget-view+json": {
       "model_id": "",
       "version_major": 2,
       "version_minor": 0
      },
      "text/plain": [
       "FloatProgress(value=0.0, bar_style='info', description='Progress:', layout=Layout(height='25px', width='50%'),…"
      ]
     },
     "metadata": {},
     "output_type": "display_data"
    },
    {
     "data": {
      "image/png": "[encoded data removed]",
      "text/plain": [
       "<IPython.core.display.Image object>"
      ]
     },
     "metadata": {},
     "output_type": "display_data"
    }
   ],
   "source": [
    "import matplotlib.pyplot as plt\n",
    "plt.figure(figsize=(5,5))\n",
    "plt.plot([0, 1], [0, 1], 'r--')\n",
    "plt.plot(model.summary.roc.select('FPR').collect(),\n",
    "         model.summary.roc.select('TPR').collect())\n",
    "plt.xlabel('FPR')\n",
    "plt.ylabel('TPR')\n",
    "plt.show()\n",
    "%matplot plt"
   ]
  },
  {
   "cell_type": "code",
   "execution_count": 30,
   "metadata": {},
   "outputs": [
    {
     "data": {
      "application/vnd.jupyter.widget-view+json": {
       "model_id": "89ddecc7760e463e98bc4eca7c2ea0d8",
       "version_major": 2,
       "version_minor": 0
      },
      "text/plain": [
       "VBox()"
      ]
     },
     "metadata": {},
     "output_type": "display_data"
    },
    {
     "data": {
      "application/vnd.jupyter.widget-view+json": {
       "model_id": "",
       "version_major": 2,
       "version_minor": 0
      },
      "text/plain": [
       "FloatProgress(value=0.0, bar_style='info', description='Progress:', layout=Layout(height='25px', width='50%'),…"
      ]
     },
     "metadata": {},
     "output_type": "display_data"
    }
   ],
   "source": [
    "result_test.predictions.write.option(\"header\", \"true\").parquet(\"s3n://mynithbuck/logistic/credit_card_details.parquet\")"
   ]
  },
  {
   "cell_type": "code",
   "execution_count": null,
   "metadata": {},
   "outputs": [],
   "source": []
  },
  {
   "cell_type": "code",
   "execution_count": null,
   "metadata": {},
   "outputs": [],
   "source": []
  },
  {
   "cell_type": "code",
   "execution_count": null,
   "metadata": {},
   "outputs": [],
   "source": []
  },
  {
   "cell_type": "code",
   "execution_count": null,
   "metadata": {},
   "outputs": [],
   "source": []
  },
  {
   "cell_type": "code",
   "execution_count": null,
   "metadata": {},
   "outputs": [],
   "source": []
  }
 ],
 "metadata": {
  "kernelspec": {
   "display_name": "Python 3",
   "language": "python",
   "name": "python3"
  },
  "language_info": {
   "codemirror_mode": {
    "name": "ipython",
    "version": 3
   },
   "file_extension": ".py",
   "mimetype": "text/x-python",
   "name": "python",
   "nbconvert_exporter": "python",
   "pygments_lexer": "ipython3",
   "version": "3.7.4"
  }
 },
 "nbformat": 4,
 "nbformat_minor": 4
}
